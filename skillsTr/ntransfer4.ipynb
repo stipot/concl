{
 "cells": [
  {
   "cell_type": "markdown",
   "id": "e9aa6c52-fce1-414a-b7e6-1c8c2bce0592",
   "metadata": {},
   "source": [
    "# %% [markdown]\n",
    "\n",
    " # Модульная архитектура"
   ]
  },
  {
   "cell_type": "code",
   "execution_count": 1,
   "id": "b2c6f1c9-fcac-4099-9bdd-46b976ac8df0",
   "metadata": {},
   "outputs": [],
   "source": [
    "# %%\n",
    "\n",
    "import os\n",
    "import torch\n",
    "import torch.nn as nn\n",
    "import torch.optim as optim\n",
    "from torch.utils.data import DataLoader, Subset, TensorDataset\n",
    "from collections import defaultdict, Counter\n",
    "import random\n",
    "import time\n",
    "import plotly.graph_objects as go\n",
    "from plotly.subplots import make_subplots\n",
    "from sklearn.metrics import confusion_matrix\n",
    "import seaborn as sns\n",
    "import matplotlib.pyplot as plt  # Для альтернативной визуализации (опционально)"
   ]
  },
  {
   "cell_type": "markdown",
   "id": "b77a7d84-9a78-48fc-bfe9-5cbc06943b90",
   "metadata": {},
   "source": [
    "# %% [markdown]\n",
    "\n",
    " ## Определение Моделей\n",
    " ### Autoencoder"
   ]
  },
  {
   "cell_type": "code",
   "execution_count": null,
   "id": "1e0a83f4-9317-4cc2-8563-b2cd1f682705",
   "metadata": {},
   "outputs": [],
   "source": [
    "# %%\n",
    "\n",
    "\n",
    "\n",
    "class Autoencoder(nn.Module):\n",
    "\n",
    "\n",
    "    def __init__(self, latent_dim=512):\n",
    "\n",
    "\n",
    "        super(Autoencoder, self).__init__()\n",
    "\n",
    "\n",
    "        self.encoder = nn.Sequential(\n",
    "            # Слои энкодера\n",
    "            nn.Conv2d(3, 64, kernel_size=3, stride=1, padding=1),\n",
    "            nn.BatchNorm2d(64),\n",
    "            nn.ReLU(),\n",
    "            nn.MaxPool2d(2),  # 16x16\n",
    "            nn.Conv2d(64, 128, kernel_size=3, stride=1, padding=1),\n",
    "            nn.BatchNorm2d(128),\n",
    "            nn.ReLU(),\n",
    "            nn.MaxPool2d(2),  # 8x8\n",
    "            nn.Conv2d(128, 256, kernel_size=3, stride=1, padding=1),\n",
    "            nn.BatchNorm2d(256),\n",
    "            nn.ReLU(),\n",
    "            nn.MaxPool2d(2),  # 4x4\n",
    "            nn.Conv2d(256, 512, kernel_size=3, stride=1, padding=1),\n",
    "            nn.BatchNorm2d(512),\n",
    "            nn.ReLU(),\n",
    "            nn.MaxPool2d(2),  # 2x2\n",
    "        )\n",
    "\n",
    "\n",
    "        self.fc_enc = nn.Linear(512 * 2 * 2, latent_dim)\n",
    "\n",
    "\n",
    "        self.fc_dec = nn.Linear(latent_dim, 512 * 2 * 2)\n",
    "\n",
    "\n",
    "        self.decoder = nn.Sequential(\n",
    "            # Слои декодера\n",
    "            nn.ConvTranspose2d(512, 256, kernel_size=4, stride=2, padding=1),  # 4x4\n",
    "            nn.BatchNorm2d(256),\n",
    "            nn.ReLU(),\n",
    "            nn.ConvTranspose2d(256, 128, kernel_size=4, stride=2, padding=1),  # 8x8\n",
    "            nn.BatchNorm2d(128),\n",
    "            nn.ReLU(),\n",
    "            nn.ConvTranspose2d(128, 64, kernel_size=4, stride=2, padding=1),  # 16x16\n",
    "            nn.BatchNorm2d(64),\n",
    "            nn.ReLU(),\n",
    "            nn.ConvTranspose2d(64, 3, kernel_size=4, stride=2, padding=1),  # 32x32\n",
    "            nn.Sigmoid(),\n",
    "        )\n",
    "\n",
    "\n",
    "    def forward(self, x):\n",
    "\n",
    "\n",
    "        z = self.encoder(x)\n",
    "\n",
    "\n",
    "        z = z.view(z.size(0), -1)\n",
    "        z = self.fc_enc(z)\n",
    "\n",
    "\n",
    "        h = self.fc_dec(z)\n",
    "\n",
    "\n",
    "        h = h.view(z.size(0), 512, 2, 2)\n",
    "\n",
    "\n",
    "        x_recon = self.decoder(h)\n",
    "\n",
    "\n",
    "        return x_recon, z\n",
    "\n",
    "\n",
    "    def encode(self, x, require_grad=True):\n",
    "\n",
    "\n",
    "        if not require_grad:\n",
    "\n",
    "\n",
    "            with torch.no_grad():\n",
    "\n",
    "\n",
    "                z = self.encoder(x)\n",
    "\n",
    "\n",
    "                z = z.view(z.size(0), -1)\n",
    "                z = self.fc_enc(z)\n",
    "\n",
    "\n",
    "        else:\n",
    "\n",
    "\n",
    "            z = self.encoder(x)\n",
    "\n",
    "\n",
    "            z = z.view(z.size(0), -1)\n",
    "            z = self.fc_enc(z)\n",
    "\n",
    "\n",
    "        return z"
   ]
  },
  {
   "cell_type": "markdown",
   "id": "5d98630e-b221-4ff7-a886-ca1c86d44a97",
   "metadata": {},
   "source": [
    "# %% [markdown]\n",
    "\n",
    " ### BinaryClassifier"
   ]
  },
  {
   "cell_type": "code",
   "execution_count": null,
   "id": "893da262-c7b5-49a5-8eed-197cc0ffcba0",
   "metadata": {},
   "outputs": [],
   "source": [
    "# %%\n",
    "\n",
    "\n",
    "\n",
    "class BinaryClassifier(nn.Module):\n",
    "\n",
    "\n",
    "    def __init__(self, embedding_dim=512):\n",
    "\n",
    "\n",
    "        super(BinaryClassifier, self).__init__()\n",
    "\n",
    "\n",
    "        self.fc = nn.Sequential(nn.Linear(embedding_dim, 256), nn.ReLU(), nn.Dropout(0.5), nn.Linear(256, 1))\n",
    "\n",
    "\n",
    "    def forward(self, z):\n",
    "\n",
    "\n",
    "        out = self.fc(z)\n",
    "\n",
    "\n",
    "        return out  # Без активации, т.к. используем BCEWithLogitsLoss"
   ]
  },
  {
   "cell_type": "markdown",
   "id": "bbd03c49-710e-48f8-826f-7ac5e4104692",
   "metadata": {},
   "source": [
    "# %% [markdown]\n",
    "\n",
    " ### 1.3. CombinedBinaryClassifier"
   ]
  },
  {
   "cell_type": "code",
   "execution_count": null,
   "id": "9e82a430-fd04-4f26-b991-a1f0f8fa2470",
   "metadata": {},
   "outputs": [],
   "source": [
    "# %%\n",
    "\n",
    "\n",
    "\n",
    "class CombinedBinaryClassifier(nn.Module):\n",
    "\n",
    "\n",
    "    def __init__(self, binary_classifiers, num_classes):\n",
    "\n",
    "\n",
    "        super(CombinedBinaryClassifier, self).__init__()\n",
    "\n",
    "\n",
    "        self.binary_classifiers = nn.ModuleList(binary_classifiers)\n",
    "\n",
    "\n",
    "        self.num_classes = num_classes\n",
    "\n",
    "\n",
    "    def forward(self, z):\n",
    "\n",
    "\n",
    "        logits = []\n",
    "\n",
    "\n",
    "        for classifier in self.binary_classifiers:\n",
    "\n",
    "\n",
    "            out = classifier(z)\n",
    "\n",
    "\n",
    "            logits.append(out)\n",
    "\n",
    "\n",
    "        logits = torch.cat(logits, dim=1)  # [batch, num_classes]\n",
    "\n",
    "\n",
    "        return logits  # Без активации, будем применять sigmoid позже"
   ]
  },
  {
   "cell_type": "markdown",
   "id": "9d7be5aa-1d9d-4473-95ff-a473205cdf95",
   "metadata": {},
   "source": [
    "# %% [markdown]\n",
    "\n",
    " ### 1.4. Определение Класса MulticlassClassifier"
   ]
  },
  {
   "cell_type": "code",
   "execution_count": 5,
   "id": "906b015a-20a4-465d-a65c-6985a9fd08e1",
   "metadata": {},
   "outputs": [],
   "source": [
    "# %%\n",
    "\n",
    "import torch.nn as nn\n",
    "\n",
    "\n",
    "class MulticlassClassifier(nn.Module):\n",
    "    def __init__(self, embedding_dim=512, num_classes=10):\n",
    "        super(MulticlassClassifier, self).__init__()\n",
    "        self.fc = nn.Sequential(nn.Linear(embedding_dim, 256), nn.ReLU(), nn.Dropout(0.5), nn.Linear(256, num_classes))\n",
    "\n",
    "    def forward(self, z):\n",
    "        out = self.fc(z)\n",
    "        return out  # Без softmax, так как используем CrossEntropyLoss"
   ]
  },
  {
   "cell_type": "markdown",
   "id": "84721d1e-81a2-4453-b1df-ba69499d4374",
   "metadata": {},
   "source": [
    "# %% [markdown]\n",
    "\n",
    " ## 2. Определение Класса Trainer\n",
    " Класс Trainer будет управлять процессами обучения автокодировщика, бинарных классификаторов, объединённой модели и дообучения энкодера."
   ]
  },
  {
   "cell_type": "code",
   "execution_count": 6,
   "id": "bf5e1651-f643-48e3-9b37-afa10d77e2d3",
   "metadata": {},
   "outputs": [],
   "source": [
    "# %%\n",
    "\n",
    "import os\n",
    "import torch\n",
    "import torch.nn as nn\n",
    "import torch.optim as optim\n",
    "from torch.utils.data import DataLoader, Subset, TensorDataset\n",
    "from collections import defaultdict, Counter\n",
    "import random\n",
    "import time\n",
    "import plotly.graph_objects as go\n",
    "from plotly.subplots import make_subplots\n",
    "\n",
    "\n",
    "class Trainer:\n",
    "    def __init__(self, num_classes=10, latent_dim=512, batch_size=128, device=\"cuda\" if torch.cuda.is_available() else \"cpu\", save_dir=\"./saved_models\"):\n",
    "        self.num_classes = num_classes\n",
    "        self.latent_dim = latent_dim\n",
    "        self.batch_size = batch_size\n",
    "        self.device = device\n",
    "        self.save_dir = save_dir\n",
    "        os.makedirs(self.save_dir, exist_ok=True)\n",
    "\n",
    "        # Инициализация моделей\n",
    "        self.autoencoder = Autoencoder(latent_dim=self.latent_dim).to(self.device)\n",
    "        self.binary_classifiers = [BinaryClassifier(embedding_dim=self.latent_dim).to(self.device) for _ in range(self.num_classes)]\n",
    "        self.combined_model = CombinedBinaryClassifier(self.binary_classifiers, self.num_classes).to(self.device)\n",
    "\n",
    "        # Потери и точности\n",
    "        self.ae_loss_log = []\n",
    "        self.binary_loss_logs = defaultdict(list)\n",
    "        self.binary_acc_logs = defaultdict(list)\n",
    "        self.fine_tune_loss_log = []\n",
    "        self.fine_tune_acc_log = []\n",
    "\n",
    "        # Точности до и после финетюнинга\n",
    "        self.acc_combined_before = 0.0\n",
    "        self.error_rate_before = 1.0\n",
    "        self.acc_combined_after = 0.0\n",
    "        self.error_rate_after = 1.0\n",
    "\n",
    "    def prepare_dataloaders(self, train_subset, test_subset):\n",
    "        self.train_loader = DataLoader(train_subset, batch_size=self.batch_size, shuffle=True, num_workers=2, pin_memory=True)\n",
    "        self.test_loader = DataLoader(test_subset, batch_size=self.batch_size, shuffle=False, num_workers=2, pin_memory=True)\n",
    "\n",
    "    def train_autoencoder(self, epochs=10, lr=0.001):\n",
    "        print(\"\\nИнициализация и обучение автокодировщика...\")\n",
    "        optimizer_ae = optim.Adam(self.autoencoder.parameters(), lr=lr)\n",
    "        criterion_ae = nn.MSELoss()\n",
    "\n",
    "        for ep in range(epochs):\n",
    "            epoch_start = time.time()\n",
    "            self.autoencoder.train()\n",
    "            running_loss = 0.0\n",
    "            for d, _ in self.train_loader:\n",
    "                d = d.to(self.device)\n",
    "                optimizer_ae.zero_grad()\n",
    "                x_recon, z = self.autoencoder(d)\n",
    "                loss = criterion_ae(x_recon, d)\n",
    "                loss.backward()\n",
    "                optimizer_ae.step()\n",
    "                running_loss += loss.item() * d.size(0)\n",
    "            epoch_loss = running_loss / len(self.train_loader.dataset)\n",
    "            self.ae_loss_log.append(epoch_loss)\n",
    "            epoch_end = time.time()\n",
    "            print(f\"Эпоха {ep+1}/{epochs}, Потери AE: {epoch_loss:.6f}, Время: {epoch_end - epoch_start:.2f} сек.\")\n",
    "\n",
    "    def train_binary_classifiers(self, epochs=10, lr=0.001):\n",
    "        print(\"\\nОбучение бинарных классификаторов для каждого класса...\")\n",
    "        criterion_cls = nn.BCEWithLogitsLoss()\n",
    "\n",
    "        for cls in range(self.num_classes):\n",
    "            print(f\"\\nОбучение классификатора для класса {cls} vs все остальные\")\n",
    "\n",
    "            # Создаём бинарный датасет: 50% класс, 50% остальные\n",
    "            pos_samples = [i for i, (_, target) in enumerate(train_subset) if target == cls]\n",
    "            neg_samples = random.sample([i for i, (_, target) in enumerate(train_subset) if target != cls], len(pos_samples))\n",
    "\n",
    "            # Объединяем индексы\n",
    "            binary_indices = pos_samples + neg_samples\n",
    "\n",
    "            # Собираем данные и переименовываем метки\n",
    "            binary_data = torch.stack([train_subset[i][0] for i in binary_indices], dim=0)\n",
    "            binary_targets = torch.cat([torch.ones(len(pos_samples)), torch.zeros(len(neg_samples))], dim=0).float()\n",
    "\n",
    "            # Создаём TensorDataset с правильными метками\n",
    "            binary_dataset = TensorDataset(binary_data, binary_targets)\n",
    "\n",
    "            # Создаём DataLoader\n",
    "            binary_loader = DataLoader(binary_dataset, batch_size=self.batch_size, shuffle=True, num_workers=2, pin_memory=True)\n",
    "\n",
    "            # Инициализируем оптимизатор\n",
    "            optimizer_cls = optim.Adam(self.binary_classifiers[cls].parameters(), lr=lr)\n",
    "\n",
    "            # Обучение\n",
    "            for ep in range(epochs):\n",
    "                loss, acc = self._train_binary_classifier(self.binary_classifiers[cls], optimizer_cls, criterion_cls, binary_loader)\n",
    "                self.binary_loss_logs[cls].append(loss)\n",
    "                self.binary_acc_logs[cls].append(acc)\n",
    "                print(f\"Epoch {ep+1}/{epochs}, Loss: {loss:.4f}, Accuracy: {acc*100:.2f}%\")\n",
    "\n",
    "    def _train_binary_classifier(self, model, optimizer, criterion, loader):\n",
    "        model.train()\n",
    "        running_loss = 0.0\n",
    "        correct = 0\n",
    "        total = 0\n",
    "        for data, target in loader:\n",
    "            data, target = data.to(self.device), target.to(self.device).unsqueeze(1).float()\n",
    "            optimizer.zero_grad()\n",
    "            z = self.autoencoder.encode(data)\n",
    "            outputs = model(z)\n",
    "            loss = criterion(outputs, target)\n",
    "            loss.backward()\n",
    "            optimizer.step()\n",
    "\n",
    "            running_loss += loss.item() * data.size(0)\n",
    "\n",
    "            preds = torch.sigmoid(outputs) >= 0.5\n",
    "            correct += (preds.float() == target).sum().item()\n",
    "            total += target.size(0)\n",
    "        epoch_loss = running_loss / total\n",
    "        epoch_acc = correct / total\n",
    "        return epoch_loss, epoch_acc\n",
    "\n",
    "    def evaluate_combined_model(self, loader):\n",
    "        self.combined_model.eval()\n",
    "        self.autoencoder.eval()\n",
    "        correct = 0\n",
    "        total = 0\n",
    "        pred_all = []\n",
    "        target_all = []\n",
    "        with torch.no_grad():\n",
    "            for data, target in loader:\n",
    "                data, target = data.to(self.device), target.to(self.device)\n",
    "                z = self.autoencoder.encode(data)\n",
    "                logits = self.combined_model(z)  # [batch, num_classes]\n",
    "                probs = torch.sigmoid(logits)\n",
    "                preds = torch.argmax(probs, dim=1)\n",
    "                correct += (preds == target).sum().item()\n",
    "                total += target.size(0)\n",
    "                pred_all.append(preds.cpu())\n",
    "                target_all.append(target.cpu())\n",
    "        if total > 0:\n",
    "            pred_all = torch.cat(pred_all)\n",
    "            target_all = torch.cat(target_all)\n",
    "            accuracy = correct / total\n",
    "            error_rate = 1 - accuracy\n",
    "            print(f\"Combined model accuracy on all classes (0-{self.num_classes-1}): {accuracy*100:.2f}%\")\n",
    "            print(f\"Error rate: {error_rate*100:.2f}%\")\n",
    "            return accuracy, error_rate, pred_all, target_all\n",
    "        else:\n",
    "            return 0.0, 1.0, None, None\n",
    "\n",
    "    def accuracy_per_class(self, pred_all, target_all):\n",
    "        print(\"\\nAccuracy per class:\")\n",
    "        class_correct = [0] * self.num_classes\n",
    "        class_total = [0] * self.num_classes\n",
    "        for p, t in zip(pred_all, target_all):\n",
    "            class_total[t.item()] += 1\n",
    "            if p.item() == t.item():\n",
    "                class_correct[t.item()] += 1\n",
    "        for cls in range(self.num_classes):\n",
    "            if class_total[cls] > 0:\n",
    "                acc = class_correct[cls] / class_total[cls] * 100\n",
    "                print(f\"Class {cls}: {acc:.2f}%\")\n",
    "            else:\n",
    "                print(f\"Class {cls}: No samples in test set.\")\n",
    "\n",
    "    def save_models(self, suffix=\"before_finetune\"):\n",
    "        print(\"\\nСохранение моделей...\")\n",
    "        autoenc_save_path = os.path.join(self.save_dir, f\"autoencoder_{suffix}.pth\")\n",
    "        torch.save(self.autoencoder.state_dict(), autoenc_save_path)\n",
    "        print(f\"Autoencoder сохранён по пути: {autoenc_save_path}\")\n",
    "\n",
    "        combined_model_save_path = os.path.join(self.save_dir, f\"combined_model_{suffix}.pth\")\n",
    "        torch.save(self.combined_model.state_dict(), combined_model_save_path)\n",
    "        print(f\"CombinedBinaryClassifier сохранён по пути: {combined_model_save_path}\")\n",
    "\n",
    "        # Сохранение бинарных классификаторов отдельно\n",
    "        for cls in range(self.num_classes):\n",
    "            classifier_save_path = os.path.join(self.save_dir, f\"binary_classifier_class_{cls}_{suffix}.pth\")\n",
    "            torch.save(self.binary_classifiers[cls].state_dict(), classifier_save_path)\n",
    "            print(f\"BinaryClassifier {cls} сохранён по пути: {classifier_save_path}\")\n",
    "\n",
    "    def load_models(self, suffix=\"before_finetune\"):\n",
    "        print(\"\\nЗагрузка моделей...\")\n",
    "        autoenc_save_path = os.path.join(self.save_dir, f\"autoencoder_{suffix}.pth\")\n",
    "        self.autoencoder.load_state_dict(torch.load(autoenc_save_path))\n",
    "        self.autoencoder.to(self.device)\n",
    "        print(f\"Autoencoder загружен из {autoenc_save_path}\")\n",
    "\n",
    "        combined_model_save_path = os.path.join(self.save_dir, f\"combined_model_{suffix}.pth\")\n",
    "        self.combined_model.load_state_dict(torch.load(combined_model_save_path))\n",
    "        self.combined_model.to(self.device)\n",
    "        print(f\"CombinedBinaryClassifier загружен из {combined_model_save_path}\")\n",
    "\n",
    "        # Загрузка бинарных классификаторов отдельно\n",
    "        for cls in range(self.num_classes):\n",
    "            classifier_save_path = os.path.join(self.save_dir, f\"binary_classifier_class_{cls}_{suffix}.pth\")\n",
    "            self.binary_classifiers[cls].load_state_dict(torch.load(classifier_save_path))\n",
    "            self.binary_classifiers[cls].to(self.device)\n",
    "            print(f\"BinaryClassifier {cls} загружен из {classifier_save_path}\")\n",
    "\n",
    "    def fine_tune_encoder(self, fine_tune_loader, epochs=3, lr=0.0005):\n",
    "        print(\"\\nДообучение энкодера на небольшой выборке с фиксированными классификаторами...\")\n",
    "        criterion_fine = nn.BCEWithLogitsLoss()\n",
    "        optimizer_enc = optim.Adam([p for p in self.autoencoder.parameters() if p.requires_grad], lr=lr)\n",
    "\n",
    "        for ep in range(epochs):\n",
    "            ep_start = time.time()  # Определяем ep_start перед обучением\n",
    "            loss_fine, acc_fine = self._train_encoder_fixed_classifiers(criterion_fine, fine_tune_loader, optimizer_enc)\n",
    "            self.fine_tune_loss_log.append(loss_fine)\n",
    "            self.fine_tune_acc_log.append(acc_fine)\n",
    "            ep_end = time.time()\n",
    "            print(f\"Fine-tuning Epoch {ep+1}/{epochs}, Loss: {loss_fine:.4f}, Accuracy: {acc_fine*100:.2f}%, Время: {ep_end - ep_start:.2f} сек.\")\n",
    "\n",
    "    def _train_encoder_fixed_classifiers(self, criterion, loader, optimizer):\n",
    "        self.combined_model.eval()  # Классификаторы фиксированы\n",
    "        self.autoencoder.train()\n",
    "        running_loss = 0.0\n",
    "        correct = 0\n",
    "        total = 0\n",
    "        for data, target in loader:\n",
    "            data, target = data.to(self.device), target.to(self.device).long()\n",
    "            batch_size = data.size(0)\n",
    "            optimizer.zero_grad()\n",
    "            z = self.autoencoder.encode(data, require_grad=True)  # Позволяем градиентам проходить\n",
    "\n",
    "            # Получаем логиты из всех классификаторов\n",
    "            logits_all = []\n",
    "            for cls in range(self.num_classes):\n",
    "                classifier = self.combined_model.binary_classifiers[cls]\n",
    "                logit = classifier(z)  # [batch_size,1]\n",
    "                logits_all.append(logit)\n",
    "            logits_all = torch.cat(logits_all, dim=1)  # [batch_size, num_classes]\n",
    "\n",
    "            # Создаём целевые метки: 1 для правильного класса, 0 для остальных\n",
    "            targets = torch.zeros(batch_size, self.num_classes).to(self.device)\n",
    "            targets[torch.arange(batch_size), target] = 1.0\n",
    "\n",
    "            # Вычисляем loss\n",
    "            loss = criterion(logits_all, targets)\n",
    "            loss.backward()\n",
    "            optimizer.step()\n",
    "\n",
    "            running_loss += loss.item() * batch_size\n",
    "\n",
    "            # Предсказания: sigmoid and argmax\n",
    "            preds = torch.sigmoid(logits_all)\n",
    "            preds = torch.argmax(preds, dim=1)\n",
    "            correct += (preds == target).sum().item()\n",
    "            total += batch_size\n",
    "        avg_loss = running_loss / total\n",
    "        accuracy = correct / total\n",
    "        return avg_loss, accuracy\n",
    "\n",
    "    def plot_results(self):\n",
    "        print(\"\\nГрафическое отображение результатов...\")\n",
    "\n",
    "        # Усреднение потерь и точности по всем бинарным классификаторам\n",
    "        mean_binary_loss_per_epoch = [sum(vals) / len(vals) for vals in zip(*self.binary_loss_logs.values())]\n",
    "        mean_binary_acc_per_epoch = [sum(vals) / len(vals) for vals in zip(*self.binary_acc_logs.values())]\n",
    "\n",
    "        fig = make_subplots(\n",
    "            rows=2,\n",
    "            cols=2,\n",
    "            subplot_titles=(\n",
    "                \"Потери Автокодировщика\",\n",
    "                \"Потери и Точность Бинарных Классификаторов (среднее по всем классам)\",\n",
    "                \"Потери и Точность Дообучения Энкодера\",\n",
    "                \"Итоговая Точность Модели\",\n",
    "            ),\n",
    "        )\n",
    "\n",
    "        # Потери Автокодировщика\n",
    "        fig.add_trace(go.Scatter(y=self.ae_loss_log, mode=\"lines+markers\", name=\"AE Loss\"), row=1, col=1)\n",
    "\n",
    "        # Средние потери и точность бинарных классификаторов\n",
    "        fig.add_trace(go.Scatter(y=mean_binary_loss_per_epoch, mode=\"lines+markers\", name=\"Binary Cls Mean Loss\"), row=1, col=2)\n",
    "        fig.add_trace(go.Scatter(y=mean_binary_acc_per_epoch, mode=\"lines+markers\", name=\"Binary Cls Mean Acc\"), row=1, col=2)\n",
    "\n",
    "        # Потери и точность Дообучения Энкодера\n",
    "        fig.add_trace(go.Scatter(y=self.fine_tune_loss_log, mode=\"lines+markers\", name=\"Fine-tune Loss\"), row=2, col=1)\n",
    "        fig.add_trace(go.Scatter(y=self.fine_tune_acc_log, mode=\"lines+markers\", name=\"Fine-tune Accuracy\"), row=2, col=1)\n",
    "\n",
    "        # Итоговая Точность Модели до и после Дообучения\n",
    "        fig.add_trace(\n",
    "            go.Bar(\n",
    "                x=[\"Before Fine-tuning\", \"After Fine-tuning\"], y=[self.acc_combined_before, self.acc_combined_after], name=\"Combined Model Accuracy\", marker_color=[\"blue\", \"green\"]\n",
    "            ),\n",
    "            row=2,\n",
    "            col=2,\n",
    "        )\n",
    "\n",
    "        fig.update_layout(height=800, width=1200, title_text=\"Анализ Обучения\", showlegend=True)\n",
    "        fig.show()\n",
    "\n",
    "        # Отображение confusion matrix до финетюнинга\n",
    "        if hasattr(self, \"cm_before\"):\n",
    "            fig_cm_before = go.Figure(data=go.Heatmap(z=self.cm_before, x=list(range(self.num_classes)), y=list(range(self.num_classes)), colorscale=\"Blues\"))\n",
    "            fig_cm_before.update_layout(title=\"Confusion Matrix Before Fine-tuning\", xaxis_title=\"Predicted\", yaxis_title=\"True\")\n",
    "            fig_cm_before.show()\n",
    "\n",
    "        # Отображение confusion matrix после финетюнинга\n",
    "        if hasattr(self, \"cm_after\"):\n",
    "            fig_cm_after = go.Figure(data=go.Heatmap(z=self.cm_after, x=list(range(self.num_classes)), y=list(range(self.num_classes)), colorscale=\"Blues\"))\n",
    "            fig_cm_after.update_layout(title=\"Confusion Matrix After Fine-tuning\", xaxis_title=\"Predicted\", yaxis_title=\"True\")\n",
    "            fig_cm_after.show()\n",
    "\n",
    "    def perform_full_cycle(self, train_subset, test_subset, fine_tune_epochs=3, fine_tune_lr=0.0005):\n",
    "        \"\"\"\n",
    "        Выполняет полный цикл:\n",
    "        1. Обучение автокодировщика\n",
    "        2. Обучение бинарных классификаторов\n",
    "        3. Оценка модели\n",
    "        4. Сохранение моделей перед финетюнингом\n",
    "        5. Финетюнинг энкодера\n",
    "        6. Оценка модели после финетюнинга\n",
    "        7. Сохранение моделей после финетюнинга\n",
    "        \"\"\"\n",
    "        self.prepare_dataloaders(train_subset, test_subset)\n",
    "        self.train_autoencoder(epochs=epochs, lr=0.001)\n",
    "        self.train_binary_classifiers(epochs=epochs, lr=0.001)\n",
    "        self.evaluate_and_log()\n",
    "        self.save_models(suffix=\"before_finetune\")\n",
    "        self.fine_tune_encoder_after_cycle(fine_tune_epochs, fine_tune_lr)\n",
    "        self.evaluate_and_log(after_finetune=True)\n",
    "        self.save_models(suffix=\"after_finetune\")\n",
    "\n",
    "    def evaluate_and_log(self, after_finetune=False):\n",
    "        print(\"\\nОценка объединённой модели...\")\n",
    "        if after_finetune:\n",
    "            prefix = \"После финетюнинга\"\n",
    "        else:\n",
    "            prefix = \"До финетюнинга\"\n",
    "        print(f\"{prefix} оценки модели на тестовом наборе:\")\n",
    "        acc, error_rate, pred_all, target_all = self.evaluate_combined_model(self.test_loader)\n",
    "        self.accuracy_per_class(pred_all, target_all)\n",
    "        cm = confusion_matrix(target_all, pred_all, labels=list(range(self.num_classes)))\n",
    "        if after_finetune:\n",
    "            self.cm_after = cm\n",
    "        else:\n",
    "            self.cm_before = cm\n",
    "\n",
    "    def fine_tune_encoder_after_cycle(self, fine_tune_epochs=3, fine_tune_lr=0.0005):\n",
    "        # Создаём выборку для дообучения\n",
    "        fine_tune_subset = create_fine_tuning_subset(train_dataset, self.num_classes, samples_per_class)\n",
    "        fine_tune_loader = DataLoader(fine_tune_subset, batch_size=self.batch_size, shuffle=True, num_workers=2, pin_memory=True)\n",
    "        self.fine_tune_encoder(fine_tune_loader, epochs=fine_tune_epochs, lr=fine_tune_lr)"
   ]
  },
  {
   "cell_type": "markdown",
   "id": "de1abf5e-35e8-4fbe-9eb7-5dd159e8ae72",
   "metadata": {},
   "source": [
    "# %% [markdown]\n",
    "\n",
    " ## 3. Подготовка Данных\n",
    " Создадим утилитные функции для подготовки датасетов и загрузчиков."
   ]
  },
  {
   "cell_type": "code",
   "execution_count": 7,
   "id": "c0dc36f1-3701-4f9c-8d92-393e50f0848f",
   "metadata": {},
   "outputs": [],
   "source": [
    "# %%\n",
    "\n",
    "from torchvision import datasets, transforms\n",
    "from torch.utils.data import DataLoader, Subset\n",
    "from collections import defaultdict, Counter\n",
    "import random\n",
    "\n",
    "\n",
    "def filter_dataset(dataset, num_classes, min_samples):\n",
    "    \"\"\"\n",
    "    Фильтрует датасет, оставляя только `num_classes` классов и минимум `min_samples` образцов на класс.\n",
    "    \"\"\"\n",
    "    class_counts = Counter()\n",
    "    class_indices = defaultdict(list)\n",
    "\n",
    "    # Собираем индексы для каждого класса\n",
    "    for idx, (_, target) in enumerate(dataset):\n",
    "        if target < num_classes:\n",
    "            class_indices[target].append(idx)\n",
    "            class_counts[target] += 1\n",
    "\n",
    "    # Проверяем, что каждый класс имеет минимум образцов\n",
    "    for cls in range(num_classes):\n",
    "        if class_counts[cls] < min_samples:\n",
    "            raise ValueError(f\"Класс {cls} имеет только {class_counts[cls]} образцов, требуется минимум {min_samples}.\")\n",
    "\n",
    "    # Ограничиваем количество образцов до min_samples для каждого класса\n",
    "    selected_indices = []\n",
    "    for cls in range(num_classes):\n",
    "        selected_indices.extend(class_indices[cls][:min_samples])\n",
    "\n",
    "    return Subset(dataset, selected_indices)"
   ]
  },
  {
   "cell_type": "markdown",
   "id": "2321452b-7ed4-4cdd-8b92-0bc9e6c1fc54",
   "metadata": {},
   "source": [
    "# %% [markdown]\n",
    "\n",
    " ## 4. Основной Скрипт\n",
    " Теперь объединим всё вместе в основном скрипте, который будет использовать класс Trainer для выполнения всех этапов обучения, сохранения и загрузки моделей.\n",
    "\n",
    " ### 4.1. Ячейка 1: Обучение Автокодировщика и Бинарных Классификаторов, Сохранение Моделей"
   ]
  },
  {
   "cell_type": "code",
   "execution_count": 12,
   "id": "3ec090d9-4905-46ef-8e61-d5a87589d69a",
   "metadata": {},
   "outputs": [
    {
     "name": "stdout",
     "output_type": "stream",
     "text": [
      "Files already downloaded and verified\n",
      "Files already downloaded and verified\n",
      "\n",
      "Инициализация и обучение автокодировщика...\n",
      "Эпоха 1/20, Потери AE: 1.554889, Время: 12.84 сек.\n",
      "Эпоха 2/20, Потери AE: 1.291915, Время: 13.87 сек.\n",
      "Эпоха 3/20, Потери AE: 1.218748, Время: 13.68 сек.\n",
      "Эпоха 4/20, Потери AE: 1.192972, Время: 13.27 сек.\n",
      "Эпоха 5/20, Потери AE: 1.173945, Время: 13.96 сек.\n",
      "Эпоха 6/20, Потери AE: 1.151428, Время: 13.30 сек.\n",
      "Эпоха 7/20, Потери AE: 1.137183, Время: 13.69 сек.\n",
      "Эпоха 8/20, Потери AE: 1.125795, Время: 13.19 сек.\n",
      "Эпоха 9/20, Потери AE: 1.119001, Время: 13.93 сек.\n",
      "Эпоха 10/20, Потери AE: 1.118337, Время: 13.52 сек.\n",
      "Эпоха 11/20, Потери AE: 1.112142, Время: 13.53 сек.\n",
      "Эпоха 12/20, Потери AE: 1.097180, Время: 13.35 сек.\n",
      "Эпоха 13/20, Потери AE: 1.093362, Время: 13.58 сек.\n",
      "Эпоха 14/20, Потери AE: 1.093930, Время: 12.93 сек.\n",
      "Эпоха 15/20, Потери AE: 1.087524, Время: 12.88 сек.\n",
      "Эпоха 16/20, Потери AE: 1.084496, Время: 12.93 сек.\n",
      "Эпоха 17/20, Потери AE: 1.088712, Время: 13.21 сек.\n",
      "Эпоха 18/20, Потери AE: 1.088935, Время: 13.02 сек.\n",
      "Эпоха 19/20, Потери AE: 1.085364, Время: 13.03 сек.\n",
      "Эпоха 20/20, Потери AE: 1.079991, Время: 13.42 сек.\n",
      "\n",
      "Обучение бинарных классификаторов для каждого класса...\n",
      "\n",
      "Обучение классификатора для класса 0 vs все остальные\n",
      "Epoch 1/20, Loss: 0.9654, Accuracy: 53.25%\n",
      "Epoch 2/20, Loss: 0.7110, Accuracy: 65.50%\n",
      "Epoch 3/20, Loss: 0.6529, Accuracy: 70.25%\n",
      "Epoch 4/20, Loss: 0.6560, Accuracy: 68.25%\n",
      "Epoch 5/20, Loss: 0.6107, Accuracy: 69.75%\n",
      "Epoch 6/20, Loss: 0.6104, Accuracy: 68.00%\n",
      "Epoch 7/20, Loss: 0.5454, Accuracy: 73.75%\n",
      "Epoch 8/20, Loss: 0.5775, Accuracy: 71.50%\n",
      "Epoch 9/20, Loss: 0.5739, Accuracy: 69.75%\n",
      "Epoch 10/20, Loss: 0.5647, Accuracy: 73.00%\n",
      "Epoch 11/20, Loss: 0.5198, Accuracy: 74.00%\n",
      "Epoch 12/20, Loss: 0.4868, Accuracy: 77.75%\n",
      "Epoch 13/20, Loss: 0.4934, Accuracy: 76.25%\n",
      "Epoch 14/20, Loss: 0.4956, Accuracy: 75.50%\n",
      "Epoch 15/20, Loss: 0.4716, Accuracy: 76.25%\n",
      "Epoch 16/20, Loss: 0.4534, Accuracy: 77.00%\n",
      "Epoch 17/20, Loss: 0.4456, Accuracy: 78.25%\n",
      "Epoch 18/20, Loss: 0.4333, Accuracy: 79.25%\n",
      "Epoch 19/20, Loss: 0.4395, Accuracy: 81.25%\n",
      "Epoch 20/20, Loss: 0.4503, Accuracy: 78.75%\n",
      "\n",
      "Обучение классификатора для класса 1 vs все остальные\n",
      "Epoch 1/20, Loss: 0.8977, Accuracy: 52.50%\n",
      "Epoch 2/20, Loss: 0.8734, Accuracy: 63.75%\n",
      "Epoch 3/20, Loss: 0.7283, Accuracy: 66.75%\n",
      "Epoch 4/20, Loss: 0.6593, Accuracy: 65.00%\n",
      "Epoch 5/20, Loss: 0.6782, Accuracy: 65.50%\n",
      "Epoch 6/20, Loss: 0.5898, Accuracy: 67.75%\n",
      "Epoch 7/20, Loss: 0.6081, Accuracy: 70.75%\n",
      "Epoch 8/20, Loss: 0.6230, Accuracy: 70.00%\n",
      "Epoch 9/20, Loss: 0.6034, Accuracy: 70.00%\n",
      "Epoch 10/20, Loss: 0.5624, Accuracy: 72.50%\n",
      "Epoch 11/20, Loss: 0.5867, Accuracy: 69.75%\n",
      "Epoch 12/20, Loss: 0.5726, Accuracy: 71.25%\n",
      "Epoch 13/20, Loss: 0.5282, Accuracy: 74.75%\n",
      "Epoch 14/20, Loss: 0.5191, Accuracy: 74.50%\n",
      "Epoch 15/20, Loss: 0.4917, Accuracy: 76.50%\n",
      "Epoch 16/20, Loss: 0.5260, Accuracy: 74.00%\n",
      "Epoch 17/20, Loss: 0.4890, Accuracy: 76.00%\n",
      "Epoch 18/20, Loss: 0.5423, Accuracy: 72.00%\n",
      "Epoch 19/20, Loss: 0.4999, Accuracy: 77.75%\n",
      "Epoch 20/20, Loss: 0.4984, Accuracy: 76.50%\n",
      "\n",
      "Обучение классификатора для класса 2 vs все остальные\n",
      "Epoch 1/20, Loss: 0.9250, Accuracy: 52.00%\n",
      "Epoch 2/20, Loss: 0.8632, Accuracy: 62.50%\n",
      "Epoch 3/20, Loss: 0.7202, Accuracy: 62.25%\n",
      "Epoch 4/20, Loss: 0.6577, Accuracy: 66.00%\n",
      "Epoch 5/20, Loss: 0.6049, Accuracy: 67.00%\n",
      "Epoch 6/20, Loss: 0.6469, Accuracy: 66.00%\n",
      "Epoch 7/20, Loss: 0.5972, Accuracy: 71.25%\n",
      "Epoch 8/20, Loss: 0.5979, Accuracy: 69.00%\n",
      "Epoch 9/20, Loss: 0.6629, Accuracy: 66.00%\n",
      "Epoch 10/20, Loss: 0.6355, Accuracy: 68.75%\n",
      "Epoch 11/20, Loss: 0.5727, Accuracy: 69.00%\n",
      "Epoch 12/20, Loss: 0.5568, Accuracy: 73.00%\n",
      "Epoch 13/20, Loss: 0.5600, Accuracy: 73.00%\n",
      "Epoch 14/20, Loss: 0.5290, Accuracy: 75.00%\n",
      "Epoch 15/20, Loss: 0.5454, Accuracy: 74.75%\n",
      "Epoch 16/20, Loss: 0.5466, Accuracy: 75.00%\n",
      "Epoch 17/20, Loss: 0.5744, Accuracy: 66.00%\n",
      "Epoch 18/20, Loss: 0.5349, Accuracy: 71.50%\n",
      "Epoch 19/20, Loss: 0.5243, Accuracy: 74.25%\n",
      "Epoch 20/20, Loss: 0.5857, Accuracy: 72.50%\n",
      "\n",
      "Обучение классификатора для класса 3 vs все остальные\n",
      "Epoch 1/20, Loss: 0.9722, Accuracy: 52.75%\n",
      "Epoch 2/20, Loss: 0.7921, Accuracy: 56.50%\n",
      "Epoch 3/20, Loss: 0.7673, Accuracy: 55.50%\n",
      "Epoch 4/20, Loss: 0.6772, Accuracy: 60.00%\n",
      "Epoch 5/20, Loss: 0.6472, Accuracy: 64.00%\n",
      "Epoch 6/20, Loss: 0.6546, Accuracy: 66.25%\n",
      "Epoch 7/20, Loss: 0.6452, Accuracy: 65.75%\n",
      "Epoch 8/20, Loss: 0.6241, Accuracy: 66.25%\n",
      "Epoch 9/20, Loss: 0.6292, Accuracy: 65.75%\n",
      "Epoch 10/20, Loss: 0.6258, Accuracy: 67.50%\n",
      "Epoch 11/20, Loss: 0.5811, Accuracy: 68.50%\n",
      "Epoch 12/20, Loss: 0.5836, Accuracy: 69.25%\n",
      "Epoch 13/20, Loss: 0.5266, Accuracy: 75.25%\n",
      "Epoch 14/20, Loss: 0.5725, Accuracy: 69.50%\n",
      "Epoch 15/20, Loss: 0.5571, Accuracy: 72.00%\n",
      "Epoch 16/20, Loss: 0.5593, Accuracy: 71.00%\n",
      "Epoch 17/20, Loss: 0.5379, Accuracy: 73.00%\n",
      "Epoch 18/20, Loss: 0.5820, Accuracy: 72.25%\n",
      "Epoch 19/20, Loss: 0.5567, Accuracy: 71.25%\n",
      "Epoch 20/20, Loss: 0.5164, Accuracy: 76.25%\n",
      "\n",
      "Обучение классификатора для класса 4 vs все остальные\n",
      "Epoch 1/20, Loss: 0.9453, Accuracy: 53.75%\n",
      "Epoch 2/20, Loss: 0.8425, Accuracy: 67.25%\n",
      "Epoch 3/20, Loss: 0.6971, Accuracy: 64.00%\n",
      "Epoch 4/20, Loss: 0.7065, Accuracy: 65.00%\n",
      "Epoch 5/20, Loss: 0.6634, Accuracy: 65.50%\n",
      "Epoch 6/20, Loss: 0.7306, Accuracy: 67.25%\n",
      "Epoch 7/20, Loss: 0.6096, Accuracy: 68.00%\n",
      "Epoch 8/20, Loss: 0.5944, Accuracy: 67.75%\n",
      "Epoch 9/20, Loss: 0.6101, Accuracy: 65.75%\n",
      "Epoch 10/20, Loss: 0.5716, Accuracy: 71.25%\n",
      "Epoch 11/20, Loss: 0.5905, Accuracy: 68.75%\n",
      "Epoch 12/20, Loss: 0.5706, Accuracy: 72.00%\n",
      "Epoch 13/20, Loss: 0.5824, Accuracy: 71.25%\n",
      "Epoch 14/20, Loss: 0.5809, Accuracy: 70.25%\n",
      "Epoch 15/20, Loss: 0.5319, Accuracy: 72.75%\n",
      "Epoch 16/20, Loss: 0.5577, Accuracy: 70.75%\n",
      "Epoch 17/20, Loss: 0.5514, Accuracy: 72.75%\n",
      "Epoch 18/20, Loss: 0.5255, Accuracy: 72.75%\n",
      "Epoch 19/20, Loss: 0.5336, Accuracy: 74.75%\n",
      "Epoch 20/20, Loss: 0.5650, Accuracy: 69.50%\n",
      "\n",
      "Обучение классификатора для класса 5 vs все остальные\n",
      "Epoch 1/20, Loss: 0.8783, Accuracy: 54.50%\n",
      "Epoch 2/20, Loss: 0.6964, Accuracy: 66.25%\n",
      "Epoch 3/20, Loss: 0.6955, Accuracy: 61.00%\n",
      "Epoch 4/20, Loss: 0.6371, Accuracy: 65.25%\n",
      "Epoch 5/20, Loss: 0.6764, Accuracy: 67.50%\n",
      "Epoch 6/20, Loss: 0.5958, Accuracy: 70.25%\n",
      "Epoch 7/20, Loss: 0.5688, Accuracy: 69.75%\n",
      "Epoch 8/20, Loss: 0.6266, Accuracy: 69.25%\n",
      "Epoch 9/20, Loss: 0.5833, Accuracy: 70.50%\n",
      "Epoch 10/20, Loss: 0.5726, Accuracy: 70.25%\n",
      "Epoch 11/20, Loss: 0.5391, Accuracy: 73.50%\n",
      "Epoch 12/20, Loss: 0.5435, Accuracy: 74.00%\n",
      "Epoch 13/20, Loss: 0.5279, Accuracy: 73.75%\n",
      "Epoch 14/20, Loss: 0.5356, Accuracy: 74.50%\n",
      "Epoch 15/20, Loss: 0.5150, Accuracy: 73.75%\n",
      "Epoch 16/20, Loss: 0.5052, Accuracy: 75.75%\n",
      "Epoch 17/20, Loss: 0.5299, Accuracy: 73.75%\n",
      "Epoch 18/20, Loss: 0.5382, Accuracy: 75.25%\n",
      "Epoch 19/20, Loss: 0.5368, Accuracy: 74.00%\n",
      "Epoch 20/20, Loss: 0.4903, Accuracy: 76.50%\n",
      "\n",
      "Обучение классификатора для класса 6 vs все остальные\n",
      "Epoch 1/20, Loss: 0.9715, Accuracy: 60.75%\n",
      "Epoch 2/20, Loss: 0.6935, Accuracy: 66.00%\n",
      "Epoch 3/20, Loss: 0.7288, Accuracy: 65.25%\n",
      "Epoch 4/20, Loss: 0.6618, Accuracy: 69.00%\n",
      "Epoch 5/20, Loss: 0.6828, Accuracy: 68.75%\n",
      "Epoch 6/20, Loss: 0.6217, Accuracy: 67.75%\n",
      "Epoch 7/20, Loss: 0.6404, Accuracy: 67.50%\n",
      "Epoch 8/20, Loss: 0.5682, Accuracy: 70.50%\n",
      "Epoch 9/20, Loss: 0.5395, Accuracy: 73.50%\n",
      "Epoch 10/20, Loss: 0.5692, Accuracy: 72.00%\n",
      "Epoch 11/20, Loss: 0.5718, Accuracy: 70.75%\n",
      "Epoch 12/20, Loss: 0.5610, Accuracy: 72.00%\n",
      "Epoch 13/20, Loss: 0.5183, Accuracy: 72.50%\n",
      "Epoch 14/20, Loss: 0.5086, Accuracy: 75.50%\n",
      "Epoch 15/20, Loss: 0.4930, Accuracy: 74.50%\n",
      "Epoch 16/20, Loss: 0.5321, Accuracy: 74.50%\n",
      "Epoch 17/20, Loss: 0.4872, Accuracy: 77.25%\n",
      "Epoch 18/20, Loss: 0.4856, Accuracy: 78.25%\n",
      "Epoch 19/20, Loss: 0.4586, Accuracy: 77.75%\n",
      "Epoch 20/20, Loss: 0.4776, Accuracy: 78.75%\n",
      "\n",
      "Обучение классификатора для класса 7 vs все остальные\n",
      "Epoch 1/20, Loss: 0.7401, Accuracy: 58.50%\n",
      "Epoch 2/20, Loss: 0.7396, Accuracy: 63.00%\n",
      "Epoch 3/20, Loss: 0.7794, Accuracy: 63.25%\n",
      "Epoch 4/20, Loss: 0.6719, Accuracy: 64.25%\n",
      "Epoch 5/20, Loss: 0.6552, Accuracy: 65.25%\n",
      "Epoch 6/20, Loss: 0.6554, Accuracy: 68.25%\n",
      "Epoch 7/20, Loss: 0.5973, Accuracy: 71.00%\n",
      "Epoch 8/20, Loss: 0.6055, Accuracy: 70.00%\n",
      "Epoch 9/20, Loss: 0.5935, Accuracy: 69.25%\n",
      "Epoch 10/20, Loss: 0.5904, Accuracy: 70.00%\n",
      "Epoch 11/20, Loss: 0.5876, Accuracy: 68.50%\n",
      "Epoch 12/20, Loss: 0.5156, Accuracy: 71.25%\n",
      "Epoch 13/20, Loss: 0.5831, Accuracy: 71.75%\n",
      "Epoch 14/20, Loss: 0.5483, Accuracy: 74.25%\n",
      "Epoch 15/20, Loss: 0.5407, Accuracy: 74.75%\n",
      "Epoch 16/20, Loss: 0.5583, Accuracy: 70.50%\n",
      "Epoch 17/20, Loss: 0.5386, Accuracy: 74.00%\n",
      "Epoch 18/20, Loss: 0.5249, Accuracy: 74.00%\n",
      "Epoch 19/20, Loss: 0.5501, Accuracy: 73.25%\n",
      "Epoch 20/20, Loss: 0.4990, Accuracy: 75.75%\n",
      "\n",
      "Обучение классификатора для класса 8 vs все остальные\n",
      "Epoch 1/20, Loss: 0.8022, Accuracy: 61.25%\n",
      "Epoch 2/20, Loss: 0.7168, Accuracy: 63.75%\n",
      "Epoch 3/20, Loss: 0.6671, Accuracy: 69.25%\n",
      "Epoch 4/20, Loss: 0.6022, Accuracy: 71.25%\n",
      "Epoch 5/20, Loss: 0.6191, Accuracy: 70.75%\n",
      "Epoch 6/20, Loss: 0.6165, Accuracy: 69.50%\n",
      "Epoch 7/20, Loss: 0.5518, Accuracy: 72.25%\n",
      "Epoch 8/20, Loss: 0.5531, Accuracy: 74.00%\n",
      "Epoch 9/20, Loss: 0.5665, Accuracy: 75.00%\n",
      "Epoch 10/20, Loss: 0.5395, Accuracy: 72.75%\n",
      "Epoch 11/20, Loss: 0.5383, Accuracy: 72.00%\n",
      "Epoch 12/20, Loss: 0.5352, Accuracy: 74.00%\n",
      "Epoch 13/20, Loss: 0.4717, Accuracy: 76.50%\n",
      "Epoch 14/20, Loss: 0.4779, Accuracy: 77.00%\n",
      "Epoch 15/20, Loss: 0.5302, Accuracy: 76.75%\n",
      "Epoch 16/20, Loss: 0.4930, Accuracy: 76.25%\n",
      "Epoch 17/20, Loss: 0.5094, Accuracy: 74.00%\n",
      "Epoch 18/20, Loss: 0.4670, Accuracy: 78.00%\n",
      "Epoch 19/20, Loss: 0.4675, Accuracy: 76.75%\n",
      "Epoch 20/20, Loss: 0.4776, Accuracy: 76.25%\n",
      "\n",
      "Обучение классификатора для класса 9 vs все остальные\n",
      "Epoch 1/20, Loss: 0.8001, Accuracy: 57.75%\n",
      "Epoch 2/20, Loss: 0.6938, Accuracy: 69.25%\n",
      "Epoch 3/20, Loss: 0.5961, Accuracy: 73.25%\n",
      "Epoch 4/20, Loss: 0.5582, Accuracy: 72.25%\n",
      "Epoch 5/20, Loss: 0.5511, Accuracy: 73.00%\n",
      "Epoch 6/20, Loss: 0.5058, Accuracy: 76.75%\n",
      "Epoch 7/20, Loss: 0.4875, Accuracy: 76.75%\n",
      "Epoch 8/20, Loss: 0.4734, Accuracy: 77.00%\n",
      "Epoch 9/20, Loss: 0.4768, Accuracy: 76.00%\n",
      "Epoch 10/20, Loss: 0.4421, Accuracy: 77.00%\n",
      "Epoch 11/20, Loss: 0.4715, Accuracy: 76.75%\n",
      "Epoch 12/20, Loss: 0.4227, Accuracy: 79.50%\n",
      "Epoch 13/20, Loss: 0.4494, Accuracy: 79.00%\n",
      "Epoch 14/20, Loss: 0.4002, Accuracy: 80.75%\n",
      "Epoch 15/20, Loss: 0.3921, Accuracy: 80.75%\n",
      "Epoch 16/20, Loss: 0.3942, Accuracy: 81.75%\n",
      "Epoch 17/20, Loss: 0.4145, Accuracy: 80.25%\n",
      "Epoch 18/20, Loss: 0.3702, Accuracy: 83.25%\n",
      "Epoch 19/20, Loss: 0.3875, Accuracy: 80.50%\n",
      "Epoch 20/20, Loss: 0.4013, Accuracy: 79.75%\n",
      "Combined model accuracy on all classes (0-9): 25.00%\n",
      "Error rate: 75.00%\n",
      "\n",
      "Accuracy per class:\n",
      "Class 0: 37.00%\n",
      "Class 1: 21.00%\n",
      "Class 2: 20.50%\n",
      "Class 3: 14.00%\n",
      "Class 4: 8.50%\n",
      "Class 5: 22.00%\n",
      "Class 6: 44.00%\n",
      "Class 7: 18.00%\n",
      "Class 8: 35.50%\n",
      "Class 9: 29.50%\n",
      "\n",
      "Сохранение моделей...\n",
      "Autoencoder сохранён по пути: ./saved_models\\autoencoder_before_finetune.pth\n",
      "CombinedBinaryClassifier сохранён по пути: ./saved_models\\combined_model_before_finetune.pth\n",
      "BinaryClassifier 0 сохранён по пути: ./saved_models\\binary_classifier_class_0_before_finetune.pth\n",
      "BinaryClassifier 1 сохранён по пути: ./saved_models\\binary_classifier_class_1_before_finetune.pth\n",
      "BinaryClassifier 2 сохранён по пути: ./saved_models\\binary_classifier_class_2_before_finetune.pth\n",
      "BinaryClassifier 3 сохранён по пути: ./saved_models\\binary_classifier_class_3_before_finetune.pth\n",
      "BinaryClassifier 4 сохранён по пути: ./saved_models\\binary_classifier_class_4_before_finetune.pth\n",
      "BinaryClassifier 5 сохранён по пути: ./saved_models\\binary_classifier_class_5_before_finetune.pth\n",
      "BinaryClassifier 6 сохранён по пути: ./saved_models\\binary_classifier_class_6_before_finetune.pth\n",
      "BinaryClassifier 7 сохранён по пути: ./saved_models\\binary_classifier_class_7_before_finetune.pth\n",
      "BinaryClassifier 8 сохранён по пути: ./saved_models\\binary_classifier_class_8_before_finetune.pth\n",
      "BinaryClassifier 9 сохранён по пути: ./saved_models\\binary_classifier_class_9_before_finetune.pth\n"
     ]
    }
   ],
   "source": [
    "# %%\n",
    "\n",
    "import torch\n",
    "from torchvision import datasets, transforms\n",
    "from torch.utils.data import DataLoader, Subset\n",
    "import random\n",
    "from collections import defaultdict, Counter\n",
    "\n",
    "# Предполагается, что классы Autoencoder, MulticlassClassifier и Trainer уже определены выше\n",
    "\n",
    "# Настройки\n",
    "num_classes = 10\n",
    "latent_dim = 512\n",
    "batch_size = 128\n",
    "epochs = 20\n",
    "min_samples_per_class = 200  # Увеличено до 200\n",
    "max_test_samples = 10000\n",
    "save_dir = \"./saved_models\"\n",
    "\n",
    "# Подготовка трансформаций с аугментацией данных\n",
    "transform = transforms.Compose(\n",
    "    [\n",
    "        transforms.Resize(32),\n",
    "        transforms.RandomHorizontalFlip(),\n",
    "        transforms.RandomCrop(32, padding=4),\n",
    "        transforms.ToTensor(),\n",
    "        transforms.Normalize((0.4914, 0.4822, 0.4465), (0.247, 0.243, 0.261)),\n",
    "    ]\n",
    ")\n",
    "\n",
    "# Загрузка датасетов\n",
    "train_dataset = datasets.CIFAR10(root=\"./data\", train=True, download=True, transform=transform)\n",
    "test_dataset = datasets.CIFAR10(root=\"./data\", train=False, download=True, transform=transform)\n",
    "\n",
    "# Фильтрация датасетов\n",
    "train_subset = filter_dataset(train_dataset, num_classes, min_samples_per_class)\n",
    "test_subset = filter_dataset(test_dataset, num_classes, min_samples_per_class)\n",
    "\n",
    "# Ограничение тестового набора\n",
    "if len(test_subset) > max_test_samples:\n",
    "    test_indices = random.sample(range(len(test_subset)), max_test_samples)\n",
    "    test_subset = Subset(test_subset, test_indices)\n",
    "\n",
    "# Инициализация тренера\n",
    "trainer = Trainer(num_classes=num_classes, latent_dim=latent_dim, batch_size=batch_size, device=\"cuda\" if torch.cuda.is_available() else \"cpu\", save_dir=save_dir)\n",
    "\n",
    "# Подготовка загрузчиков данных\n",
    "trainer.prepare_dataloaders(train_subset, test_subset)\n",
    "\n",
    "# Обучение автокодировщика\n",
    "trainer.train_autoencoder(epochs=epochs, lr=0.001)\n",
    "\n",
    "# Обучение многоклассового классификатора\n",
    "trainer.train_binary_classifiers(epochs=epochs, lr=0.001)\n",
    "\n",
    "# Оценка модели до финетюнинга\n",
    "trainer.acc_combined_before, trainer.error_rate_before, trainer.pred_all_before, trainer.target_all_before = trainer.evaluate_combined_model(trainer.test_loader)\n",
    "\n",
    "# Подсчёт точности по каждому классу до финетюнинга\n",
    "trainer.accuracy_per_class(trainer.pred_all_before, trainer.target_all_before)\n",
    "\n",
    "# Сохранение моделей перед финетюнингом\n",
    "trainer.save_models(suffix=\"before_finetune\")"
   ]
  },
  {
   "cell_type": "markdown",
   "id": "6ac35727-7e94-41af-8083-87a4024876c8",
   "metadata": {},
   "source": [
    "# %% [markdown]\n",
    "\n",
    " ### 4.2. Ячейка 2: Загрузка Моделей и Дообучение Энкодера"
   ]
  },
  {
   "cell_type": "code",
   "execution_count": 9,
   "id": "08397611-03d8-4b9f-8b0b-13aa1f0694b0",
   "metadata": {},
   "outputs": [
    {
     "name": "stdout",
     "output_type": "stream",
     "text": [
      "Files already downloaded and verified\n",
      "\n",
      "Загрузка моделей...\n",
      "Autoencoder загружен из ./saved_models\\autoencoder_before_finetune.pth\n",
      "CombinedBinaryClassifier загружен из ./saved_models\\combined_model_before_finetune.pth\n",
      "BinaryClassifier 0 загружен из ./saved_models\\binary_classifier_class_0_before_finetune.pth\n",
      "BinaryClassifier 1 загружен из ./saved_models\\binary_classifier_class_1_before_finetune.pth\n",
      "BinaryClassifier 2 загружен из ./saved_models\\binary_classifier_class_2_before_finetune.pth\n",
      "BinaryClassifier 3 загружен из ./saved_models\\binary_classifier_class_3_before_finetune.pth\n",
      "BinaryClassifier 4 загружен из ./saved_models\\binary_classifier_class_4_before_finetune.pth\n",
      "BinaryClassifier 5 загружен из ./saved_models\\binary_classifier_class_5_before_finetune.pth\n",
      "BinaryClassifier 6 загружен из ./saved_models\\binary_classifier_class_6_before_finetune.pth\n",
      "BinaryClassifier 7 загружен из ./saved_models\\binary_classifier_class_7_before_finetune.pth\n",
      "BinaryClassifier 8 загружен из ./saved_models\\binary_classifier_class_8_before_finetune.pth\n",
      "BinaryClassifier 9 загружен из ./saved_models\\binary_classifier_class_9_before_finetune.pth\n"
     ]
    },
    {
     "name": "stderr",
     "output_type": "stream",
     "text": [
      "C:\\Users\\inimatic\\AppData\\Local\\Temp\\ipykernel_21368\\1115309397.py:188: FutureWarning: You are using `torch.load` with `weights_only=False` (the current default value), which uses the default pickle module implicitly. It is possible to construct malicious pickle data which will execute arbitrary code during unpickling (See https://github.com/pytorch/pytorch/blob/main/SECURITY.md#untrusted-models for more details). In a future release, the default value for `weights_only` will be flipped to `True`. This limits the functions that could be executed during unpickling. Arbitrary objects will no longer be allowed to be loaded via this mode unless they are explicitly allowlisted by the user via `torch.serialization.add_safe_globals`. We recommend you start setting `weights_only=True` for any use case where you don't have full control of the loaded file. Please open an issue on GitHub for any issues related to this experimental feature.\n",
      "  self.autoencoder.load_state_dict(torch.load(autoenc_save_path))\n",
      "C:\\Users\\inimatic\\AppData\\Local\\Temp\\ipykernel_21368\\1115309397.py:193: FutureWarning: You are using `torch.load` with `weights_only=False` (the current default value), which uses the default pickle module implicitly. It is possible to construct malicious pickle data which will execute arbitrary code during unpickling (See https://github.com/pytorch/pytorch/blob/main/SECURITY.md#untrusted-models for more details). In a future release, the default value for `weights_only` will be flipped to `True`. This limits the functions that could be executed during unpickling. Arbitrary objects will no longer be allowed to be loaded via this mode unless they are explicitly allowlisted by the user via `torch.serialization.add_safe_globals`. We recommend you start setting `weights_only=True` for any use case where you don't have full control of the loaded file. Please open an issue on GitHub for any issues related to this experimental feature.\n",
      "  self.combined_model.load_state_dict(torch.load(combined_model_save_path))\n",
      "C:\\Users\\inimatic\\AppData\\Local\\Temp\\ipykernel_21368\\1115309397.py:200: FutureWarning: You are using `torch.load` with `weights_only=False` (the current default value), which uses the default pickle module implicitly. It is possible to construct malicious pickle data which will execute arbitrary code during unpickling (See https://github.com/pytorch/pytorch/blob/main/SECURITY.md#untrusted-models for more details). In a future release, the default value for `weights_only` will be flipped to `True`. This limits the functions that could be executed during unpickling. Arbitrary objects will no longer be allowed to be loaded via this mode unless they are explicitly allowlisted by the user via `torch.serialization.add_safe_globals`. We recommend you start setting `weights_only=True` for any use case where you don't have full control of the loaded file. Please open an issue on GitHub for any issues related to this experimental feature.\n",
      "  self.binary_classifiers[cls].load_state_dict(torch.load(classifier_save_path))\n"
     ]
    },
    {
     "name": "stdout",
     "output_type": "stream",
     "text": [
      "Files already downloaded and verified\n",
      "\n",
      "Дообучение энкодера на небольшой выборке с фиксированными классификаторами...\n",
      "Fine-tuning Epoch 1/20, Loss: 0.3217, Accuracy: 29.90%, Время: 11.63 сек.\n",
      "Fine-tuning Epoch 2/20, Loss: 0.2575, Accuracy: 38.30%, Время: 12.10 сек.\n",
      "Fine-tuning Epoch 3/20, Loss: 0.2364, Accuracy: 43.75%, Время: 12.94 сек.\n",
      "Fine-tuning Epoch 4/20, Loss: 0.2207, Accuracy: 48.50%, Время: 12.71 сек.\n",
      "Fine-tuning Epoch 5/20, Loss: 0.2030, Accuracy: 54.55%, Время: 11.69 сек.\n",
      "Fine-tuning Epoch 6/20, Loss: 0.1861, Accuracy: 58.80%, Время: 12.35 сек.\n",
      "Fine-tuning Epoch 7/20, Loss: 0.1687, Accuracy: 64.05%, Время: 12.81 сек.\n",
      "Fine-tuning Epoch 8/20, Loss: 0.1518, Accuracy: 68.05%, Время: 12.42 сек.\n",
      "Fine-tuning Epoch 9/20, Loss: 0.1334, Accuracy: 74.50%, Время: 11.88 сек.\n",
      "Fine-tuning Epoch 10/20, Loss: 0.1086, Accuracy: 81.30%, Время: 11.93 сек.\n",
      "Fine-tuning Epoch 11/20, Loss: 0.0885, Accuracy: 87.35%, Время: 11.53 сек.\n",
      "Fine-tuning Epoch 12/20, Loss: 0.0677, Accuracy: 92.60%, Время: 11.49 сек.\n",
      "Fine-tuning Epoch 13/20, Loss: 0.0488, Accuracy: 95.50%, Время: 12.08 сек.\n",
      "Fine-tuning Epoch 14/20, Loss: 0.0358, Accuracy: 97.70%, Время: 12.12 сек.\n",
      "Fine-tuning Epoch 15/20, Loss: 0.0222, Accuracy: 99.15%, Время: 13.16 сек.\n",
      "Fine-tuning Epoch 16/20, Loss: 0.0164, Accuracy: 99.15%, Время: 12.93 сек.\n",
      "Fine-tuning Epoch 17/20, Loss: 0.0087, Accuracy: 99.90%, Время: 13.31 сек.\n",
      "Fine-tuning Epoch 18/20, Loss: 0.0045, Accuracy: 100.00%, Время: 13.19 сек.\n",
      "Fine-tuning Epoch 19/20, Loss: 0.0028, Accuracy: 100.00%, Время: 12.35 сек.\n",
      "Fine-tuning Epoch 20/20, Loss: 0.0019, Accuracy: 100.00%, Время: 11.70 сек.\n",
      "Combined model accuracy on all classes (0-9): 58.10%\n",
      "Error rate: 41.90%\n",
      "\n",
      "Accuracy per class:\n",
      "Class 0: 52.30%\n",
      "Class 1: 73.10%\n",
      "Class 2: 48.40%\n",
      "Class 3: 37.90%\n",
      "Class 4: 50.30%\n",
      "Class 5: 47.30%\n",
      "Class 6: 69.90%\n",
      "Class 7: 63.50%\n",
      "Class 8: 77.80%\n",
      "Class 9: 60.50%\n",
      "\n",
      "Сохранение моделей...\n",
      "Autoencoder сохранён по пути: ./saved_models\\autoencoder_after_finetune.pth\n",
      "CombinedBinaryClassifier сохранён по пути: ./saved_models\\combined_model_after_finetune.pth\n",
      "BinaryClassifier 0 сохранён по пути: ./saved_models\\binary_classifier_class_0_after_finetune.pth\n",
      "BinaryClassifier 1 сохранён по пути: ./saved_models\\binary_classifier_class_1_after_finetune.pth\n",
      "BinaryClassifier 2 сохранён по пути: ./saved_models\\binary_classifier_class_2_after_finetune.pth\n",
      "BinaryClassifier 3 сохранён по пути: ./saved_models\\binary_classifier_class_3_after_finetune.pth\n",
      "BinaryClassifier 4 сохранён по пути: ./saved_models\\binary_classifier_class_4_after_finetune.pth\n",
      "BinaryClassifier 5 сохранён по пути: ./saved_models\\binary_classifier_class_5_after_finetune.pth\n",
      "BinaryClassifier 6 сохранён по пути: ./saved_models\\binary_classifier_class_6_after_finetune.pth\n",
      "BinaryClassifier 7 сохранён по пути: ./saved_models\\binary_classifier_class_7_after_finetune.pth\n",
      "BinaryClassifier 8 сохранён по пути: ./saved_models\\binary_classifier_class_8_after_finetune.pth\n",
      "BinaryClassifier 9 сохранён по пути: ./saved_models\\binary_classifier_class_9_after_finetune.pth\n",
      "\n",
      "Графическое отображение результатов...\n"
     ]
    },
    {
     "data": {
      "application/vnd.plotly.v1+json": {
       "config": {
        "plotlyServerURL": "https://plot.ly"
       },
       "data": [
        {
         "mode": "lines+markers",
         "name": "AE Loss",
         "type": "scatter",
         "xaxis": "x",
         "y": [],
         "yaxis": "y"
        },
        {
         "mode": "lines+markers",
         "name": "Binary Cls Mean Loss",
         "type": "scatter",
         "xaxis": "x2",
         "y": [],
         "yaxis": "y2"
        },
        {
         "mode": "lines+markers",
         "name": "Binary Cls Mean Acc",
         "type": "scatter",
         "xaxis": "x2",
         "y": [],
         "yaxis": "y2"
        },
        {
         "mode": "lines+markers",
         "name": "Fine-tune Loss",
         "type": "scatter",
         "xaxis": "x3",
         "y": [
          0.32169253373146056,
          0.25753819942474365,
          0.23637776112556458,
          0.22069016540050507,
          0.2029819723367691,
          0.18614924120903015,
          0.16872782874107362,
          0.15183527302742003,
          0.13343940418958664,
          0.1086416803598404,
          0.08854958972334862,
          0.06773690605163574,
          0.048806647777557374,
          0.03578511175513267,
          0.022225059941411017,
          0.01638748301565647,
          0.008693688079714774,
          0.004474730379879475,
          0.002784066339954734,
          0.0019439342021942139
         ],
         "yaxis": "y3"
        },
        {
         "mode": "lines+markers",
         "name": "Fine-tune Accuracy",
         "type": "scatter",
         "xaxis": "x3",
         "y": [
          0.299,
          0.383,
          0.4375,
          0.485,
          0.5455,
          0.588,
          0.6405,
          0.6805,
          0.745,
          0.813,
          0.8735,
          0.926,
          0.955,
          0.977,
          0.9915,
          0.9915,
          0.999,
          1,
          1,
          1
         ],
         "yaxis": "y3"
        },
        {
         "marker": {
          "color": [
           "blue",
           "green"
          ]
         },
         "name": "Combined Model Accuracy",
         "type": "bar",
         "x": [
          "Before Fine-tuning",
          "After Fine-tuning"
         ],
         "xaxis": "x4",
         "y": [
          0,
          0.581
         ],
         "yaxis": "y4"
        }
       ],
       "layout": {
        "annotations": [
         {
          "font": {
           "size": 16
          },
          "showarrow": false,
          "text": "Потери Автокодировщика",
          "x": 0.225,
          "xanchor": "center",
          "xref": "paper",
          "y": 1,
          "yanchor": "bottom",
          "yref": "paper"
         },
         {
          "font": {
           "size": 16
          },
          "showarrow": false,
          "text": "Потери и Точность Бинарных Классификаторов (среднее по всем классам)",
          "x": 0.775,
          "xanchor": "center",
          "xref": "paper",
          "y": 1,
          "yanchor": "bottom",
          "yref": "paper"
         },
         {
          "font": {
           "size": 16
          },
          "showarrow": false,
          "text": "Потери и Точность Дообучения Энкодера",
          "x": 0.225,
          "xanchor": "center",
          "xref": "paper",
          "y": 0.375,
          "yanchor": "bottom",
          "yref": "paper"
         },
         {
          "font": {
           "size": 16
          },
          "showarrow": false,
          "text": "Итоговая Точность Модели",
          "x": 0.775,
          "xanchor": "center",
          "xref": "paper",
          "y": 0.375,
          "yanchor": "bottom",
          "yref": "paper"
         }
        ],
        "height": 800,
        "showlegend": true,
        "template": {
         "data": {
          "bar": [
           {
            "error_x": {
             "color": "#2a3f5f"
            },
            "error_y": {
             "color": "#2a3f5f"
            },
            "marker": {
             "line": {
              "color": "#E5ECF6",
              "width": 0.5
             },
             "pattern": {
              "fillmode": "overlay",
              "size": 10,
              "solidity": 0.2
             }
            },
            "type": "bar"
           }
          ],
          "barpolar": [
           {
            "marker": {
             "line": {
              "color": "#E5ECF6",
              "width": 0.5
             },
             "pattern": {
              "fillmode": "overlay",
              "size": 10,
              "solidity": 0.2
             }
            },
            "type": "barpolar"
           }
          ],
          "carpet": [
           {
            "aaxis": {
             "endlinecolor": "#2a3f5f",
             "gridcolor": "white",
             "linecolor": "white",
             "minorgridcolor": "white",
             "startlinecolor": "#2a3f5f"
            },
            "baxis": {
             "endlinecolor": "#2a3f5f",
             "gridcolor": "white",
             "linecolor": "white",
             "minorgridcolor": "white",
             "startlinecolor": "#2a3f5f"
            },
            "type": "carpet"
           }
          ],
          "choropleth": [
           {
            "colorbar": {
             "outlinewidth": 0,
             "ticks": ""
            },
            "type": "choropleth"
           }
          ],
          "contour": [
           {
            "colorbar": {
             "outlinewidth": 0,
             "ticks": ""
            },
            "colorscale": [
             [
              0,
              "#0d0887"
             ],
             [
              0.1111111111111111,
              "#46039f"
             ],
             [
              0.2222222222222222,
              "#7201a8"
             ],
             [
              0.3333333333333333,
              "#9c179e"
             ],
             [
              0.4444444444444444,
              "#bd3786"
             ],
             [
              0.5555555555555556,
              "#d8576b"
             ],
             [
              0.6666666666666666,
              "#ed7953"
             ],
             [
              0.7777777777777778,
              "#fb9f3a"
             ],
             [
              0.8888888888888888,
              "#fdca26"
             ],
             [
              1,
              "#f0f921"
             ]
            ],
            "type": "contour"
           }
          ],
          "contourcarpet": [
           {
            "colorbar": {
             "outlinewidth": 0,
             "ticks": ""
            },
            "type": "contourcarpet"
           }
          ],
          "heatmap": [
           {
            "colorbar": {
             "outlinewidth": 0,
             "ticks": ""
            },
            "colorscale": [
             [
              0,
              "#0d0887"
             ],
             [
              0.1111111111111111,
              "#46039f"
             ],
             [
              0.2222222222222222,
              "#7201a8"
             ],
             [
              0.3333333333333333,
              "#9c179e"
             ],
             [
              0.4444444444444444,
              "#bd3786"
             ],
             [
              0.5555555555555556,
              "#d8576b"
             ],
             [
              0.6666666666666666,
              "#ed7953"
             ],
             [
              0.7777777777777778,
              "#fb9f3a"
             ],
             [
              0.8888888888888888,
              "#fdca26"
             ],
             [
              1,
              "#f0f921"
             ]
            ],
            "type": "heatmap"
           }
          ],
          "heatmapgl": [
           {
            "colorbar": {
             "outlinewidth": 0,
             "ticks": ""
            },
            "colorscale": [
             [
              0,
              "#0d0887"
             ],
             [
              0.1111111111111111,
              "#46039f"
             ],
             [
              0.2222222222222222,
              "#7201a8"
             ],
             [
              0.3333333333333333,
              "#9c179e"
             ],
             [
              0.4444444444444444,
              "#bd3786"
             ],
             [
              0.5555555555555556,
              "#d8576b"
             ],
             [
              0.6666666666666666,
              "#ed7953"
             ],
             [
              0.7777777777777778,
              "#fb9f3a"
             ],
             [
              0.8888888888888888,
              "#fdca26"
             ],
             [
              1,
              "#f0f921"
             ]
            ],
            "type": "heatmapgl"
           }
          ],
          "histogram": [
           {
            "marker": {
             "pattern": {
              "fillmode": "overlay",
              "size": 10,
              "solidity": 0.2
             }
            },
            "type": "histogram"
           }
          ],
          "histogram2d": [
           {
            "colorbar": {
             "outlinewidth": 0,
             "ticks": ""
            },
            "colorscale": [
             [
              0,
              "#0d0887"
             ],
             [
              0.1111111111111111,
              "#46039f"
             ],
             [
              0.2222222222222222,
              "#7201a8"
             ],
             [
              0.3333333333333333,
              "#9c179e"
             ],
             [
              0.4444444444444444,
              "#bd3786"
             ],
             [
              0.5555555555555556,
              "#d8576b"
             ],
             [
              0.6666666666666666,
              "#ed7953"
             ],
             [
              0.7777777777777778,
              "#fb9f3a"
             ],
             [
              0.8888888888888888,
              "#fdca26"
             ],
             [
              1,
              "#f0f921"
             ]
            ],
            "type": "histogram2d"
           }
          ],
          "histogram2dcontour": [
           {
            "colorbar": {
             "outlinewidth": 0,
             "ticks": ""
            },
            "colorscale": [
             [
              0,
              "#0d0887"
             ],
             [
              0.1111111111111111,
              "#46039f"
             ],
             [
              0.2222222222222222,
              "#7201a8"
             ],
             [
              0.3333333333333333,
              "#9c179e"
             ],
             [
              0.4444444444444444,
              "#bd3786"
             ],
             [
              0.5555555555555556,
              "#d8576b"
             ],
             [
              0.6666666666666666,
              "#ed7953"
             ],
             [
              0.7777777777777778,
              "#fb9f3a"
             ],
             [
              0.8888888888888888,
              "#fdca26"
             ],
             [
              1,
              "#f0f921"
             ]
            ],
            "type": "histogram2dcontour"
           }
          ],
          "mesh3d": [
           {
            "colorbar": {
             "outlinewidth": 0,
             "ticks": ""
            },
            "type": "mesh3d"
           }
          ],
          "parcoords": [
           {
            "line": {
             "colorbar": {
              "outlinewidth": 0,
              "ticks": ""
             }
            },
            "type": "parcoords"
           }
          ],
          "pie": [
           {
            "automargin": true,
            "type": "pie"
           }
          ],
          "scatter": [
           {
            "fillpattern": {
             "fillmode": "overlay",
             "size": 10,
             "solidity": 0.2
            },
            "type": "scatter"
           }
          ],
          "scatter3d": [
           {
            "line": {
             "colorbar": {
              "outlinewidth": 0,
              "ticks": ""
             }
            },
            "marker": {
             "colorbar": {
              "outlinewidth": 0,
              "ticks": ""
             }
            },
            "type": "scatter3d"
           }
          ],
          "scattercarpet": [
           {
            "marker": {
             "colorbar": {
              "outlinewidth": 0,
              "ticks": ""
             }
            },
            "type": "scattercarpet"
           }
          ],
          "scattergeo": [
           {
            "marker": {
             "colorbar": {
              "outlinewidth": 0,
              "ticks": ""
             }
            },
            "type": "scattergeo"
           }
          ],
          "scattergl": [
           {
            "marker": {
             "colorbar": {
              "outlinewidth": 0,
              "ticks": ""
             }
            },
            "type": "scattergl"
           }
          ],
          "scattermapbox": [
           {
            "marker": {
             "colorbar": {
              "outlinewidth": 0,
              "ticks": ""
             }
            },
            "type": "scattermapbox"
           }
          ],
          "scatterpolar": [
           {
            "marker": {
             "colorbar": {
              "outlinewidth": 0,
              "ticks": ""
             }
            },
            "type": "scatterpolar"
           }
          ],
          "scatterpolargl": [
           {
            "marker": {
             "colorbar": {
              "outlinewidth": 0,
              "ticks": ""
             }
            },
            "type": "scatterpolargl"
           }
          ],
          "scatterternary": [
           {
            "marker": {
             "colorbar": {
              "outlinewidth": 0,
              "ticks": ""
             }
            },
            "type": "scatterternary"
           }
          ],
          "surface": [
           {
            "colorbar": {
             "outlinewidth": 0,
             "ticks": ""
            },
            "colorscale": [
             [
              0,
              "#0d0887"
             ],
             [
              0.1111111111111111,
              "#46039f"
             ],
             [
              0.2222222222222222,
              "#7201a8"
             ],
             [
              0.3333333333333333,
              "#9c179e"
             ],
             [
              0.4444444444444444,
              "#bd3786"
             ],
             [
              0.5555555555555556,
              "#d8576b"
             ],
             [
              0.6666666666666666,
              "#ed7953"
             ],
             [
              0.7777777777777778,
              "#fb9f3a"
             ],
             [
              0.8888888888888888,
              "#fdca26"
             ],
             [
              1,
              "#f0f921"
             ]
            ],
            "type": "surface"
           }
          ],
          "table": [
           {
            "cells": {
             "fill": {
              "color": "#EBF0F8"
             },
             "line": {
              "color": "white"
             }
            },
            "header": {
             "fill": {
              "color": "#C8D4E3"
             },
             "line": {
              "color": "white"
             }
            },
            "type": "table"
           }
          ]
         },
         "layout": {
          "annotationdefaults": {
           "arrowcolor": "#2a3f5f",
           "arrowhead": 0,
           "arrowwidth": 1
          },
          "autotypenumbers": "strict",
          "coloraxis": {
           "colorbar": {
            "outlinewidth": 0,
            "ticks": ""
           }
          },
          "colorscale": {
           "diverging": [
            [
             0,
             "#8e0152"
            ],
            [
             0.1,
             "#c51b7d"
            ],
            [
             0.2,
             "#de77ae"
            ],
            [
             0.3,
             "#f1b6da"
            ],
            [
             0.4,
             "#fde0ef"
            ],
            [
             0.5,
             "#f7f7f7"
            ],
            [
             0.6,
             "#e6f5d0"
            ],
            [
             0.7,
             "#b8e186"
            ],
            [
             0.8,
             "#7fbc41"
            ],
            [
             0.9,
             "#4d9221"
            ],
            [
             1,
             "#276419"
            ]
           ],
           "sequential": [
            [
             0,
             "#0d0887"
            ],
            [
             0.1111111111111111,
             "#46039f"
            ],
            [
             0.2222222222222222,
             "#7201a8"
            ],
            [
             0.3333333333333333,
             "#9c179e"
            ],
            [
             0.4444444444444444,
             "#bd3786"
            ],
            [
             0.5555555555555556,
             "#d8576b"
            ],
            [
             0.6666666666666666,
             "#ed7953"
            ],
            [
             0.7777777777777778,
             "#fb9f3a"
            ],
            [
             0.8888888888888888,
             "#fdca26"
            ],
            [
             1,
             "#f0f921"
            ]
           ],
           "sequentialminus": [
            [
             0,
             "#0d0887"
            ],
            [
             0.1111111111111111,
             "#46039f"
            ],
            [
             0.2222222222222222,
             "#7201a8"
            ],
            [
             0.3333333333333333,
             "#9c179e"
            ],
            [
             0.4444444444444444,
             "#bd3786"
            ],
            [
             0.5555555555555556,
             "#d8576b"
            ],
            [
             0.6666666666666666,
             "#ed7953"
            ],
            [
             0.7777777777777778,
             "#fb9f3a"
            ],
            [
             0.8888888888888888,
             "#fdca26"
            ],
            [
             1,
             "#f0f921"
            ]
           ]
          },
          "colorway": [
           "#636efa",
           "#EF553B",
           "#00cc96",
           "#ab63fa",
           "#FFA15A",
           "#19d3f3",
           "#FF6692",
           "#B6E880",
           "#FF97FF",
           "#FECB52"
          ],
          "font": {
           "color": "#2a3f5f"
          },
          "geo": {
           "bgcolor": "white",
           "lakecolor": "white",
           "landcolor": "#E5ECF6",
           "showlakes": true,
           "showland": true,
           "subunitcolor": "white"
          },
          "hoverlabel": {
           "align": "left"
          },
          "hovermode": "closest",
          "mapbox": {
           "style": "light"
          },
          "paper_bgcolor": "white",
          "plot_bgcolor": "#E5ECF6",
          "polar": {
           "angularaxis": {
            "gridcolor": "white",
            "linecolor": "white",
            "ticks": ""
           },
           "bgcolor": "#E5ECF6",
           "radialaxis": {
            "gridcolor": "white",
            "linecolor": "white",
            "ticks": ""
           }
          },
          "scene": {
           "xaxis": {
            "backgroundcolor": "#E5ECF6",
            "gridcolor": "white",
            "gridwidth": 2,
            "linecolor": "white",
            "showbackground": true,
            "ticks": "",
            "zerolinecolor": "white"
           },
           "yaxis": {
            "backgroundcolor": "#E5ECF6",
            "gridcolor": "white",
            "gridwidth": 2,
            "linecolor": "white",
            "showbackground": true,
            "ticks": "",
            "zerolinecolor": "white"
           },
           "zaxis": {
            "backgroundcolor": "#E5ECF6",
            "gridcolor": "white",
            "gridwidth": 2,
            "linecolor": "white",
            "showbackground": true,
            "ticks": "",
            "zerolinecolor": "white"
           }
          },
          "shapedefaults": {
           "line": {
            "color": "#2a3f5f"
           }
          },
          "ternary": {
           "aaxis": {
            "gridcolor": "white",
            "linecolor": "white",
            "ticks": ""
           },
           "baxis": {
            "gridcolor": "white",
            "linecolor": "white",
            "ticks": ""
           },
           "bgcolor": "#E5ECF6",
           "caxis": {
            "gridcolor": "white",
            "linecolor": "white",
            "ticks": ""
           }
          },
          "title": {
           "x": 0.05
          },
          "xaxis": {
           "automargin": true,
           "gridcolor": "white",
           "linecolor": "white",
           "ticks": "",
           "title": {
            "standoff": 15
           },
           "zerolinecolor": "white",
           "zerolinewidth": 2
          },
          "yaxis": {
           "automargin": true,
           "gridcolor": "white",
           "linecolor": "white",
           "ticks": "",
           "title": {
            "standoff": 15
           },
           "zerolinecolor": "white",
           "zerolinewidth": 2
          }
         }
        },
        "title": {
         "text": "Анализ Обучения"
        },
        "width": 1200,
        "xaxis": {
         "anchor": "y",
         "domain": [
          0,
          0.45
         ]
        },
        "xaxis2": {
         "anchor": "y2",
         "domain": [
          0.55,
          1
         ]
        },
        "xaxis3": {
         "anchor": "y3",
         "domain": [
          0,
          0.45
         ]
        },
        "xaxis4": {
         "anchor": "y4",
         "domain": [
          0.55,
          1
         ]
        },
        "yaxis": {
         "anchor": "x",
         "domain": [
          0.625,
          1
         ]
        },
        "yaxis2": {
         "anchor": "x2",
         "domain": [
          0.625,
          1
         ]
        },
        "yaxis3": {
         "anchor": "x3",
         "domain": [
          0,
          0.375
         ]
        },
        "yaxis4": {
         "anchor": "x4",
         "domain": [
          0,
          0.375
         ]
        }
       }
      }
     },
     "metadata": {},
     "output_type": "display_data"
    }
   ],
   "source": [
    "# %%\n",
    "\n",
    "import torch\n",
    "from torchvision import datasets, transforms\n",
    "from torch.utils.data import DataLoader, Subset\n",
    "import random\n",
    "from collections import defaultdict, Counter\n",
    "\n",
    "# Определите классы Autoencoder, BinaryClassifier, CombinedBinaryClassifier и Trainer здесь или импортируйте из другого файла\n",
    "\n",
    "# Настройки\n",
    "num_classes = 10\n",
    "latent_dim = 512\n",
    "batch_size = 64  # Изменено пользователем\n",
    "fine_tuning_epochs = 20  # Изменено пользователем\n",
    "samples_per_class = 200\n",
    "save_dir = \"./saved_models\"\n",
    "\n",
    "# Инициализация тренера\n",
    "trainer = Trainer(num_classes=num_classes, latent_dim=latent_dim, batch_size=batch_size, device=\"cuda\" if torch.cuda.is_available() else \"cpu\", save_dir=save_dir)\n",
    "\n",
    "# Определение трансформаций\n",
    "transform = transforms.Compose([transforms.Resize(32), transforms.ToTensor(), transforms.Normalize((0.4914, 0.4822, 0.4465), (0.247, 0.243, 0.261))])\n",
    "\n",
    "# Загрузка датасета для дообучения\n",
    "train_dataset = datasets.CIFAR10(root=\"./data\", train=True, download=True, transform=transform)\n",
    "\n",
    "\n",
    "def create_fine_tuning_subset(dataset, num_classes, samples_per_class=100):\n",
    "    selected_indices = []\n",
    "    class_counts = Counter()\n",
    "    class_indices = defaultdict(list)\n",
    "\n",
    "    for idx, (_, target) in enumerate(dataset):\n",
    "        if target < num_classes and class_counts[target] < samples_per_class:\n",
    "            class_indices[target].append(idx)\n",
    "            class_counts[target] += 1\n",
    "            selected_indices.append(idx)\n",
    "        if all(count >= samples_per_class for count in class_counts.values()):\n",
    "            break\n",
    "\n",
    "    return Subset(dataset, selected_indices)\n",
    "\n",
    "\n",
    "def filter_dataset(dataset, num_classes, min_samples):\n",
    "    \"\"\"\n",
    "    Фильтрует датасет, оставляя только `num_classes` классов и минимум `min_samples` образцов на класс.\n",
    "    \"\"\"\n",
    "    class_counts = Counter()\n",
    "    class_indices = defaultdict(list)\n",
    "\n",
    "    # Собираем индексы для каждого класса\n",
    "    for idx, (_, target) in enumerate(dataset):\n",
    "        if target < num_classes:\n",
    "            class_indices[target].append(idx)\n",
    "            class_counts[target] += 1\n",
    "\n",
    "    # Проверяем, что каждый класс имеет минимум образцов\n",
    "    for cls in range(num_classes):\n",
    "        if class_counts[cls] < min_samples:\n",
    "            raise ValueError(f\"Класс {cls} имеет только {class_counts[cls]} образцов, требуется минимум {min_samples}.\")\n",
    "\n",
    "    # Ограничиваем количество образцов до min_samples для каждого класса\n",
    "    selected_indices = []\n",
    "    for cls in range(num_classes):\n",
    "        selected_indices.extend(class_indices[cls][:min_samples])\n",
    "\n",
    "    return Subset(dataset, selected_indices)\n",
    "\n",
    "\n",
    "# Создание выборки для дообучения\n",
    "fine_tune_subset = create_fine_tuning_subset(train_dataset, num_classes, samples_per_class)\n",
    "fine_tune_loader = DataLoader(fine_tune_subset, batch_size=batch_size, shuffle=True, num_workers=2, pin_memory=True)\n",
    "\n",
    "# Загрузка сохранённых моделей\n",
    "trainer.load_models(suffix=\"before_finetune\")\n",
    "\n",
    "# Загрузка и фильтрация тестового датасета\n",
    "test_dataset = datasets.CIFAR10(root=\"./data\", train=False, download=True, transform=transform)\n",
    "test_subset = filter_dataset(test_dataset, num_classes, min_samples=1000)  # Используем тот же min_samples_per_class\n",
    "\n",
    "# Подготовка загрузчиков данных (инициализирует test_loader)\n",
    "trainer.prepare_dataloaders(fine_tune_subset, test_subset)\n",
    "\n",
    "# Дообучение энкодера\n",
    "trainer.fine_tune_encoder(fine_tune_loader, epochs=fine_tuning_epochs, lr=0.0005)\n",
    "\n",
    "# Оценка объединённой модели после дообучения\n",
    "trainer.acc_combined_after, trainer.error_rate_after, pred_all_after, target_all_after = trainer.evaluate_combined_model(trainer.test_loader)\n",
    "\n",
    "# Подсчёт точности по каждому классу\n",
    "trainer.accuracy_per_class(pred_all_after, target_all_after)\n",
    "\n",
    "# Сохранение моделей после дообучения\n",
    "trainer.save_models(suffix=\"after_finetune\")\n",
    "\n",
    "trainer.plot_results()"
   ]
  },
  {
   "cell_type": "code",
   "execution_count": 11,
   "id": "eddf12f4-2186-4431-87e2-88bed387a81f",
   "metadata": {},
   "outputs": [
    {
     "name": "stdout",
     "output_type": "stream",
     "text": [
      "\n",
      "Графическое отображение результатов...\n"
     ]
    },
    {
     "data": {
      "application/vnd.plotly.v1+json": {
       "config": {
        "plotlyServerURL": "https://plot.ly"
       },
       "data": [
        {
         "mode": "lines+markers",
         "name": "AE Loss",
         "type": "scatter",
         "xaxis": "x",
         "y": [],
         "yaxis": "y"
        },
        {
         "mode": "lines+markers",
         "name": "Binary Cls Mean Loss",
         "type": "scatter",
         "xaxis": "x2",
         "y": [],
         "yaxis": "y2"
        },
        {
         "mode": "lines+markers",
         "name": "Binary Cls Mean Acc",
         "type": "scatter",
         "xaxis": "x2",
         "y": [],
         "yaxis": "y2"
        },
        {
         "mode": "lines+markers",
         "name": "Fine-tune Loss",
         "type": "scatter",
         "xaxis": "x3",
         "y": [
          0.32169253373146056,
          0.25753819942474365,
          0.23637776112556458,
          0.22069016540050507,
          0.2029819723367691,
          0.18614924120903015,
          0.16872782874107362,
          0.15183527302742003,
          0.13343940418958664,
          0.1086416803598404,
          0.08854958972334862,
          0.06773690605163574,
          0.048806647777557374,
          0.03578511175513267,
          0.022225059941411017,
          0.01638748301565647,
          0.008693688079714774,
          0.004474730379879475,
          0.002784066339954734,
          0.0019439342021942139
         ],
         "yaxis": "y3"
        },
        {
         "mode": "lines+markers",
         "name": "Fine-tune Accuracy",
         "type": "scatter",
         "xaxis": "x3",
         "y": [
          0.299,
          0.383,
          0.4375,
          0.485,
          0.5455,
          0.588,
          0.6405,
          0.6805,
          0.745,
          0.813,
          0.8735,
          0.926,
          0.955,
          0.977,
          0.9915,
          0.9915,
          0.999,
          1,
          1,
          1
         ],
         "yaxis": "y3"
        },
        {
         "marker": {
          "color": [
           "blue",
           "green"
          ]
         },
         "name": "Combined Model Accuracy",
         "type": "bar",
         "x": [
          "Before Fine-tuning",
          "After Fine-tuning"
         ],
         "xaxis": "x4",
         "y": [
          0,
          0.581
         ],
         "yaxis": "y4"
        }
       ],
       "layout": {
        "annotations": [
         {
          "font": {
           "size": 16
          },
          "showarrow": false,
          "text": "Потери Автокодировщика",
          "x": 0.225,
          "xanchor": "center",
          "xref": "paper",
          "y": 1,
          "yanchor": "bottom",
          "yref": "paper"
         },
         {
          "font": {
           "size": 16
          },
          "showarrow": false,
          "text": "Потери и Точность Бинарных Классификаторов (среднее по всем классам)",
          "x": 0.775,
          "xanchor": "center",
          "xref": "paper",
          "y": 1,
          "yanchor": "bottom",
          "yref": "paper"
         },
         {
          "font": {
           "size": 16
          },
          "showarrow": false,
          "text": "Потери и Точность Дообучения Энкодера",
          "x": 0.225,
          "xanchor": "center",
          "xref": "paper",
          "y": 0.375,
          "yanchor": "bottom",
          "yref": "paper"
         },
         {
          "font": {
           "size": 16
          },
          "showarrow": false,
          "text": "Итоговая Точность Модели",
          "x": 0.775,
          "xanchor": "center",
          "xref": "paper",
          "y": 0.375,
          "yanchor": "bottom",
          "yref": "paper"
         }
        ],
        "height": 800,
        "showlegend": true,
        "template": {
         "data": {
          "bar": [
           {
            "error_x": {
             "color": "#2a3f5f"
            },
            "error_y": {
             "color": "#2a3f5f"
            },
            "marker": {
             "line": {
              "color": "#E5ECF6",
              "width": 0.5
             },
             "pattern": {
              "fillmode": "overlay",
              "size": 10,
              "solidity": 0.2
             }
            },
            "type": "bar"
           }
          ],
          "barpolar": [
           {
            "marker": {
             "line": {
              "color": "#E5ECF6",
              "width": 0.5
             },
             "pattern": {
              "fillmode": "overlay",
              "size": 10,
              "solidity": 0.2
             }
            },
            "type": "barpolar"
           }
          ],
          "carpet": [
           {
            "aaxis": {
             "endlinecolor": "#2a3f5f",
             "gridcolor": "white",
             "linecolor": "white",
             "minorgridcolor": "white",
             "startlinecolor": "#2a3f5f"
            },
            "baxis": {
             "endlinecolor": "#2a3f5f",
             "gridcolor": "white",
             "linecolor": "white",
             "minorgridcolor": "white",
             "startlinecolor": "#2a3f5f"
            },
            "type": "carpet"
           }
          ],
          "choropleth": [
           {
            "colorbar": {
             "outlinewidth": 0,
             "ticks": ""
            },
            "type": "choropleth"
           }
          ],
          "contour": [
           {
            "colorbar": {
             "outlinewidth": 0,
             "ticks": ""
            },
            "colorscale": [
             [
              0,
              "#0d0887"
             ],
             [
              0.1111111111111111,
              "#46039f"
             ],
             [
              0.2222222222222222,
              "#7201a8"
             ],
             [
              0.3333333333333333,
              "#9c179e"
             ],
             [
              0.4444444444444444,
              "#bd3786"
             ],
             [
              0.5555555555555556,
              "#d8576b"
             ],
             [
              0.6666666666666666,
              "#ed7953"
             ],
             [
              0.7777777777777778,
              "#fb9f3a"
             ],
             [
              0.8888888888888888,
              "#fdca26"
             ],
             [
              1,
              "#f0f921"
             ]
            ],
            "type": "contour"
           }
          ],
          "contourcarpet": [
           {
            "colorbar": {
             "outlinewidth": 0,
             "ticks": ""
            },
            "type": "contourcarpet"
           }
          ],
          "heatmap": [
           {
            "colorbar": {
             "outlinewidth": 0,
             "ticks": ""
            },
            "colorscale": [
             [
              0,
              "#0d0887"
             ],
             [
              0.1111111111111111,
              "#46039f"
             ],
             [
              0.2222222222222222,
              "#7201a8"
             ],
             [
              0.3333333333333333,
              "#9c179e"
             ],
             [
              0.4444444444444444,
              "#bd3786"
             ],
             [
              0.5555555555555556,
              "#d8576b"
             ],
             [
              0.6666666666666666,
              "#ed7953"
             ],
             [
              0.7777777777777778,
              "#fb9f3a"
             ],
             [
              0.8888888888888888,
              "#fdca26"
             ],
             [
              1,
              "#f0f921"
             ]
            ],
            "type": "heatmap"
           }
          ],
          "heatmapgl": [
           {
            "colorbar": {
             "outlinewidth": 0,
             "ticks": ""
            },
            "colorscale": [
             [
              0,
              "#0d0887"
             ],
             [
              0.1111111111111111,
              "#46039f"
             ],
             [
              0.2222222222222222,
              "#7201a8"
             ],
             [
              0.3333333333333333,
              "#9c179e"
             ],
             [
              0.4444444444444444,
              "#bd3786"
             ],
             [
              0.5555555555555556,
              "#d8576b"
             ],
             [
              0.6666666666666666,
              "#ed7953"
             ],
             [
              0.7777777777777778,
              "#fb9f3a"
             ],
             [
              0.8888888888888888,
              "#fdca26"
             ],
             [
              1,
              "#f0f921"
             ]
            ],
            "type": "heatmapgl"
           }
          ],
          "histogram": [
           {
            "marker": {
             "pattern": {
              "fillmode": "overlay",
              "size": 10,
              "solidity": 0.2
             }
            },
            "type": "histogram"
           }
          ],
          "histogram2d": [
           {
            "colorbar": {
             "outlinewidth": 0,
             "ticks": ""
            },
            "colorscale": [
             [
              0,
              "#0d0887"
             ],
             [
              0.1111111111111111,
              "#46039f"
             ],
             [
              0.2222222222222222,
              "#7201a8"
             ],
             [
              0.3333333333333333,
              "#9c179e"
             ],
             [
              0.4444444444444444,
              "#bd3786"
             ],
             [
              0.5555555555555556,
              "#d8576b"
             ],
             [
              0.6666666666666666,
              "#ed7953"
             ],
             [
              0.7777777777777778,
              "#fb9f3a"
             ],
             [
              0.8888888888888888,
              "#fdca26"
             ],
             [
              1,
              "#f0f921"
             ]
            ],
            "type": "histogram2d"
           }
          ],
          "histogram2dcontour": [
           {
            "colorbar": {
             "outlinewidth": 0,
             "ticks": ""
            },
            "colorscale": [
             [
              0,
              "#0d0887"
             ],
             [
              0.1111111111111111,
              "#46039f"
             ],
             [
              0.2222222222222222,
              "#7201a8"
             ],
             [
              0.3333333333333333,
              "#9c179e"
             ],
             [
              0.4444444444444444,
              "#bd3786"
             ],
             [
              0.5555555555555556,
              "#d8576b"
             ],
             [
              0.6666666666666666,
              "#ed7953"
             ],
             [
              0.7777777777777778,
              "#fb9f3a"
             ],
             [
              0.8888888888888888,
              "#fdca26"
             ],
             [
              1,
              "#f0f921"
             ]
            ],
            "type": "histogram2dcontour"
           }
          ],
          "mesh3d": [
           {
            "colorbar": {
             "outlinewidth": 0,
             "ticks": ""
            },
            "type": "mesh3d"
           }
          ],
          "parcoords": [
           {
            "line": {
             "colorbar": {
              "outlinewidth": 0,
              "ticks": ""
             }
            },
            "type": "parcoords"
           }
          ],
          "pie": [
           {
            "automargin": true,
            "type": "pie"
           }
          ],
          "scatter": [
           {
            "fillpattern": {
             "fillmode": "overlay",
             "size": 10,
             "solidity": 0.2
            },
            "type": "scatter"
           }
          ],
          "scatter3d": [
           {
            "line": {
             "colorbar": {
              "outlinewidth": 0,
              "ticks": ""
             }
            },
            "marker": {
             "colorbar": {
              "outlinewidth": 0,
              "ticks": ""
             }
            },
            "type": "scatter3d"
           }
          ],
          "scattercarpet": [
           {
            "marker": {
             "colorbar": {
              "outlinewidth": 0,
              "ticks": ""
             }
            },
            "type": "scattercarpet"
           }
          ],
          "scattergeo": [
           {
            "marker": {
             "colorbar": {
              "outlinewidth": 0,
              "ticks": ""
             }
            },
            "type": "scattergeo"
           }
          ],
          "scattergl": [
           {
            "marker": {
             "colorbar": {
              "outlinewidth": 0,
              "ticks": ""
             }
            },
            "type": "scattergl"
           }
          ],
          "scattermapbox": [
           {
            "marker": {
             "colorbar": {
              "outlinewidth": 0,
              "ticks": ""
             }
            },
            "type": "scattermapbox"
           }
          ],
          "scatterpolar": [
           {
            "marker": {
             "colorbar": {
              "outlinewidth": 0,
              "ticks": ""
             }
            },
            "type": "scatterpolar"
           }
          ],
          "scatterpolargl": [
           {
            "marker": {
             "colorbar": {
              "outlinewidth": 0,
              "ticks": ""
             }
            },
            "type": "scatterpolargl"
           }
          ],
          "scatterternary": [
           {
            "marker": {
             "colorbar": {
              "outlinewidth": 0,
              "ticks": ""
             }
            },
            "type": "scatterternary"
           }
          ],
          "surface": [
           {
            "colorbar": {
             "outlinewidth": 0,
             "ticks": ""
            },
            "colorscale": [
             [
              0,
              "#0d0887"
             ],
             [
              0.1111111111111111,
              "#46039f"
             ],
             [
              0.2222222222222222,
              "#7201a8"
             ],
             [
              0.3333333333333333,
              "#9c179e"
             ],
             [
              0.4444444444444444,
              "#bd3786"
             ],
             [
              0.5555555555555556,
              "#d8576b"
             ],
             [
              0.6666666666666666,
              "#ed7953"
             ],
             [
              0.7777777777777778,
              "#fb9f3a"
             ],
             [
              0.8888888888888888,
              "#fdca26"
             ],
             [
              1,
              "#f0f921"
             ]
            ],
            "type": "surface"
           }
          ],
          "table": [
           {
            "cells": {
             "fill": {
              "color": "#EBF0F8"
             },
             "line": {
              "color": "white"
             }
            },
            "header": {
             "fill": {
              "color": "#C8D4E3"
             },
             "line": {
              "color": "white"
             }
            },
            "type": "table"
           }
          ]
         },
         "layout": {
          "annotationdefaults": {
           "arrowcolor": "#2a3f5f",
           "arrowhead": 0,
           "arrowwidth": 1
          },
          "autotypenumbers": "strict",
          "coloraxis": {
           "colorbar": {
            "outlinewidth": 0,
            "ticks": ""
           }
          },
          "colorscale": {
           "diverging": [
            [
             0,
             "#8e0152"
            ],
            [
             0.1,
             "#c51b7d"
            ],
            [
             0.2,
             "#de77ae"
            ],
            [
             0.3,
             "#f1b6da"
            ],
            [
             0.4,
             "#fde0ef"
            ],
            [
             0.5,
             "#f7f7f7"
            ],
            [
             0.6,
             "#e6f5d0"
            ],
            [
             0.7,
             "#b8e186"
            ],
            [
             0.8,
             "#7fbc41"
            ],
            [
             0.9,
             "#4d9221"
            ],
            [
             1,
             "#276419"
            ]
           ],
           "sequential": [
            [
             0,
             "#0d0887"
            ],
            [
             0.1111111111111111,
             "#46039f"
            ],
            [
             0.2222222222222222,
             "#7201a8"
            ],
            [
             0.3333333333333333,
             "#9c179e"
            ],
            [
             0.4444444444444444,
             "#bd3786"
            ],
            [
             0.5555555555555556,
             "#d8576b"
            ],
            [
             0.6666666666666666,
             "#ed7953"
            ],
            [
             0.7777777777777778,
             "#fb9f3a"
            ],
            [
             0.8888888888888888,
             "#fdca26"
            ],
            [
             1,
             "#f0f921"
            ]
           ],
           "sequentialminus": [
            [
             0,
             "#0d0887"
            ],
            [
             0.1111111111111111,
             "#46039f"
            ],
            [
             0.2222222222222222,
             "#7201a8"
            ],
            [
             0.3333333333333333,
             "#9c179e"
            ],
            [
             0.4444444444444444,
             "#bd3786"
            ],
            [
             0.5555555555555556,
             "#d8576b"
            ],
            [
             0.6666666666666666,
             "#ed7953"
            ],
            [
             0.7777777777777778,
             "#fb9f3a"
            ],
            [
             0.8888888888888888,
             "#fdca26"
            ],
            [
             1,
             "#f0f921"
            ]
           ]
          },
          "colorway": [
           "#636efa",
           "#EF553B",
           "#00cc96",
           "#ab63fa",
           "#FFA15A",
           "#19d3f3",
           "#FF6692",
           "#B6E880",
           "#FF97FF",
           "#FECB52"
          ],
          "font": {
           "color": "#2a3f5f"
          },
          "geo": {
           "bgcolor": "white",
           "lakecolor": "white",
           "landcolor": "#E5ECF6",
           "showlakes": true,
           "showland": true,
           "subunitcolor": "white"
          },
          "hoverlabel": {
           "align": "left"
          },
          "hovermode": "closest",
          "mapbox": {
           "style": "light"
          },
          "paper_bgcolor": "white",
          "plot_bgcolor": "#E5ECF6",
          "polar": {
           "angularaxis": {
            "gridcolor": "white",
            "linecolor": "white",
            "ticks": ""
           },
           "bgcolor": "#E5ECF6",
           "radialaxis": {
            "gridcolor": "white",
            "linecolor": "white",
            "ticks": ""
           }
          },
          "scene": {
           "xaxis": {
            "backgroundcolor": "#E5ECF6",
            "gridcolor": "white",
            "gridwidth": 2,
            "linecolor": "white",
            "showbackground": true,
            "ticks": "",
            "zerolinecolor": "white"
           },
           "yaxis": {
            "backgroundcolor": "#E5ECF6",
            "gridcolor": "white",
            "gridwidth": 2,
            "linecolor": "white",
            "showbackground": true,
            "ticks": "",
            "zerolinecolor": "white"
           },
           "zaxis": {
            "backgroundcolor": "#E5ECF6",
            "gridcolor": "white",
            "gridwidth": 2,
            "linecolor": "white",
            "showbackground": true,
            "ticks": "",
            "zerolinecolor": "white"
           }
          },
          "shapedefaults": {
           "line": {
            "color": "#2a3f5f"
           }
          },
          "ternary": {
           "aaxis": {
            "gridcolor": "white",
            "linecolor": "white",
            "ticks": ""
           },
           "baxis": {
            "gridcolor": "white",
            "linecolor": "white",
            "ticks": ""
           },
           "bgcolor": "#E5ECF6",
           "caxis": {
            "gridcolor": "white",
            "linecolor": "white",
            "ticks": ""
           }
          },
          "title": {
           "x": 0.05
          },
          "xaxis": {
           "automargin": true,
           "gridcolor": "white",
           "linecolor": "white",
           "ticks": "",
           "title": {
            "standoff": 15
           },
           "zerolinecolor": "white",
           "zerolinewidth": 2
          },
          "yaxis": {
           "automargin": true,
           "gridcolor": "white",
           "linecolor": "white",
           "ticks": "",
           "title": {
            "standoff": 15
           },
           "zerolinecolor": "white",
           "zerolinewidth": 2
          }
         }
        },
        "title": {
         "text": "Анализ Обучения"
        },
        "width": 1200,
        "xaxis": {
         "anchor": "y",
         "domain": [
          0,
          0.45
         ]
        },
        "xaxis2": {
         "anchor": "y2",
         "domain": [
          0.55,
          1
         ]
        },
        "xaxis3": {
         "anchor": "y3",
         "domain": [
          0,
          0.45
         ]
        },
        "xaxis4": {
         "anchor": "y4",
         "domain": [
          0.55,
          1
         ]
        },
        "yaxis": {
         "anchor": "x",
         "domain": [
          0.625,
          1
         ]
        },
        "yaxis2": {
         "anchor": "x2",
         "domain": [
          0.625,
          1
         ]
        },
        "yaxis3": {
         "anchor": "x3",
         "domain": [
          0,
          0.375
         ]
        },
        "yaxis4": {
         "anchor": "x4",
         "domain": [
          0,
          0.375
         ]
        }
       }
      }
     },
     "metadata": {},
     "output_type": "display_data"
    }
   ],
   "source": [
    "# %%\n",
    "\n",
    "trainer.plot_results()"
   ]
  }
 ],
 "metadata": {
  "kernelspec": {
   "display_name": ".venv",
   "language": "python",
   "name": "python3"
  },
  "language_info": {
   "codemirror_mode": {
    "name": "ipython",
    "version": 3
   },
   "file_extension": ".py",
   "mimetype": "text/x-python",
   "name": "python",
   "nbconvert_exporter": "python",
   "pygments_lexer": "ipython3",
   "version": "3.9.13"
  }
 },
 "nbformat": 4,
 "nbformat_minor": 2
}
