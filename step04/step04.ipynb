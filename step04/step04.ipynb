{
 "cells": [
  {
   "cell_type": "markdown",
   "metadata": {},
   "source": [
    "# Разработка метода извлечения значимой части контекста \n",
    "Сжатие контекста\n",
    "* Сжатие зашуленного контекста с сохранением смещения ответа в от предубежденного к контекстуализированному"
   ]
  },
  {
   "cell_type": "code",
   "execution_count": null,
   "metadata": {},
   "outputs": [],
   "source": []
  }
 ],
 "metadata": {
  "language_info": {
   "name": "python"
  }
 },
 "nbformat": 4,
 "nbformat_minor": 2
}
