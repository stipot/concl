{
 "cells": [
  {
   "cell_type": "code",
   "execution_count": 1,
   "metadata": {},
   "outputs": [],
   "source": [
    "a = [\n",
    "    {\n",
    "        \"fok\": \"Natural Sciences\",\n",
    "        \"sfok\": [\n",
    "            \"Mathematics\",\n",
    "            \"Computer and Information Sciences\",\n",
    "            \"Physical Sciences\",\n",
    "            \"Chemical Sciences\",\n",
    "            \"Earth and Related Environmental Sciences\",\n",
    "            \"Biological Sciences\",\n",
    "            \"Other Natural Sciences\",\n",
    "        ],\n",
    "    },\n",
    "    {\n",
    "        \"fok\": \"Engineering and Technology\",\n",
    "        \"sfok\": [\n",
    "            \"Civil Engineering\",\n",
    "            \"Electrical, Electronic and Information Engineering\",\n",
    "            \"Mechanical Engineering\",\n",
    "            \"Chemical Engineering\",\n",
    "            \"Materials Engineering\",\n",
    "            \"Medical Engineering\",\n",
    "            \"Environmental Engineering\",\n",
    "            \"Environmental Biotechnology\",\n",
    "            \"Industrial Biotechnology\",\n",
    "            \"Nanotechnology\",\n",
    "            \"Other Engineering and Technologies\",\n",
    "        ],\n",
    "    },\n",
    "    {\"fok\": \"Medical and Health Sciences\", \"sfok\": [\"Basic Medicine\", \"Clinical Medicine\", \"Health Sciences\", \"Medical Biotechnology\", \"Other Medical Sciences\"]},\n",
    "    {\n",
    "        \"fok\": \"Agricultural Sciences\",\n",
    "        \"sfok\": [\"Agriculture, Forestry, and Fisheries\", \"Animal and Dairy Science\", \"Veterinary Science\", \"Agricultural Biotechnology\", \"Other Agricultural Sciences\"],\n",
    "    },\n",
    "    {\n",
    "        \"fok\": \"Social Sciences\",\n",
    "        \"sfok\": [\n",
    "            \"Psychology\",\n",
    "            \"Economics\",\n",
    "            \"Business and Management\",\n",
    "            \"Education\",\n",
    "            \"Sociology\",\n",
    "            \"Law\",\n",
    "            \"Political Science\",\n",
    "            \"Social and Economic Geography\",\n",
    "            \"Media and Communications\",\n",
    "            \"Other Social Sciences\",\n",
    "        ],\n",
    "    },\n",
    "    {\"fok\": \"Humanities\", \"sfok\": [\"History and Archaeology\", \"Languages and Literature\", \"Philosophy, Ethics, and Religion\", \"Art (Theory and History)\", \"Other Humanities\"]},\n",
    "    {\n",
    "        \"fok\": \"Extended Fields for LLM\",\n",
    "        \"sfok\": [\n",
    "            \"Artificial Intelligence and Machine Learning\",\n",
    "            \"Digital Humanities\",\n",
    "            \"Ethics in AI\",\n",
    "            \"Environmental Informatics\",\n",
    "            \"Cognitive Science\",\n",
    "            \"Linguistics\",\n",
    "            \"Cultural Studies\",\n",
    "            \"History\",\n",
    "            \"Literature\",\n",
    "            \"Philosophy\",\n",
    "            \"Anthropology\",\n",
    "        ],\n",
    "    },\n",
    "]"
   ]
  },
  {
   "cell_type": "code",
   "execution_count": 15,
   "metadata": {},
   "outputs": [
    {
     "data": {
      "text/plain": [
       "[{'fok': 'Mathematics', 'sfok': []},\n",
       " {'fok': 'Computer and Information Sciences', 'sfok': []},\n",
       " {'fok': 'Physical Sciences', 'sfok': []},\n",
       " {'fok': 'Chemical Sciences', 'sfok': []},\n",
       " {'fok': 'Earth and Related Environmental Sciences', 'sfok': []}]"
      ]
     },
     "execution_count": 15,
     "metadata": {},
     "output_type": "execute_result"
    }
   ],
   "source": [
    "l = []\n",
    "[l.extend(el[\"sfok\"]) for el in a]\n",
    "[{\"fok\": el, \"sfok\": []} for el in l][:5]"
   ]
  }
 ],
 "metadata": {
  "kernelspec": {
   "display_name": ".venv",
   "language": "python",
   "name": "python3"
  },
  "language_info": {
   "codemirror_mode": {
    "name": "ipython",
    "version": 3
   },
   "file_extension": ".py",
   "mimetype": "text/x-python",
   "name": "python",
   "nbconvert_exporter": "python",
   "pygments_lexer": "ipython3",
   "version": "3.9.13"
  }
 },
 "nbformat": 4,
 "nbformat_minor": 2
}
