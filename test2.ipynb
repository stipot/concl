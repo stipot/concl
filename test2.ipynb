{
 "cells": [
  {
   "cell_type": "markdown",
   "metadata": {},
   "source": [
    "\n",
    "# сравнение функций потерь от сжатого и сырого контекстов."
   ]
  },
  {
   "cell_type": "markdown",
   "metadata": {},
   "source": [
    "#### Основная цель\n",
    "Обучить отдельную сеть \\( O \\) (модуль оптимизации контекста), которая динамически изменяет контекст таким образом, чтобы предсказания исходной языковой модели \\( M \\) оставались точными, несмотря на уменьшение объема информации в контексте.\n",
    "\n",
    "### Структура и Процесс Обучения\n",
    "\n",
    "1. **Основная Языковая Модель \\( M \\):**\n",
    "   - \\( M \\) — существующая языковая модель, такая как GPT-2, которая принимает на вход полный контекст и текущий фрагмент и генерирует предсказания.\n",
    "   - Цель \\( M \\) — максимальная точность предсказаний на основе полного контекста.\n",
    "\n",
    "2. **Модуль Оптимизации Контекста \\( O \\):**\n",
    "   - Модуль \\( O \\) используется для сжатия предыстории \\( C \\) с учетом текущего фрагмента \\( S \\), чтобы создать оптимизированный контекст \\( C' \\).\n",
    "   - Модуль \\( O \\) может быть реализован через нейронные сети, такие как трансформеры, рекуррентные сети или другие архитектуры, способные выделять ключевые элементы контекста.\n",
    "\n",
    "3. **Целевая Функция и Метрики:**\n",
    "   - Основной задачей является минимизация расхождения между предсказаниями модели \\( M \\) на основе \\( C' \\) и \\( C \\). Целевая функция может быть определена как:\n",
    "     \\[\n",
    "     L = \\text{Loss}(M(C', S), M(C, S))\n",
    "     \\]\n",
    "   - Для измерения качества сжатия можно использовать метрики, такие как среднеквадратичная ошибка (MSE) между эмбеддингами предсказаний, кросс-энтропия, и т.д.\n",
    "   - Важно также отслеживать сходимость потерь между \\( C' \\) и \\( C \\), чтобы убедиться, что \\( C' \\) минимально влияет на точность предсказаний.\n",
    "\n",
    "4. **Процесс Обучения:**\n",
    "   - **Шаг 1:** Из датасета создаются пары \\( (C, S, T) \\), где \\( C \\) — предыстория, \\( S \\) — текущий фрагмент, и \\( T \\) — целевой текст для предсказания.\n",
    "   - **Шаг 2:** Модуль \\( O \\) сжимает контекст \\( C \\), производя \\( C' = O(C, S) \\).\n",
    "   - **Шаг 3:** Модель \\( M \\) предсказывает на основе \\( (C', S) \\) и \\( (C, S) \\). Сравниваются предсказания для оценки потерь.\n",
    "   - **Шаг 4:** Потери используются для обновления параметров модуля \\( O \\), минимизируя влияние сжатия на точность.\n",
    "\n",
    "5. **Анализ и Диагностика:**\n",
    "   - Постепенно выводим промежуточные результаты для диагностики, включая анализ предсказаний по сжатому и полному контексту.\n",
    "   - Выполняем оценку примеров, где предсказания на основе сжатого контекста значительно отличаются от предсказаний на основе полного контекста.\n",
    "   - Используем фильтрацию данных для обучения, например, исключаем случаи, где текущий фрагмент уже достаточен для точного предсказания.\n",
    "\n",
    "### Рекомендации для Улучшения\n",
    "\n",
    "- **Итеративная Диагностика:** Важно регулярно проверять, насколько сжатый контекст \\( C' \\) сохраняет критическую информацию. Диагностика на нескольких примерах может выявить случаи, где \\( O \\) недооценивает важные части контекста.\n",
    "- **Контроль за Переобучением:** Следите за тем, чтобы модель \\( O \\) не начинала генерировать «фантазии» или добавлять избыточные детали в попытках компенсировать потерю информации.\n",
    "- **Улучшение Сходимости:** Добавьте регуляризацию или дополнительные ограничения на модель \\( O \\), чтобы предотвратить отклонения в сжатии, которые могут ухудшить точность предсказаний.\n",
    "\n",
    "### Ожидаемый Результат\n",
    "\n",
    "- Модуль \\( O \\) научится выделять только те части контекста, которые критически важны для точных предсказаний, избегая ненужного увеличения объема информации.\n",
    "- Модель \\( M \\), используя \\( C' \\), будет предсказывать с минимальной потерей точности, что укажет на успешное сжатие и оптимизацию контекста. \n"
   ]
  },
  {
   "cell_type": "markdown",
   "metadata": {},
   "source": [
    "### 1. **Подготовка Данных**\n",
    "   - **Предварительная обработка данных:** Датасет разбивается на последовательности: предыстория (context), текущий фрагмент (current_fragment), и целевой текст (target).\n",
    "   - **Фильтрация данных:** Удаляются пустые и нерелевантные записи, например, те, где текущий фрагмент не вносит значимого вклада в предсказание.\n",
    "   - **Предварительная оценка потерь:** Вычисляются потери для различных комбинаций контекста, что позволяет заранее оценить вклад контекста в точность предсказания.\n",
    "\n",
    "### 2. **Оптимизация Контекста**\n",
    "   - **Целевая функция:** Используется MSELoss для измерения расхождения между предсказаниями модели и целевыми значениями.\n",
    "   - **Сходимость потерь:** Основная цель — сходимость потерь сжатого контекста (compressed_loss) к потерям сырого контекста (raw_loss).\n",
    "   - **Контроль за «додумыванием»:** Введены штрафы за значительное отклонение между потерями сжатого и сырого контекста, чтобы предотвратить генерацию ложных зависимостей.\n",
    "\n",
    "### 3. **Адаптивная Регуляция Потерь**\n",
    "   - **Штрафы за расхождения:** Если потери сжатого контекста значительно отличаются от потерь сырого, в потери добавляется штраф, который стимулирует модель уменьшать эти различия.\n",
    "   - **Адаптивное обучение:** Обучение адаптируется на основе расхождений, улучшая способность модели сжимать контекст, сохраняя при этом точность.\n",
    "\n",
    "### 4. **Использование Промежуточных Датасетов**\n",
    "   - **Сохранение промежуточных результатов:** Включение предсказаний модели в промежуточный датасет, чтобы ускорить и упростить анализ, отладку и последующую оптимизацию.\n",
    "   - **Фильтрация на этапе подготовки:** Отбираются записи, в которых контекст оказывает значительное влияние на предсказания, отбрасывая те, где контекст несущественен.\n",
    "\n",
    "### 5. **Визуализация и Отладка**\n",
    "   - **Графики потерь:** Построение графиков с использованием Plotly для отслеживания динамики потерь сжатого и сырого контекстов.\n",
    "   - **Примеры для анализа:** Регулярный вывод примеров с различными типами предсказаний (сжатый контекст, сырой контекст, текущий фрагмент) для визуального анализа и проверки корректности работы модели.\n",
    "\n",
    "### 6. **Управление Временем и Эффективностью**\n",
    "   - **Оценка времени:** Оценка времени выполнения подготовки данных и каждой эпохи обучения на основе первых пяти циклов, что позволяет планировать ресурсозатраты.\n",
    "   - **Оптимизация кода:** Фокусировка на ключевых этапах, таких как загрузка моделей, настройка параметров и запуск оптимизации с минимальными затратами времени.\n",
    "\n",
    "### Основные цели:\n",
    "- Обеспечение качественного сжатия контекста без потери точности.\n",
    "- Сведение к минимуму расхождения потерь между сжатым и сырым контекстами.\n",
    "- Избежание нежелательных интерпретаций и «додумывания» контекста моделью."
   ]
  },
  {
   "cell_type": "markdown",
   "metadata": {},
   "source": [
    "## Модульная структура"
   ]
  },
  {
   "cell_type": "code",
   "execution_count": 89,
   "metadata": {},
   "outputs": [],
   "source": [
    "# Вспомогательные классы и методы\n",
    "\n",
    "import torch\n",
    "from transformers import GPT2Tokenizer, GPT2LMHeadModel\n",
    "import torch.nn as nn\n",
    "import plotly.graph_objects as go\n",
    "from IPython.display import display\n",
    "import os\n",
    "import json\n",
    "\n",
    "\n",
    "# Подготовка данных\n",
    "def prepare_data(dataset, max_length=300):\n",
    "    \"\"\"\n",
    "    Функция подготавливает данные из датасета, включая предысторию, текущий фрагмент и целевой фрагмент текста,\n",
    "    используя смещающееся окно по элементам датасета.\n",
    "\n",
    "    :param dataset: Датасет с текстами.\n",
    "    :param max_length: Максимальная длина текущего фрагмента.\n",
    "    :return: Список кортежей (предыстория, текущий фрагмент, целевой фрагмент).\n",
    "    \"\"\"\n",
    "    prepared_data = []\n",
    "    buffer = []\n",
    "    counter = 0\n",
    "    for example in dataset:\n",
    "        text = example[\"text\"].strip()\n",
    "\n",
    "        # Пропускаем пустые записи\n",
    "        # TODO Убрать отладочную выборку первых 1000 записей\n",
    "        if len(text) == 0 or counter > 1000:\n",
    "            continue\n",
    "        counter += 1\n",
    "        buffer.append(text)\n",
    "\n",
    "        # Если буфер содержит три фрагмента, создаем (context, current_fragment, target)\n",
    "        if len(buffer) == 3:\n",
    "            context, current_fragment, target = buffer\n",
    "\n",
    "            # Обрезаем фрагменты по max_length, если необходимо\n",
    "            context = context[:max_length].strip()\n",
    "            current_fragment = current_fragment[:max_length].strip()\n",
    "            target = target[:max_length].strip()\n",
    "\n",
    "            # Пропускаем записи, если какой-либо из фрагментов пустой\n",
    "            if all([context, current_fragment, target]):\n",
    "                prepared_data.append((context, current_fragment, target))\n",
    "\n",
    "            # Сдвигаем окно\n",
    "            buffer.pop(0)\n",
    "    return prepared_data\n",
    "\n",
    "\n",
    "# Функции для сохранения и загрузки модели\n",
    "def save_model(model, optimizer, path=\"context_optimizer.pth\"):\n",
    "    torch.save(\n",
    "        {\n",
    "            \"model_state_dict\": model.state_dict(),\n",
    "            \"optimizer_state_dict\": optimizer.state_dict(),\n",
    "        },\n",
    "        path,\n",
    "    )\n",
    "    print(f\"Model saved to {path}\")\n",
    "\n",
    "\n",
    "def load_model(model, optimizer, path=\"context_optimizer.pth\"):\n",
    "    if os.path.exists(path):\n",
    "        checkpoint = torch.load(path)\n",
    "        model.load_state_dict(checkpoint[\"model_state_dict\"])\n",
    "        optimizer.load_state_dict(checkpoint[\"optimizer_state_dict\"])\n",
    "        print(f\"Model loaded from {path}\")\n",
    "    else:\n",
    "        print(f\"Model file not found at {path}\")\n",
    "\n",
    "\n",
    "# Визуализация с использованием Plotly FigureWidget\n",
    "def create_loss_plot():\n",
    "    fig = go.FigureWidget()\n",
    "    fig.add_trace(go.Scatter(x=[], y=[], mode=\"lines+markers\", name=\"Raw Context Loss\"))\n",
    "    fig.add_trace(go.Scatter(x=[], y=[], mode=\"lines+markers\", name=\"Compressed Context Loss\"))\n",
    "    fig.add_trace(go.Scatter(x=[], y=[], mode=\"lines+markers\", name=\"Fragment Only Loss\"))\n",
    "    fig.update_layout(title=\"Графики потерь во время обучения\", xaxis_title=\"Эпоха\", yaxis_title=\"Среднее значение потерь\", template=\"plotly_dark\")\n",
    "    display(fig)\n",
    "    return fig\n",
    "\n",
    "\n",
    "def update_loss_plot(fig, epoch, raw_loss, compressed_loss, fragment_loss):\n",
    "    fig.data[0].x += (epoch,)\n",
    "    fig.data[0].y += (raw_loss,)\n",
    "    fig.data[1].x += (epoch,)\n",
    "    fig.data[1].y += (compressed_loss,)\n",
    "    fig.data[2].x += (epoch,)\n",
    "    fig.data[2].y += (fragment_loss,)\n",
    "    fig.show()\n",
    "\n",
    "\n",
    "# Функция для расчета compression ratio\n",
    "def calculate_compression_ratio(raw_embedding, compressed_embedding):\n",
    "    \"\"\"\n",
    "    Вычисляет отношение нормы сжатого контекста к норме сырого контекста.\n",
    "    \"\"\"\n",
    "    raw_norm = torch.norm(raw_embedding, p=2, dim=1)\n",
    "    compressed_norm = torch.norm(compressed_embedding, p=2, dim=1)\n",
    "    return compressed_norm / raw_norm\n",
    "\n",
    "\n",
    "# Предсказание на основе сжатого контекста\n",
    "def predict_with_compressed_context(compressed_context, current_fragment, tokenizer, gpt2_model, device):\n",
    "    \"\"\"\n",
    "    Делает предсказание на основе сжатого контекста и текущего фрагмента,\n",
    "    с использованием механизма внимания для более корректного объединения.\n",
    "    \"\"\"\n",
    "    inputs = tokenizer(current_fragment, return_tensors=\"pt\").to(device)\n",
    "    input_ids = inputs[\"input_ids\"]\n",
    "\n",
    "    # Используем механизм внимания для объединения сжатого контекста и текущего фрагмента\n",
    "    with torch.no_grad():\n",
    "        # Получаем эмбеддинги текущего фрагмента\n",
    "        fragment_embeddings = gpt2_model.transformer.wte(input_ids)\n",
    "\n",
    "        # Выполняем элементное произведение, чтобы скорректировать вклад сжатого контекста\n",
    "        combined_embeddings = compressed_context * fragment_embeddings\n",
    "\n",
    "        outputs = gpt2_model(inputs_embeds=combined_embeddings)\n",
    "        logits = outputs.logits\n",
    "\n",
    "    predicted_index = torch.argmax(logits[0, -1, :]).item()\n",
    "    predicted_token = tokenizer.decode([predicted_index])\n",
    "    return predicted_token\n",
    "\n",
    "\n",
    "# Использование предсказаний из предподготовленных данных\n",
    "def evaluate_with_prepared_data(prepared_data, model, tokenizer, gpt2_model, device):\n",
    "    \"\"\"\n",
    "    Выполняет оценку качества предсказаний с использованием подготовленных данных.\n",
    "    \"\"\"\n",
    "    for entry in prepared_data:\n",
    "        context = entry[\"context\"]\n",
    "        current_fragment = entry[\"current_fragment\"]\n",
    "        target = entry[\"target\"]\n",
    "        raw_prediction = entry[\"raw_prediction\"]\n",
    "        fragment_prediction = entry[\"fragment_prediction\"]\n",
    "\n",
    "        # Сжатие контекста и предсказание с ним\n",
    "        compressed_context = model.compress(context)  # Предположим, у нас есть метод compress в модели\n",
    "        compressed_prediction = predict_with_compressed_context(compressed_context, current_fragment, tokenizer, gpt2_model, device)\n",
    "\n",
    "        # Сравнение предсказаний\n",
    "        print(f\"Контекст: {context}\")\n",
    "        print(f\"Текущий фрагмент: {current_fragment}\")\n",
    "        print(f\"Целевой текст: {target}\")\n",
    "        print(f\"Предсказание по сырому контексту: {raw_prediction}\")\n",
    "        print(f\"Предсказание по текущему фрагменту: {fragment_prediction}\")\n",
    "        print(f\"Предсказание по сжатому контексту: {compressed_prediction}\\n\")\n",
    "\n",
    "\n",
    "def load_intermediate_dataset(file_path):\n",
    "    with open(file_path, \"r\") as f:\n",
    "        data = json.load(f)\n",
    "    return data"
   ]
  },
  {
   "cell_type": "code",
   "execution_count": 87,
   "metadata": {},
   "outputs": [],
   "source": [
    "# Модель сжатия контекста\n",
    "\n",
    "\n",
    "class ContextOptimizer(nn.Module):\n",
    "    def __init__(self, input_size, hidden_size):\n",
    "        super(ContextOptimizer, self).__init__()\n",
    "        self.fc1 = nn.Linear(input_size, hidden_size)\n",
    "        self.fc2 = nn.Linear(hidden_size, input_size)\n",
    "        self.relu = nn.ReLU()\n",
    "\n",
    "    def forward(self, context):\n",
    "        x = self.relu(self.fc1(context))\n",
    "        x = self.fc2(x)\n",
    "        return x\n",
    "\n",
    "\n",
    "# Функция для сжатия контекста\n",
    "def compress_context(context, optimizer, tokenizer, gpt2_model, device):\n",
    "    # Здесь выполняется сжатие контекста\n",
    "    # Убедитесь, что сжатие выполняется корректно и возвращает ожидаемые результаты\n",
    "\n",
    "    inputs = tokenizer(context, return_tensors=\"pt\").to(device)\n",
    "    with torch.no_grad():\n",
    "        outputs = gpt2_model(**inputs, output_hidden_states=True)\n",
    "        raw_context_embedding = outputs.hidden_states[-1].mean(dim=1)\n",
    "\n",
    "    # Дополнительная проверка перед сжатием\n",
    "    if raw_context_embedding is None or raw_context_embedding.size(0) == 0:\n",
    "        print(\"Warning: raw_context_embedding is empty or invalid\")\n",
    "\n",
    "    # Пример сжатия (эта часть зависит от конкретной реализации оптимизатора)\n",
    "    compressed_context = optimizer(raw_context_embedding)\n",
    "\n",
    "    # Проверка формы и значений сжатого контекста\n",
    "    if not (compressed_context is not None and isinstance(compressed_context, torch.Tensor)):\n",
    "        print(\"Compressed context is invalid\")\n",
    "\n",
    "    return compressed_context, raw_context_embedding"
   ]
  },
  {
   "cell_type": "code",
   "execution_count": 86,
   "metadata": {},
   "outputs": [],
   "source": [
    "# Оптимизация сжатия с использованием промежуточных данных\n",
    "import time\n",
    "import torch.optim as optim\n",
    "\n",
    "\n",
    "def train_context_optimizer(optimizer, intermediate_data, tokenizer, gpt2_model, epochs=4, device=\"cpu\"):\n",
    "    criterion = nn.MSELoss()\n",
    "    opt = optim.Adam(optimizer.parameters(), lr=0.001)\n",
    "    raw_loss_values = []\n",
    "    compressed_loss_values = []\n",
    "    fragment_loss_values = []\n",
    "\n",
    "    # Инициализация графика потерь\n",
    "    loss_fig = create_loss_plot()\n",
    "\n",
    "    for epoch in range(epochs):\n",
    "        total_compression_ratio = 0\n",
    "        total_compressed_loss = 0\n",
    "        total_divergence = 0  # Переменная для отслеживания расхождения между потерями\n",
    "        count = 0\n",
    "\n",
    "        examples = []  # Список для сохранения примеров для диагностики\n",
    "\n",
    "        for entry in intermediate_data:\n",
    "            context = entry[\"context\"]\n",
    "            current_fragment = entry[\"current_fragment\"]\n",
    "            target = entry[\"target\"]\n",
    "\n",
    "            # Используем предвычисленные значения потерь для сырого контекста и текущего фрагмента\n",
    "            raw_loss = entry[\"raw_loss\"]\n",
    "            fragment_loss = entry[\"fragment_loss\"]\n",
    "\n",
    "            # Подготовка целевого предсказания\n",
    "            target_input = tokenizer(target, return_tensors=\"pt\").to(device)\n",
    "            with torch.no_grad():\n",
    "                target_output = gpt2_model(**target_input, output_hidden_states=True)\n",
    "                target_embedding = target_output.hidden_states[-1].mean(dim=1)\n",
    "\n",
    "            # Сжатие контекста и вычисление потерь для сжатого контекста в комбинации с текущим фрагментом\n",
    "            compressed_context, raw_context_embedding = compress_context(context, optimizer, tokenizer, gpt2_model, device)\n",
    "            compressed_inputs = tokenizer(current_fragment, return_tensors=\"pt\").to(device)\n",
    "            compressed_inputs_embeds = compressed_context + gpt2_model.transformer.wte(compressed_inputs[\"input_ids\"])\n",
    "            compressed_outputs = gpt2_model(inputs_embeds=compressed_inputs_embeds, output_hidden_states=True).hidden_states[-1].mean(dim=1)\n",
    "            compressed_loss = criterion(compressed_outputs, target_embedding)\n",
    "\n",
    "            # Вычисление расхождения потерь\n",
    "            divergence = abs(compressed_loss.item() - raw_loss)\n",
    "            total_divergence += divergence\n",
    "\n",
    "            # Корректировка потерь для учета расхождения\n",
    "            adjusted_loss = compressed_loss + divergence  # Добавляем расхождение для управления сходимостью\n",
    "\n",
    "            # Вычисление compression ratio\n",
    "            compression_ratio = calculate_compression_ratio(raw_context_embedding, compressed_context)\n",
    "            total_compression_ratio += compression_ratio.item()\n",
    "\n",
    "            # Обновление оптимизатора только по скорректированным потерям\n",
    "            opt.zero_grad()\n",
    "            adjusted_loss.backward()\n",
    "            opt.step()\n",
    "\n",
    "            total_compressed_loss += compressed_loss.item()\n",
    "            count += 1\n",
    "\n",
    "            # Сохранение примеров для диагностики\n",
    "            if len(examples) < 3:  # Сохраняем три примера для вывода\n",
    "                with torch.no_grad():\n",
    "                    compressed_pred = predict_with_compressed_context(compressed_context, current_fragment, tokenizer, gpt2_model, device)\n",
    "                    raw_pred = entry[\"raw_prediction\"]\n",
    "                    fragment_pred = entry[\"fragment_prediction\"]\n",
    "\n",
    "                # Проверяем и обрабатываем compressed_context корректно перед декодированием\n",
    "                # Проверяем содержимое compressed_context перед декодированием\n",
    "                if compressed_context is not None and isinstance(compressed_context, torch.Tensor):\n",
    "                    # Проверка значений тензора\n",
    "                    compressed_tokens = compressed_context.squeeze().tolist()\n",
    "                    valid_tokens = [int(token) for token in compressed_tokens if isinstance(token, (int, float)) and 0 <= token < tokenizer.vocab_size]\n",
    "\n",
    "                    if valid_tokens:\n",
    "                        # Декодируем только корректные значения токенов\n",
    "                        compressed_context_text = tokenizer.decode(valid_tokens)\n",
    "                    else:\n",
    "                        compressed_context_text = \"Empty or Invalid tokens found in compressed context\"\n",
    "                else:\n",
    "                    compressed_context_text = \"N/A\"\n",
    "\n",
    "                examples.append(\n",
    "                    {\n",
    "                        \"context\": context,\n",
    "                        \"compressed_context\": compressed_context_text,\n",
    "                        \"current_fragment\": current_fragment,\n",
    "                        \"compressed_prediction\": compressed_pred,\n",
    "                        \"raw_prediction\": raw_pred,\n",
    "                        \"fragment_prediction\": fragment_pred,\n",
    "                        \"target\": tokenizer.decode(target_input[\"input_ids\"].squeeze().tolist()),\n",
    "                    }\n",
    "                )\n",
    "\n",
    "        avg_compressed_loss = total_compressed_loss / count if count > 0 else 0\n",
    "        avg_compression_ratio = total_compression_ratio / count if count > 0 else 0\n",
    "        avg_divergence = total_divergence / count if count > 0 else 0\n",
    "        raw_loss_values.append(raw_loss)\n",
    "        compressed_loss_values.append(avg_compressed_loss)\n",
    "        fragment_loss_values.append(fragment_loss)\n",
    "\n",
    "        print(f\"Epoch {epoch+1}, Avg Compressed Context Loss: {avg_compressed_loss:.4f}, Avg Compression Ratio: {avg_compression_ratio:.4f}, Avg Divergence: {avg_divergence:.4f}\")\n",
    "\n",
    "        # Обновление графика после каждой эпохи\n",
    "        update_loss_plot(loss_fig, epoch + 1, raw_loss, avg_compressed_loss, fragment_loss)\n",
    "\n",
    "        # Вывод примеров для диагностики после каждой эпохи\n",
    "        print(f\"\\n=== Диагностика после эпохи {epoch+1} ===\")\n",
    "        for idx, example in enumerate(examples):\n",
    "            print(f\"\\nПример {idx+1}:\")\n",
    "            print(f\"Предыстория: {example['context']}\")\n",
    "            print(f\"Сжатый контекст: {example['compressed_context']}\")\n",
    "            print(f\"Текущий фрагмент: {example['current_fragment']}\")\n",
    "            print(f\"Предсказание по сжатому контексту: {example['compressed_prediction']}\")\n",
    "            print(f\"Предсказание по сырому контексту: {example['raw_prediction']}\")\n",
    "            print(f\"Предсказание по текущему фрагменту: {example['fragment_prediction']}\")\n",
    "            print(f\"Целевой текст: {example['target']}\")\n",
    "\n",
    "    return raw_loss_values, compressed_loss_values, fragment_loss_values"
   ]
  },
  {
   "cell_type": "code",
   "execution_count": 90,
   "metadata": {},
   "outputs": [
    {
     "name": "stdout",
     "output_type": "stream",
     "text": [
      "Using device: cpu\n"
     ]
    },
    {
     "name": "stderr",
     "output_type": "stream",
     "text": [
      "c:\\git\\MUIV\\concl\\.venv\\lib\\site-packages\\transformers\\tokenization_utils_base.py:1601: FutureWarning:\n",
      "\n",
      "`clean_up_tokenization_spaces` was not set. It will be set to `True` by default. This behavior will be depracted in transformers v4.45, and will be then set to `False` by default. For more details check this issue: https://github.com/huggingface/transformers/issues/31884\n",
      "\n"
     ]
    },
    {
     "name": "stdout",
     "output_type": "stream",
     "text": [
      "Model file not found at context_optimizer.pth\n"
     ]
    },
    {
     "data": {
      "application/vnd.jupyter.widget-view+json": {
       "model_id": "dfcd3dc4805f4754a2f8fbfebd575fde",
       "version_major": 2,
       "version_minor": 0
      },
      "text/plain": [
       "FigureWidget({\n",
       "    'data': [{'mode': 'lines+markers',\n",
       "              'name': 'Raw Context Loss',\n",
       "              'type': 'scatter',\n",
       "              'uid': '62414bf8-573b-447b-a691-bbd6e208413f',\n",
       "              'x': [],\n",
       "              'y': []},\n",
       "             {'mode': 'lines+markers',\n",
       "              'name': 'Compressed Context Loss',\n",
       "              'type': 'scatter',\n",
       "              'uid': '124ccac1-04d6-40ec-82ca-fbb5fb4bdc2d',\n",
       "              'x': [],\n",
       "              'y': []},\n",
       "             {'mode': 'lines+markers',\n",
       "              'name': 'Fragment Only Loss',\n",
       "              'type': 'scatter',\n",
       "              'uid': '9f5922f1-e3c0-4a25-87b5-516383ffb417',\n",
       "              'x': [],\n",
       "              'y': []}],\n",
       "    'layout': {'template': '...',\n",
       "               'title': {'text': 'Графики потерь во время обучения'},\n",
       "               'xaxis': {'title': {'text': 'Эпоха'}},\n",
       "               'yaxis': {'title': {'text': 'Среднее значение потерь'}}}\n",
       "})"
      ]
     },
     "metadata": {},
     "output_type": "display_data"
    },
    {
     "name": "stdout",
     "output_type": "stream",
     "text": [
      "Epoch 1, Avg Compressed Context Loss: 0.9561, Avg Compression Ratio: 0.4945, Avg Divergence: 0.7386\n"
     ]
    },
    {
     "data": {
      "application/vnd.plotly.v1+json": {
       "config": {
        "plotlyServerURL": "https://plot.ly"
       },
       "data": [
        {
         "mode": "lines+markers",
         "name": "Raw Context Loss",
         "type": "scatter",
         "uid": "62414bf8-573b-447b-a691-bbd6e208413f",
         "x": [
          1
         ],
         "y": [
          0.2385900616645813
         ]
        },
        {
         "mode": "lines+markers",
         "name": "Compressed Context Loss",
         "type": "scatter",
         "uid": "124ccac1-04d6-40ec-82ca-fbb5fb4bdc2d",
         "x": [
          1
         ],
         "y": [
          0.9561335407386576
         ]
        },
        {
         "mode": "lines+markers",
         "name": "Fragment Only Loss",
         "type": "scatter",
         "uid": "9f5922f1-e3c0-4a25-87b5-516383ffb417",
         "x": [
          1
         ],
         "y": [
          0.27232280373573303
         ]
        }
       ],
       "layout": {
        "template": {
         "data": {
          "bar": [
           {
            "error_x": {
             "color": "#f2f5fa"
            },
            "error_y": {
             "color": "#f2f5fa"
            },
            "marker": {
             "line": {
              "color": "rgb(17,17,17)",
              "width": 0.5
             },
             "pattern": {
              "fillmode": "overlay",
              "size": 10,
              "solidity": 0.2
             }
            },
            "type": "bar"
           }
          ],
          "barpolar": [
           {
            "marker": {
             "line": {
              "color": "rgb(17,17,17)",
              "width": 0.5
             },
             "pattern": {
              "fillmode": "overlay",
              "size": 10,
              "solidity": 0.2
             }
            },
            "type": "barpolar"
           }
          ],
          "carpet": [
           {
            "aaxis": {
             "endlinecolor": "#A2B1C6",
             "gridcolor": "#506784",
             "linecolor": "#506784",
             "minorgridcolor": "#506784",
             "startlinecolor": "#A2B1C6"
            },
            "baxis": {
             "endlinecolor": "#A2B1C6",
             "gridcolor": "#506784",
             "linecolor": "#506784",
             "minorgridcolor": "#506784",
             "startlinecolor": "#A2B1C6"
            },
            "type": "carpet"
           }
          ],
          "choropleth": [
           {
            "colorbar": {
             "outlinewidth": 0,
             "ticks": ""
            },
            "type": "choropleth"
           }
          ],
          "contour": [
           {
            "colorbar": {
             "outlinewidth": 0,
             "ticks": ""
            },
            "colorscale": [
             [
              0,
              "#0d0887"
             ],
             [
              0.1111111111111111,
              "#46039f"
             ],
             [
              0.2222222222222222,
              "#7201a8"
             ],
             [
              0.3333333333333333,
              "#9c179e"
             ],
             [
              0.4444444444444444,
              "#bd3786"
             ],
             [
              0.5555555555555556,
              "#d8576b"
             ],
             [
              0.6666666666666666,
              "#ed7953"
             ],
             [
              0.7777777777777778,
              "#fb9f3a"
             ],
             [
              0.8888888888888888,
              "#fdca26"
             ],
             [
              1,
              "#f0f921"
             ]
            ],
            "type": "contour"
           }
          ],
          "contourcarpet": [
           {
            "colorbar": {
             "outlinewidth": 0,
             "ticks": ""
            },
            "type": "contourcarpet"
           }
          ],
          "heatmap": [
           {
            "colorbar": {
             "outlinewidth": 0,
             "ticks": ""
            },
            "colorscale": [
             [
              0,
              "#0d0887"
             ],
             [
              0.1111111111111111,
              "#46039f"
             ],
             [
              0.2222222222222222,
              "#7201a8"
             ],
             [
              0.3333333333333333,
              "#9c179e"
             ],
             [
              0.4444444444444444,
              "#bd3786"
             ],
             [
              0.5555555555555556,
              "#d8576b"
             ],
             [
              0.6666666666666666,
              "#ed7953"
             ],
             [
              0.7777777777777778,
              "#fb9f3a"
             ],
             [
              0.8888888888888888,
              "#fdca26"
             ],
             [
              1,
              "#f0f921"
             ]
            ],
            "type": "heatmap"
           }
          ],
          "heatmapgl": [
           {
            "colorbar": {
             "outlinewidth": 0,
             "ticks": ""
            },
            "colorscale": [
             [
              0,
              "#0d0887"
             ],
             [
              0.1111111111111111,
              "#46039f"
             ],
             [
              0.2222222222222222,
              "#7201a8"
             ],
             [
              0.3333333333333333,
              "#9c179e"
             ],
             [
              0.4444444444444444,
              "#bd3786"
             ],
             [
              0.5555555555555556,
              "#d8576b"
             ],
             [
              0.6666666666666666,
              "#ed7953"
             ],
             [
              0.7777777777777778,
              "#fb9f3a"
             ],
             [
              0.8888888888888888,
              "#fdca26"
             ],
             [
              1,
              "#f0f921"
             ]
            ],
            "type": "heatmapgl"
           }
          ],
          "histogram": [
           {
            "marker": {
             "pattern": {
              "fillmode": "overlay",
              "size": 10,
              "solidity": 0.2
             }
            },
            "type": "histogram"
           }
          ],
          "histogram2d": [
           {
            "colorbar": {
             "outlinewidth": 0,
             "ticks": ""
            },
            "colorscale": [
             [
              0,
              "#0d0887"
             ],
             [
              0.1111111111111111,
              "#46039f"
             ],
             [
              0.2222222222222222,
              "#7201a8"
             ],
             [
              0.3333333333333333,
              "#9c179e"
             ],
             [
              0.4444444444444444,
              "#bd3786"
             ],
             [
              0.5555555555555556,
              "#d8576b"
             ],
             [
              0.6666666666666666,
              "#ed7953"
             ],
             [
              0.7777777777777778,
              "#fb9f3a"
             ],
             [
              0.8888888888888888,
              "#fdca26"
             ],
             [
              1,
              "#f0f921"
             ]
            ],
            "type": "histogram2d"
           }
          ],
          "histogram2dcontour": [
           {
            "colorbar": {
             "outlinewidth": 0,
             "ticks": ""
            },
            "colorscale": [
             [
              0,
              "#0d0887"
             ],
             [
              0.1111111111111111,
              "#46039f"
             ],
             [
              0.2222222222222222,
              "#7201a8"
             ],
             [
              0.3333333333333333,
              "#9c179e"
             ],
             [
              0.4444444444444444,
              "#bd3786"
             ],
             [
              0.5555555555555556,
              "#d8576b"
             ],
             [
              0.6666666666666666,
              "#ed7953"
             ],
             [
              0.7777777777777778,
              "#fb9f3a"
             ],
             [
              0.8888888888888888,
              "#fdca26"
             ],
             [
              1,
              "#f0f921"
             ]
            ],
            "type": "histogram2dcontour"
           }
          ],
          "mesh3d": [
           {
            "colorbar": {
             "outlinewidth": 0,
             "ticks": ""
            },
            "type": "mesh3d"
           }
          ],
          "parcoords": [
           {
            "line": {
             "colorbar": {
              "outlinewidth": 0,
              "ticks": ""
             }
            },
            "type": "parcoords"
           }
          ],
          "pie": [
           {
            "automargin": true,
            "type": "pie"
           }
          ],
          "scatter": [
           {
            "marker": {
             "line": {
              "color": "#283442"
             }
            },
            "type": "scatter"
           }
          ],
          "scatter3d": [
           {
            "line": {
             "colorbar": {
              "outlinewidth": 0,
              "ticks": ""
             }
            },
            "marker": {
             "colorbar": {
              "outlinewidth": 0,
              "ticks": ""
             }
            },
            "type": "scatter3d"
           }
          ],
          "scattercarpet": [
           {
            "marker": {
             "colorbar": {
              "outlinewidth": 0,
              "ticks": ""
             }
            },
            "type": "scattercarpet"
           }
          ],
          "scattergeo": [
           {
            "marker": {
             "colorbar": {
              "outlinewidth": 0,
              "ticks": ""
             }
            },
            "type": "scattergeo"
           }
          ],
          "scattergl": [
           {
            "marker": {
             "line": {
              "color": "#283442"
             }
            },
            "type": "scattergl"
           }
          ],
          "scattermapbox": [
           {
            "marker": {
             "colorbar": {
              "outlinewidth": 0,
              "ticks": ""
             }
            },
            "type": "scattermapbox"
           }
          ],
          "scatterpolar": [
           {
            "marker": {
             "colorbar": {
              "outlinewidth": 0,
              "ticks": ""
             }
            },
            "type": "scatterpolar"
           }
          ],
          "scatterpolargl": [
           {
            "marker": {
             "colorbar": {
              "outlinewidth": 0,
              "ticks": ""
             }
            },
            "type": "scatterpolargl"
           }
          ],
          "scatterternary": [
           {
            "marker": {
             "colorbar": {
              "outlinewidth": 0,
              "ticks": ""
             }
            },
            "type": "scatterternary"
           }
          ],
          "surface": [
           {
            "colorbar": {
             "outlinewidth": 0,
             "ticks": ""
            },
            "colorscale": [
             [
              0,
              "#0d0887"
             ],
             [
              0.1111111111111111,
              "#46039f"
             ],
             [
              0.2222222222222222,
              "#7201a8"
             ],
             [
              0.3333333333333333,
              "#9c179e"
             ],
             [
              0.4444444444444444,
              "#bd3786"
             ],
             [
              0.5555555555555556,
              "#d8576b"
             ],
             [
              0.6666666666666666,
              "#ed7953"
             ],
             [
              0.7777777777777778,
              "#fb9f3a"
             ],
             [
              0.8888888888888888,
              "#fdca26"
             ],
             [
              1,
              "#f0f921"
             ]
            ],
            "type": "surface"
           }
          ],
          "table": [
           {
            "cells": {
             "fill": {
              "color": "#506784"
             },
             "line": {
              "color": "rgb(17,17,17)"
             }
            },
            "header": {
             "fill": {
              "color": "#2a3f5f"
             },
             "line": {
              "color": "rgb(17,17,17)"
             }
            },
            "type": "table"
           }
          ]
         },
         "layout": {
          "annotationdefaults": {
           "arrowcolor": "#f2f5fa",
           "arrowhead": 0,
           "arrowwidth": 1
          },
          "autotypenumbers": "strict",
          "coloraxis": {
           "colorbar": {
            "outlinewidth": 0,
            "ticks": ""
           }
          },
          "colorscale": {
           "diverging": [
            [
             0,
             "#8e0152"
            ],
            [
             0.1,
             "#c51b7d"
            ],
            [
             0.2,
             "#de77ae"
            ],
            [
             0.3,
             "#f1b6da"
            ],
            [
             0.4,
             "#fde0ef"
            ],
            [
             0.5,
             "#f7f7f7"
            ],
            [
             0.6,
             "#e6f5d0"
            ],
            [
             0.7,
             "#b8e186"
            ],
            [
             0.8,
             "#7fbc41"
            ],
            [
             0.9,
             "#4d9221"
            ],
            [
             1,
             "#276419"
            ]
           ],
           "sequential": [
            [
             0,
             "#0d0887"
            ],
            [
             0.1111111111111111,
             "#46039f"
            ],
            [
             0.2222222222222222,
             "#7201a8"
            ],
            [
             0.3333333333333333,
             "#9c179e"
            ],
            [
             0.4444444444444444,
             "#bd3786"
            ],
            [
             0.5555555555555556,
             "#d8576b"
            ],
            [
             0.6666666666666666,
             "#ed7953"
            ],
            [
             0.7777777777777778,
             "#fb9f3a"
            ],
            [
             0.8888888888888888,
             "#fdca26"
            ],
            [
             1,
             "#f0f921"
            ]
           ],
           "sequentialminus": [
            [
             0,
             "#0d0887"
            ],
            [
             0.1111111111111111,
             "#46039f"
            ],
            [
             0.2222222222222222,
             "#7201a8"
            ],
            [
             0.3333333333333333,
             "#9c179e"
            ],
            [
             0.4444444444444444,
             "#bd3786"
            ],
            [
             0.5555555555555556,
             "#d8576b"
            ],
            [
             0.6666666666666666,
             "#ed7953"
            ],
            [
             0.7777777777777778,
             "#fb9f3a"
            ],
            [
             0.8888888888888888,
             "#fdca26"
            ],
            [
             1,
             "#f0f921"
            ]
           ]
          },
          "colorway": [
           "#636efa",
           "#EF553B",
           "#00cc96",
           "#ab63fa",
           "#FFA15A",
           "#19d3f3",
           "#FF6692",
           "#B6E880",
           "#FF97FF",
           "#FECB52"
          ],
          "font": {
           "color": "#f2f5fa"
          },
          "geo": {
           "bgcolor": "rgb(17,17,17)",
           "lakecolor": "rgb(17,17,17)",
           "landcolor": "rgb(17,17,17)",
           "showlakes": true,
           "showland": true,
           "subunitcolor": "#506784"
          },
          "hoverlabel": {
           "align": "left"
          },
          "hovermode": "closest",
          "mapbox": {
           "style": "dark"
          },
          "paper_bgcolor": "rgb(17,17,17)",
          "plot_bgcolor": "rgb(17,17,17)",
          "polar": {
           "angularaxis": {
            "gridcolor": "#506784",
            "linecolor": "#506784",
            "ticks": ""
           },
           "bgcolor": "rgb(17,17,17)",
           "radialaxis": {
            "gridcolor": "#506784",
            "linecolor": "#506784",
            "ticks": ""
           }
          },
          "scene": {
           "xaxis": {
            "backgroundcolor": "rgb(17,17,17)",
            "gridcolor": "#506784",
            "gridwidth": 2,
            "linecolor": "#506784",
            "showbackground": true,
            "ticks": "",
            "zerolinecolor": "#C8D4E3"
           },
           "yaxis": {
            "backgroundcolor": "rgb(17,17,17)",
            "gridcolor": "#506784",
            "gridwidth": 2,
            "linecolor": "#506784",
            "showbackground": true,
            "ticks": "",
            "zerolinecolor": "#C8D4E3"
           },
           "zaxis": {
            "backgroundcolor": "rgb(17,17,17)",
            "gridcolor": "#506784",
            "gridwidth": 2,
            "linecolor": "#506784",
            "showbackground": true,
            "ticks": "",
            "zerolinecolor": "#C8D4E3"
           }
          },
          "shapedefaults": {
           "line": {
            "color": "#f2f5fa"
           }
          },
          "sliderdefaults": {
           "bgcolor": "#C8D4E3",
           "bordercolor": "rgb(17,17,17)",
           "borderwidth": 1,
           "tickwidth": 0
          },
          "ternary": {
           "aaxis": {
            "gridcolor": "#506784",
            "linecolor": "#506784",
            "ticks": ""
           },
           "baxis": {
            "gridcolor": "#506784",
            "linecolor": "#506784",
            "ticks": ""
           },
           "bgcolor": "rgb(17,17,17)",
           "caxis": {
            "gridcolor": "#506784",
            "linecolor": "#506784",
            "ticks": ""
           }
          },
          "title": {
           "x": 0.05
          },
          "updatemenudefaults": {
           "bgcolor": "#506784",
           "borderwidth": 0
          },
          "xaxis": {
           "automargin": true,
           "gridcolor": "#283442",
           "linecolor": "#506784",
           "ticks": "",
           "title": {
            "standoff": 15
           },
           "zerolinecolor": "#283442",
           "zerolinewidth": 2
          },
          "yaxis": {
           "automargin": true,
           "gridcolor": "#283442",
           "linecolor": "#506784",
           "ticks": "",
           "title": {
            "standoff": 15
           },
           "zerolinecolor": "#283442",
           "zerolinewidth": 2
          }
         }
        },
        "title": {
         "text": "Графики потерь во время обучения"
        },
        "xaxis": {
         "title": {
          "text": "Эпоха"
         }
        },
        "yaxis": {
         "title": {
          "text": "Среднее значение потерь"
         }
        }
       }
      }
     },
     "metadata": {},
     "output_type": "display_data"
    },
    {
     "name": "stdout",
     "output_type": "stream",
     "text": [
      "\n",
      "=== Диагностика после эпохи 1 ===\n",
      "\n",
      "Пример 1:\n",
      "Предыстория: = = Development = =\n",
      "Сжатый контекст: #\"!!!!!#\"#\"\"!!\"!!!\"!\"!!!!\"!!!!!!\"##!!!!!!\"!!!\"#!\"\"!!\"#!!\"!!!!!!#\"\"#\"$!!!\"!!!\"\"!!!\"!\"!\"!!###!##!!!!\"!\"%!!\"!\"!!!\"!!\"!#!!!!!\"##\"!$!!\"!#\"\"\"!!!\"!\"\"!!!!!!\"$!\"\"!##!!#!!!!!$!!!#\"!!#%!$!!!!!#!\"!!!!!!$\"\"!!!\"!!!\"!!!\"#\"!!#\"!#!!!!!\"!!\"!!!\"!!#!!\"!\"!!\"!!!!!\"!#!!#!!!!!\"!$!#!!!#!\"!!!!!\"\"!#!\"\"!!#!!\"!!!!!!!\"#!!\"!!!!\"!!\"\"\"\"!\"#!!\"!#\"!\"\"$#!!!!!!#!!\"##\"!\"!!!!\"\"!!\"!#!\"!!!!\"#\"!!#!#!!#\"\"!!\"\"\"!\"#!\"!##!\"#\"!\"#!\n",
      "Текущий фрагмент: Concept work for Valkyria Chronicles III began after development finished on Valkyria Chronicles II in early 2010 , with full development beginning shortly after this . The director of Valkyria Chronicles II , Takeshi Ozawa , returned to that role for Valkyria Chronicles III . Development work took approximately one year . After the release of Valkyria Chronicles II , the staff took a look at both the popular response for the game and what they wanted to do next for the series . Like its predece\n",
      "Предсказание по сжатому контексту:  and\n",
      "Предсказание по сырому контексту: \n",
      " \". Development Development = = theectria Chronicles 2. in the of. thealkyria Chronicles II. 2011 2011. and the development on in after the.\n",
      " game of developmentalkyria Chronicles III, Kazhi Kawa, was to the role in thealkyria Chronicles III in\n",
      " of on place two year to\n",
      " the completion of Valkyria Chronicles III, the game of over break at the the game and to the game and the the thought to do with. the game. The the predecessorilevelopased\n",
      "Предсказание по текущему фрагменту: .s is theFXria Chronicles 2: in the of. thealkyria Chronicles II. 2011 2013. and the support on in after the.\n",
      " game of thealkyria Chronicles III, Kazhi Kawa, was to the project in thealkyria Chronicles III in\n",
      " on on place two year to\n",
      " the completion of Valkyria Chronicles III, the game of over break at the the game and to the game and the the thought to do with. the game.\n",
      " the predecessorileceased\n",
      "Целевой текст: The majority of material created for previous games, such as the BLiTZ system and the design of maps, was carried over. Alongside this, improvements were made to the game's graphics and some elements were expanded, such as map layouts, mission structure, and the number of playable units per mission. A part of this upgrade involved creating unique polygon models for each character's body. In order to achieve this, the cooperative elements incorporated into the second game were removed\n",
      "\n",
      "Пример 2:\n",
      "Предыстория: = = Reception = =\n",
      "Сжатый контекст: #!!!\"!####!#\"!\"!!!\"!\"\"!\"\"!!\"#$\"!!!\"!!\"!\"!!\"\"#!!!!\"#!\"\"\"!!\"\"!#\"###$!!#!\"!\"!\"!!!\"\"!##$!#$!!!!!\"%!\"!\"!!\"!\"!!\"!#!!!!\"##\"\"!#!!\"!#!\"\"\"\"\"!\"!\"#!!!!!!!\"$!\"!$$!!!#\"!!!!$!!!!##!!#%!\"$!!!!!!#!\"!!!!!!!$!!!!\"#\"!!#!!!\"#\"!!$!\"$!!!!!\"\"!!\"!!#!!#!!!!\"\"\"!!!!!#!!#!\"!!!!#!!#!#!!!\"!\"!!!\"##!\"!!!#\"!#\"!!\"\"#\"\"\"!\"!!!\"\"\"!!!\"#!!#!#\"\"\"!\"$#!!!!\"\"\"##\"!\"!!\"!#!\"!#!#!\"\"!!!#$\"!!#!#!!!#\"!\"#\"!#!##!\"!##!##!\"#$!\n",
      "Текущий фрагмент: On its day of release in Japan , Valkyria Chronicles III topped both platform @-@ exclusive and multi @-@ platform sales charts . By early February , the game sold 102 @,@ 779 units , coming in second overall to The Last Story for the Wii . By the end of the year , the game had sold just over 152 @,@ 500 units .\n",
      "Предсказание по сжатому контексту:  double\n",
      "Предсказание по сырому контексту: \n",
      " \"gex. 0 0 = own = the = the. it =ries Chronicles 2: the charts and 1 and and to @--@ exclusive...\n",
      " comparison September, V game had over,- and and.,, and in at place behind the Legend of. the month U\n",
      " the end of the month, the game sold sold over over 1,,@ 7 units.\n",
      "\n",
      "Предсказание по текущему фрагменту:  the website, action, May, theiacria Chronicles 2: the the and and and and to @--platform exclusive...\n",
      " comparison October, V game had over,- and and.,, and in at place behind the Legend of. the month U\n",
      " the end of the month, V game sold sold over over 1,,@ 7 units.\n",
      "\n",
      "Целевой текст: Famitsu enjoyed the story, and were particularly pleased with the improvements to gameplay. Japanese gaming site Game Watch Impress, despite negatively noting its pacing and elements recycled from previous games, was generally positive about its story and characters, and found its gameplay entertaining despite off @-@ putting difficulty spikes. 4Gamer.net writer Naohiko Misuosame, in a \" Play Test \" article based on the game's PSN demo, felt that Valkyria Chronicles III provided a \" pro\n",
      "\n",
      "Пример 3:\n",
      "Предыстория: On its day of release in Japan , Valkyria Chronicles III topped both platform @-@ exclusive and multi @-@ platform sales charts . By early February , the game sold 102 @,@ 779 units , coming in second overall to The Last Story for the Wii . By the end of the year , the game had sold just over 152 @,@ 500 units .\n",
      "Сжатый контекст: $!!#!!####!$#!\"!!\"!##!\"!!\"$%\"!!!\"!\"#!\"!!###!\"!!!\"$!\"#!\"!!!!\"!$\"$$#%\"!$!!#\"!\"\"!\"##!$#%\"$$\"\"!#&\"!!!\"\"\"\"#!\"!#!!\"!!#$$\"\"!$!!#!$!\"#\"\"#!#!!##!!!\"\"!\"!$%\"\"\"&%!!!#!!\"!!\"%!\"$#!\"$'\"\"$!!!!!$\"\"!\"!\"%!\"!\"$#\"!$!!\"##!\"%!!\"%!!!!!\"\"!!\"\"!!!$!!$!!!\"!!\"\"#!#!\"!!\"!\"$!!!%\"\"!\"!$!!$\"$!!!#\"#\"\"!!#$$!#\"!%!\"$\"!!\"!#$\"\"\"!!#!!\"\"##!\"!\"$\"\"#!#\"#\"!\"%#!!\"\"\"##!#$!##!#!\"\"!$\"#!!$!$\"!\"!\"!$%\"!\"#!$!!#!!\"$#!#\"$%!#$$#$!\"#%\n",
      "Текущий фрагмент: Famitsu enjoyed the story , and were particularly pleased with the improvements to gameplay . Japanese gaming site Game Watch Impress , despite negatively noting its pacing and elements recycled from previous games , was generally positive about its story and characters , and found its gameplay entertaining despite off @-@ putting difficulty spikes . 4Gamer.net writer Naohiko Misuosame , in a \" Play Test \" article based on the game 's PSN demo , felt that Valkyria Chronicles III provided a \" pro\n",
      "Предсказание по сжатому контексту: ,\n",
      "Предсказание по сырому контексту:  the website, action, May, theiacria Chronicles 2: the the and and and and to @--platform exclusive...\n",
      " comparison October, V game had over,- and and.,, and in at place behind the Legend of. the month U\n",
      " the end of the month, V game sold sold over over 1,,@ 7 units.\n",
      "itsu reported a game of and the able impressed with the game made the and\n",
      " publisher magazine FamSpot reportedpressions which its comparing the lack and the, from previous games, praised pleased pleased about the game and the. and was the story to. its--platforming the to.\n",
      "K alsocom, andokiiko Nakakihaki also who a recent positivethrough \" article, on the game, V gameplay Vita release, said that thealkyria Chronicles III was a \" good-\n",
      "Предсказание по текущему фрагменту: .ilies, a opportunity of but the very impressed with the story made the.\n",
      " fans culture KotFAQ haspressions which being reviewing the lack and pacing of from the games, has very pleased about the story and the. and was the story to. its- thetheing the on on\n",
      ". alsocom also andokiiko Kakiokaaki also who a reviewgoodthrough \" article, on the game, The story Vita,, said that thealkyria Chronicles 2 was a good fun-\n",
      "Целевой текст: PlayStation Official Magazine - UK praised the story's blurring of Gallia's moral standing, art style, and most points about its gameplay, positively noting the latter for both its continued quality and the tweaks to balance and content. Its one major criticism were multiple difficulty spikes, something that had affected the previous games. Heath Hindman of gaming website PlayStation Lifestyle praised the addition of non @-@ linear elements and improvements or removal of mechanics from V\n",
      "Epoch 2, Avg Compressed Context Loss: 0.6979, Avg Compression Ratio: 0.5847, Avg Divergence: 0.4956\n"
     ]
    },
    {
     "data": {
      "application/vnd.plotly.v1+json": {
       "config": {
        "plotlyServerURL": "https://plot.ly"
       },
       "data": [
        {
         "mode": "lines+markers",
         "name": "Raw Context Loss",
         "type": "scatter",
         "uid": "62414bf8-573b-447b-a691-bbd6e208413f",
         "x": [
          1,
          2
         ],
         "y": [
          0.2385900616645813,
          0.2385900616645813
         ]
        },
        {
         "mode": "lines+markers",
         "name": "Compressed Context Loss",
         "type": "scatter",
         "uid": "124ccac1-04d6-40ec-82ca-fbb5fb4bdc2d",
         "x": [
          1,
          2
         ],
         "y": [
          0.9561335407386576,
          0.6978844448848425
         ]
        },
        {
         "mode": "lines+markers",
         "name": "Fragment Only Loss",
         "type": "scatter",
         "uid": "9f5922f1-e3c0-4a25-87b5-516383ffb417",
         "x": [
          1,
          2
         ],
         "y": [
          0.27232280373573303,
          0.27232280373573303
         ]
        }
       ],
       "layout": {
        "template": {
         "data": {
          "bar": [
           {
            "error_x": {
             "color": "#f2f5fa"
            },
            "error_y": {
             "color": "#f2f5fa"
            },
            "marker": {
             "line": {
              "color": "rgb(17,17,17)",
              "width": 0.5
             },
             "pattern": {
              "fillmode": "overlay",
              "size": 10,
              "solidity": 0.2
             }
            },
            "type": "bar"
           }
          ],
          "barpolar": [
           {
            "marker": {
             "line": {
              "color": "rgb(17,17,17)",
              "width": 0.5
             },
             "pattern": {
              "fillmode": "overlay",
              "size": 10,
              "solidity": 0.2
             }
            },
            "type": "barpolar"
           }
          ],
          "carpet": [
           {
            "aaxis": {
             "endlinecolor": "#A2B1C6",
             "gridcolor": "#506784",
             "linecolor": "#506784",
             "minorgridcolor": "#506784",
             "startlinecolor": "#A2B1C6"
            },
            "baxis": {
             "endlinecolor": "#A2B1C6",
             "gridcolor": "#506784",
             "linecolor": "#506784",
             "minorgridcolor": "#506784",
             "startlinecolor": "#A2B1C6"
            },
            "type": "carpet"
           }
          ],
          "choropleth": [
           {
            "colorbar": {
             "outlinewidth": 0,
             "ticks": ""
            },
            "type": "choropleth"
           }
          ],
          "contour": [
           {
            "colorbar": {
             "outlinewidth": 0,
             "ticks": ""
            },
            "colorscale": [
             [
              0,
              "#0d0887"
             ],
             [
              0.1111111111111111,
              "#46039f"
             ],
             [
              0.2222222222222222,
              "#7201a8"
             ],
             [
              0.3333333333333333,
              "#9c179e"
             ],
             [
              0.4444444444444444,
              "#bd3786"
             ],
             [
              0.5555555555555556,
              "#d8576b"
             ],
             [
              0.6666666666666666,
              "#ed7953"
             ],
             [
              0.7777777777777778,
              "#fb9f3a"
             ],
             [
              0.8888888888888888,
              "#fdca26"
             ],
             [
              1,
              "#f0f921"
             ]
            ],
            "type": "contour"
           }
          ],
          "contourcarpet": [
           {
            "colorbar": {
             "outlinewidth": 0,
             "ticks": ""
            },
            "type": "contourcarpet"
           }
          ],
          "heatmap": [
           {
            "colorbar": {
             "outlinewidth": 0,
             "ticks": ""
            },
            "colorscale": [
             [
              0,
              "#0d0887"
             ],
             [
              0.1111111111111111,
              "#46039f"
             ],
             [
              0.2222222222222222,
              "#7201a8"
             ],
             [
              0.3333333333333333,
              "#9c179e"
             ],
             [
              0.4444444444444444,
              "#bd3786"
             ],
             [
              0.5555555555555556,
              "#d8576b"
             ],
             [
              0.6666666666666666,
              "#ed7953"
             ],
             [
              0.7777777777777778,
              "#fb9f3a"
             ],
             [
              0.8888888888888888,
              "#fdca26"
             ],
             [
              1,
              "#f0f921"
             ]
            ],
            "type": "heatmap"
           }
          ],
          "heatmapgl": [
           {
            "colorbar": {
             "outlinewidth": 0,
             "ticks": ""
            },
            "colorscale": [
             [
              0,
              "#0d0887"
             ],
             [
              0.1111111111111111,
              "#46039f"
             ],
             [
              0.2222222222222222,
              "#7201a8"
             ],
             [
              0.3333333333333333,
              "#9c179e"
             ],
             [
              0.4444444444444444,
              "#bd3786"
             ],
             [
              0.5555555555555556,
              "#d8576b"
             ],
             [
              0.6666666666666666,
              "#ed7953"
             ],
             [
              0.7777777777777778,
              "#fb9f3a"
             ],
             [
              0.8888888888888888,
              "#fdca26"
             ],
             [
              1,
              "#f0f921"
             ]
            ],
            "type": "heatmapgl"
           }
          ],
          "histogram": [
           {
            "marker": {
             "pattern": {
              "fillmode": "overlay",
              "size": 10,
              "solidity": 0.2
             }
            },
            "type": "histogram"
           }
          ],
          "histogram2d": [
           {
            "colorbar": {
             "outlinewidth": 0,
             "ticks": ""
            },
            "colorscale": [
             [
              0,
              "#0d0887"
             ],
             [
              0.1111111111111111,
              "#46039f"
             ],
             [
              0.2222222222222222,
              "#7201a8"
             ],
             [
              0.3333333333333333,
              "#9c179e"
             ],
             [
              0.4444444444444444,
              "#bd3786"
             ],
             [
              0.5555555555555556,
              "#d8576b"
             ],
             [
              0.6666666666666666,
              "#ed7953"
             ],
             [
              0.7777777777777778,
              "#fb9f3a"
             ],
             [
              0.8888888888888888,
              "#fdca26"
             ],
             [
              1,
              "#f0f921"
             ]
            ],
            "type": "histogram2d"
           }
          ],
          "histogram2dcontour": [
           {
            "colorbar": {
             "outlinewidth": 0,
             "ticks": ""
            },
            "colorscale": [
             [
              0,
              "#0d0887"
             ],
             [
              0.1111111111111111,
              "#46039f"
             ],
             [
              0.2222222222222222,
              "#7201a8"
             ],
             [
              0.3333333333333333,
              "#9c179e"
             ],
             [
              0.4444444444444444,
              "#bd3786"
             ],
             [
              0.5555555555555556,
              "#d8576b"
             ],
             [
              0.6666666666666666,
              "#ed7953"
             ],
             [
              0.7777777777777778,
              "#fb9f3a"
             ],
             [
              0.8888888888888888,
              "#fdca26"
             ],
             [
              1,
              "#f0f921"
             ]
            ],
            "type": "histogram2dcontour"
           }
          ],
          "mesh3d": [
           {
            "colorbar": {
             "outlinewidth": 0,
             "ticks": ""
            },
            "type": "mesh3d"
           }
          ],
          "parcoords": [
           {
            "line": {
             "colorbar": {
              "outlinewidth": 0,
              "ticks": ""
             }
            },
            "type": "parcoords"
           }
          ],
          "pie": [
           {
            "automargin": true,
            "type": "pie"
           }
          ],
          "scatter": [
           {
            "marker": {
             "line": {
              "color": "#283442"
             }
            },
            "type": "scatter"
           }
          ],
          "scatter3d": [
           {
            "line": {
             "colorbar": {
              "outlinewidth": 0,
              "ticks": ""
             }
            },
            "marker": {
             "colorbar": {
              "outlinewidth": 0,
              "ticks": ""
             }
            },
            "type": "scatter3d"
           }
          ],
          "scattercarpet": [
           {
            "marker": {
             "colorbar": {
              "outlinewidth": 0,
              "ticks": ""
             }
            },
            "type": "scattercarpet"
           }
          ],
          "scattergeo": [
           {
            "marker": {
             "colorbar": {
              "outlinewidth": 0,
              "ticks": ""
             }
            },
            "type": "scattergeo"
           }
          ],
          "scattergl": [
           {
            "marker": {
             "line": {
              "color": "#283442"
             }
            },
            "type": "scattergl"
           }
          ],
          "scattermapbox": [
           {
            "marker": {
             "colorbar": {
              "outlinewidth": 0,
              "ticks": ""
             }
            },
            "type": "scattermapbox"
           }
          ],
          "scatterpolar": [
           {
            "marker": {
             "colorbar": {
              "outlinewidth": 0,
              "ticks": ""
             }
            },
            "type": "scatterpolar"
           }
          ],
          "scatterpolargl": [
           {
            "marker": {
             "colorbar": {
              "outlinewidth": 0,
              "ticks": ""
             }
            },
            "type": "scatterpolargl"
           }
          ],
          "scatterternary": [
           {
            "marker": {
             "colorbar": {
              "outlinewidth": 0,
              "ticks": ""
             }
            },
            "type": "scatterternary"
           }
          ],
          "surface": [
           {
            "colorbar": {
             "outlinewidth": 0,
             "ticks": ""
            },
            "colorscale": [
             [
              0,
              "#0d0887"
             ],
             [
              0.1111111111111111,
              "#46039f"
             ],
             [
              0.2222222222222222,
              "#7201a8"
             ],
             [
              0.3333333333333333,
              "#9c179e"
             ],
             [
              0.4444444444444444,
              "#bd3786"
             ],
             [
              0.5555555555555556,
              "#d8576b"
             ],
             [
              0.6666666666666666,
              "#ed7953"
             ],
             [
              0.7777777777777778,
              "#fb9f3a"
             ],
             [
              0.8888888888888888,
              "#fdca26"
             ],
             [
              1,
              "#f0f921"
             ]
            ],
            "type": "surface"
           }
          ],
          "table": [
           {
            "cells": {
             "fill": {
              "color": "#506784"
             },
             "line": {
              "color": "rgb(17,17,17)"
             }
            },
            "header": {
             "fill": {
              "color": "#2a3f5f"
             },
             "line": {
              "color": "rgb(17,17,17)"
             }
            },
            "type": "table"
           }
          ]
         },
         "layout": {
          "annotationdefaults": {
           "arrowcolor": "#f2f5fa",
           "arrowhead": 0,
           "arrowwidth": 1
          },
          "autotypenumbers": "strict",
          "coloraxis": {
           "colorbar": {
            "outlinewidth": 0,
            "ticks": ""
           }
          },
          "colorscale": {
           "diverging": [
            [
             0,
             "#8e0152"
            ],
            [
             0.1,
             "#c51b7d"
            ],
            [
             0.2,
             "#de77ae"
            ],
            [
             0.3,
             "#f1b6da"
            ],
            [
             0.4,
             "#fde0ef"
            ],
            [
             0.5,
             "#f7f7f7"
            ],
            [
             0.6,
             "#e6f5d0"
            ],
            [
             0.7,
             "#b8e186"
            ],
            [
             0.8,
             "#7fbc41"
            ],
            [
             0.9,
             "#4d9221"
            ],
            [
             1,
             "#276419"
            ]
           ],
           "sequential": [
            [
             0,
             "#0d0887"
            ],
            [
             0.1111111111111111,
             "#46039f"
            ],
            [
             0.2222222222222222,
             "#7201a8"
            ],
            [
             0.3333333333333333,
             "#9c179e"
            ],
            [
             0.4444444444444444,
             "#bd3786"
            ],
            [
             0.5555555555555556,
             "#d8576b"
            ],
            [
             0.6666666666666666,
             "#ed7953"
            ],
            [
             0.7777777777777778,
             "#fb9f3a"
            ],
            [
             0.8888888888888888,
             "#fdca26"
            ],
            [
             1,
             "#f0f921"
            ]
           ],
           "sequentialminus": [
            [
             0,
             "#0d0887"
            ],
            [
             0.1111111111111111,
             "#46039f"
            ],
            [
             0.2222222222222222,
             "#7201a8"
            ],
            [
             0.3333333333333333,
             "#9c179e"
            ],
            [
             0.4444444444444444,
             "#bd3786"
            ],
            [
             0.5555555555555556,
             "#d8576b"
            ],
            [
             0.6666666666666666,
             "#ed7953"
            ],
            [
             0.7777777777777778,
             "#fb9f3a"
            ],
            [
             0.8888888888888888,
             "#fdca26"
            ],
            [
             1,
             "#f0f921"
            ]
           ]
          },
          "colorway": [
           "#636efa",
           "#EF553B",
           "#00cc96",
           "#ab63fa",
           "#FFA15A",
           "#19d3f3",
           "#FF6692",
           "#B6E880",
           "#FF97FF",
           "#FECB52"
          ],
          "font": {
           "color": "#f2f5fa"
          },
          "geo": {
           "bgcolor": "rgb(17,17,17)",
           "lakecolor": "rgb(17,17,17)",
           "landcolor": "rgb(17,17,17)",
           "showlakes": true,
           "showland": true,
           "subunitcolor": "#506784"
          },
          "hoverlabel": {
           "align": "left"
          },
          "hovermode": "closest",
          "mapbox": {
           "style": "dark"
          },
          "paper_bgcolor": "rgb(17,17,17)",
          "plot_bgcolor": "rgb(17,17,17)",
          "polar": {
           "angularaxis": {
            "gridcolor": "#506784",
            "linecolor": "#506784",
            "ticks": ""
           },
           "bgcolor": "rgb(17,17,17)",
           "radialaxis": {
            "gridcolor": "#506784",
            "linecolor": "#506784",
            "ticks": ""
           }
          },
          "scene": {
           "xaxis": {
            "backgroundcolor": "rgb(17,17,17)",
            "gridcolor": "#506784",
            "gridwidth": 2,
            "linecolor": "#506784",
            "showbackground": true,
            "ticks": "",
            "zerolinecolor": "#C8D4E3"
           },
           "yaxis": {
            "backgroundcolor": "rgb(17,17,17)",
            "gridcolor": "#506784",
            "gridwidth": 2,
            "linecolor": "#506784",
            "showbackground": true,
            "ticks": "",
            "zerolinecolor": "#C8D4E3"
           },
           "zaxis": {
            "backgroundcolor": "rgb(17,17,17)",
            "gridcolor": "#506784",
            "gridwidth": 2,
            "linecolor": "#506784",
            "showbackground": true,
            "ticks": "",
            "zerolinecolor": "#C8D4E3"
           }
          },
          "shapedefaults": {
           "line": {
            "color": "#f2f5fa"
           }
          },
          "sliderdefaults": {
           "bgcolor": "#C8D4E3",
           "bordercolor": "rgb(17,17,17)",
           "borderwidth": 1,
           "tickwidth": 0
          },
          "ternary": {
           "aaxis": {
            "gridcolor": "#506784",
            "linecolor": "#506784",
            "ticks": ""
           },
           "baxis": {
            "gridcolor": "#506784",
            "linecolor": "#506784",
            "ticks": ""
           },
           "bgcolor": "rgb(17,17,17)",
           "caxis": {
            "gridcolor": "#506784",
            "linecolor": "#506784",
            "ticks": ""
           }
          },
          "title": {
           "x": 0.05
          },
          "updatemenudefaults": {
           "bgcolor": "#506784",
           "borderwidth": 0
          },
          "xaxis": {
           "automargin": true,
           "gridcolor": "#283442",
           "linecolor": "#506784",
           "ticks": "",
           "title": {
            "standoff": 15
           },
           "zerolinecolor": "#283442",
           "zerolinewidth": 2
          },
          "yaxis": {
           "automargin": true,
           "gridcolor": "#283442",
           "linecolor": "#506784",
           "ticks": "",
           "title": {
            "standoff": 15
           },
           "zerolinecolor": "#283442",
           "zerolinewidth": 2
          }
         }
        },
        "title": {
         "text": "Графики потерь во время обучения"
        },
        "xaxis": {
         "title": {
          "text": "Эпоха"
         }
        },
        "yaxis": {
         "title": {
          "text": "Среднее значение потерь"
         }
        }
       }
      }
     },
     "metadata": {},
     "output_type": "display_data"
    },
    {
     "name": "stdout",
     "output_type": "stream",
     "text": [
      "\n",
      "=== Диагностика после эпохи 2 ===\n",
      "\n",
      "Пример 1:\n",
      "Предыстория: = = Development = =\n",
      "Сжатый контекст: $\"*\"!#!\"'!$\"\"&\"#\"\"$\"'\"!'\"\"\"$$\"!#%\"&\"$!#\"!#%\"!!$%#%\"'%%##!!\"\"!%#\"$\"#\"(#)!!!!!##!##$$$#%#!$&\"%\"\"$$!\"#$'\"!!%!!!\"\"&$#%#$\"%\"#*#!*\"$!#!'$!$!%$!!$%#\"&!!%&%\"\"\")!!#\"%\"#!%-\"\"&!-\"\"$!\"!#%!##'$\"&$#*\"&#$\"&$\"!\"##\"!)\"!\"%\"'!\",!#%$\"#!(\"#$!%$!!&*!!!$$!!\"&%&&$\"\",#\"\"\"%\"'\"$#\"!\"%$$&#!\"''!\"##!!##&!#\"\"$$!!$\"\"\"$'#*$!\"%%!#'##\"!!&%!#\"\"\"%\"!$#!\"!%\"$\"$&\"\"$\"\"!'$'##!!\"!!!\"$$!\"!#!!'#$(\"$!\"!\"*\"!$!'$&&''&\"$#\"!\"$\"'\n",
      "Текущий фрагмент: Concept work for Valkyria Chronicles III began after development finished on Valkyria Chronicles II in early 2010 , with full development beginning shortly after this . The director of Valkyria Chronicles II , Takeshi Ozawa , returned to that role for Valkyria Chronicles III . Development work took approximately one year . After the release of Valkyria Chronicles II , the staff took a look at both the popular response for the game and what they wanted to do next for the series . Like its predece\n",
      "Предсказание по сжатому контексту: ,\n",
      "Предсказание по сырому контексту: \n",
      " \". Development Development = = theectria Chronicles 2. in the of. thealkyria Chronicles II. 2011 2011. and the development on in after the.\n",
      " game of developmentalkyria Chronicles III, Kazhi Kawa, was to the role in thealkyria Chronicles III in\n",
      " of on place two year to\n",
      " the completion of Valkyria Chronicles III, the game of over break at the the game and to the game and the the thought to do with. the game. The the predecessorilevelopased\n",
      "Предсказание по текущему фрагменту: .s is theFXria Chronicles 2: in the of. thealkyria Chronicles II. 2011 2013. and the support on in after the.\n",
      " game of thealkyria Chronicles III, Kazhi Kawa, was to the project in thealkyria Chronicles III in\n",
      " on on place two year to\n",
      " the completion of Valkyria Chronicles III, the game of over break at the the game and to the game and the the thought to do with. the game.\n",
      " the predecessorileceased\n",
      "Целевой текст: The majority of material created for previous games, such as the BLiTZ system and the design of maps, was carried over. Alongside this, improvements were made to the game's graphics and some elements were expanded, such as map layouts, mission structure, and the number of playable units per mission. A part of this upgrade involved creating unique polygon models for each character's body. In order to achieve this, the cooperative elements incorporated into the second game were removed\n",
      "\n",
      "Пример 2:\n",
      "Предыстория: = = Reception = =\n",
      "Сжатый контекст: $\"*\"!#!\"'!$!\"'\"#\"\"$\"'\"!'\"\"\"%#!!#%#&##!#\"#%\"!$%#%!'%%##!\"#!%#\"%###(\")!!!!!##!##$$##%$\"$&\"!&\"\"$$!##$'\"!!%!!!\"\"&$#%#%\"%\"#+#!+\"$!#!'$!#!%$\"!$%#\"&!!%&%!!\"\"\"*!#\"%\"#!%.\"#&\"-\"\"$!!\"!#%!##'$\"&$#+\"&#$\"&$\"!\"##\")\"!\"%\"(!\",!#%$\"#\")\"#!$\"%$!!&*!!!$#!!\"&&&&!$\"\"-#\"\"\"%\"'\"$##!\"%%$&#!\"''!\"\"#!!#$&!!#\"\"$%!\"$\"\"\"$'#*$!\"%%\"#(#$\"!!&%!#\"\"\"%\"!$#!!!%#$\"#&\"\"$##'$'##!!\"!\"\"$$!\"!#!!'#$(\"$!#!\"*#!%!'$&&''%#$#\"!!\"%\"(\n",
      "Текущий фрагмент: On its day of release in Japan , Valkyria Chronicles III topped both platform @-@ exclusive and multi @-@ platform sales charts . By early February , the game sold 102 @,@ 779 units , coming in second overall to The Last Story for the Wii . By the end of the year , the game had sold just over 152 @,@ 500 units .\n",
      "Предсказание по сжатому контексту: ,\n",
      "Предсказание по сырому контексту: \n",
      " \"gex. 0 0 = own = the = the. it =ries Chronicles 2: the charts and 1 and and to @--@ exclusive...\n",
      " comparison September, V game had over,- and and.,, and in at place behind the Legend of. the month U\n",
      " the end of the month, the game sold sold over over 1,,@ 7 units.\n",
      "\n",
      "Предсказание по текущему фрагменту:  the website, action, May, theiacria Chronicles 2: the the and and and and to @--platform exclusive...\n",
      " comparison October, V game had over,- and and.,, and in at place behind the Legend of. the month U\n",
      " the end of the month, V game sold sold over over 1,,@ 7 units.\n",
      "\n",
      "Целевой текст: Famitsu enjoyed the story, and were particularly pleased with the improvements to gameplay. Japanese gaming site Game Watch Impress, despite negatively noting its pacing and elements recycled from previous games, was generally positive about its story and characters, and found its gameplay entertaining despite off @-@ putting difficulty spikes. 4Gamer.net writer Naohiko Misuosame, in a \" Play Test \" article based on the game's PSN demo, felt that Valkyria Chronicles III provided a \" pro\n",
      "\n",
      "Пример 3:\n",
      "Предыстория: On its day of release in Japan , Valkyria Chronicles III topped both platform @-@ exclusive and multi @-@ platform sales charts . By early February , the game sold 102 @,@ 779 units , coming in second overall to The Last Story for the Wii . By the end of the year , the game had sold just over 152 @,@ 500 units .\n",
      "Сжатый контекст: %\"-#!$\")!%#\"(\"#\"\"%#)\"!)#\"#&$\"\"$'#'#$!$\"!$&#!%&$&!\")'%##!!##!&#\"$#$#*#+!!\"\"!\"$$\"$$%$%$&$\"$'#&##%&\"\"$$)\"!!'!!!##'&$'$%!\"'#$-$-#%!#!)&!$%%\"$&$\"'!!''&\"!#,!\"##&##!'1\"#'!1\"#%\"!\"!#&\"#$)%\"&$$.#'#%#'%\"!\"$##+\"\"&\")!#.#'%\"$!+\"$&\"&%!!(-!\"!&$!!$('''!%\"\"0$\"#\"&#(\"%$#\"\"%&%'$!\"))!###!\"#$(\"$\"#%&!\"%###%)$-%!#'&\"#)%%\"!!'&\"$#\"#&#!%$\"\"!&#$#$'\"#&##!(%($$!!\"\"\"\"%%!#!#!!($%*#$\"#\"\",#!%!)%''()'#$#!#!\"%\")\n",
      "Текущий фрагмент: Famitsu enjoyed the story , and were particularly pleased with the improvements to gameplay . Japanese gaming site Game Watch Impress , despite negatively noting its pacing and elements recycled from previous games , was generally positive about its story and characters , and found its gameplay entertaining despite off @-@ putting difficulty spikes . 4Gamer.net writer Naohiko Misuosame , in a \" Play Test \" article based on the game 's PSN demo , felt that Valkyria Chronicles III provided a \" pro\n",
      "Предсказание по сжатому контексту:  the\n",
      "Предсказание по сырому контексту:  the website, action, May, theiacria Chronicles 2: the the and and and and to @--platform exclusive...\n",
      " comparison October, V game had over,- and and.,, and in at place behind the Legend of. the month U\n",
      " the end of the month, V game sold sold over over 1,,@ 7 units.\n",
      "itsu reported a game of and the able impressed with the game made the and\n",
      " publisher magazine FamSpot reportedpressions which its comparing the lack and the, from previous games, praised pleased pleased about the game and the. and was the story to. its--platforming the to.\n",
      "K alsocom, andokiiko Nakakihaki also who a recent positivethrough \" article, on the game, V gameplay Vita release, said that thealkyria Chronicles III was a \" good-\n",
      "Предсказание по текущему фрагменту: .ilies, a opportunity of but the very impressed with the story made the.\n",
      " fans culture KotFAQ haspressions which being reviewing the lack and pacing of from the games, has very pleased about the story and the. and was the story to. its- thetheing the on on\n",
      ". alsocom also andokiiko Kakiokaaki also who a reviewgoodthrough \" article, on the game, The story Vita,, said that thealkyria Chronicles 2 was a good fun-\n",
      "Целевой текст: PlayStation Official Magazine - UK praised the story's blurring of Gallia's moral standing, art style, and most points about its gameplay, positively noting the latter for both its continued quality and the tweaks to balance and content. Its one major criticism were multiple difficulty spikes, something that had affected the previous games. Heath Hindman of gaming website PlayStation Lifestyle praised the addition of non @-@ linear elements and improvements or removal of mechanics from V\n",
      "Epoch 3, Avg Compressed Context Loss: 0.6261, Avg Compression Ratio: 0.5586, Avg Divergence: 0.4264\n"
     ]
    },
    {
     "data": {
      "application/vnd.plotly.v1+json": {
       "config": {
        "plotlyServerURL": "https://plot.ly"
       },
       "data": [
        {
         "mode": "lines+markers",
         "name": "Raw Context Loss",
         "type": "scatter",
         "uid": "62414bf8-573b-447b-a691-bbd6e208413f",
         "x": [
          1,
          2,
          3
         ],
         "y": [
          0.2385900616645813,
          0.2385900616645813,
          0.2385900616645813
         ]
        },
        {
         "mode": "lines+markers",
         "name": "Compressed Context Loss",
         "type": "scatter",
         "uid": "124ccac1-04d6-40ec-82ca-fbb5fb4bdc2d",
         "x": [
          1,
          2,
          3
         ],
         "y": [
          0.9561335407386576,
          0.6978844448848425,
          0.6261446594738113
         ]
        },
        {
         "mode": "lines+markers",
         "name": "Fragment Only Loss",
         "type": "scatter",
         "uid": "9f5922f1-e3c0-4a25-87b5-516383ffb417",
         "x": [
          1,
          2,
          3
         ],
         "y": [
          0.27232280373573303,
          0.27232280373573303,
          0.27232280373573303
         ]
        }
       ],
       "layout": {
        "template": {
         "data": {
          "bar": [
           {
            "error_x": {
             "color": "#f2f5fa"
            },
            "error_y": {
             "color": "#f2f5fa"
            },
            "marker": {
             "line": {
              "color": "rgb(17,17,17)",
              "width": 0.5
             },
             "pattern": {
              "fillmode": "overlay",
              "size": 10,
              "solidity": 0.2
             }
            },
            "type": "bar"
           }
          ],
          "barpolar": [
           {
            "marker": {
             "line": {
              "color": "rgb(17,17,17)",
              "width": 0.5
             },
             "pattern": {
              "fillmode": "overlay",
              "size": 10,
              "solidity": 0.2
             }
            },
            "type": "barpolar"
           }
          ],
          "carpet": [
           {
            "aaxis": {
             "endlinecolor": "#A2B1C6",
             "gridcolor": "#506784",
             "linecolor": "#506784",
             "minorgridcolor": "#506784",
             "startlinecolor": "#A2B1C6"
            },
            "baxis": {
             "endlinecolor": "#A2B1C6",
             "gridcolor": "#506784",
             "linecolor": "#506784",
             "minorgridcolor": "#506784",
             "startlinecolor": "#A2B1C6"
            },
            "type": "carpet"
           }
          ],
          "choropleth": [
           {
            "colorbar": {
             "outlinewidth": 0,
             "ticks": ""
            },
            "type": "choropleth"
           }
          ],
          "contour": [
           {
            "colorbar": {
             "outlinewidth": 0,
             "ticks": ""
            },
            "colorscale": [
             [
              0,
              "#0d0887"
             ],
             [
              0.1111111111111111,
              "#46039f"
             ],
             [
              0.2222222222222222,
              "#7201a8"
             ],
             [
              0.3333333333333333,
              "#9c179e"
             ],
             [
              0.4444444444444444,
              "#bd3786"
             ],
             [
              0.5555555555555556,
              "#d8576b"
             ],
             [
              0.6666666666666666,
              "#ed7953"
             ],
             [
              0.7777777777777778,
              "#fb9f3a"
             ],
             [
              0.8888888888888888,
              "#fdca26"
             ],
             [
              1,
              "#f0f921"
             ]
            ],
            "type": "contour"
           }
          ],
          "contourcarpet": [
           {
            "colorbar": {
             "outlinewidth": 0,
             "ticks": ""
            },
            "type": "contourcarpet"
           }
          ],
          "heatmap": [
           {
            "colorbar": {
             "outlinewidth": 0,
             "ticks": ""
            },
            "colorscale": [
             [
              0,
              "#0d0887"
             ],
             [
              0.1111111111111111,
              "#46039f"
             ],
             [
              0.2222222222222222,
              "#7201a8"
             ],
             [
              0.3333333333333333,
              "#9c179e"
             ],
             [
              0.4444444444444444,
              "#bd3786"
             ],
             [
              0.5555555555555556,
              "#d8576b"
             ],
             [
              0.6666666666666666,
              "#ed7953"
             ],
             [
              0.7777777777777778,
              "#fb9f3a"
             ],
             [
              0.8888888888888888,
              "#fdca26"
             ],
             [
              1,
              "#f0f921"
             ]
            ],
            "type": "heatmap"
           }
          ],
          "heatmapgl": [
           {
            "colorbar": {
             "outlinewidth": 0,
             "ticks": ""
            },
            "colorscale": [
             [
              0,
              "#0d0887"
             ],
             [
              0.1111111111111111,
              "#46039f"
             ],
             [
              0.2222222222222222,
              "#7201a8"
             ],
             [
              0.3333333333333333,
              "#9c179e"
             ],
             [
              0.4444444444444444,
              "#bd3786"
             ],
             [
              0.5555555555555556,
              "#d8576b"
             ],
             [
              0.6666666666666666,
              "#ed7953"
             ],
             [
              0.7777777777777778,
              "#fb9f3a"
             ],
             [
              0.8888888888888888,
              "#fdca26"
             ],
             [
              1,
              "#f0f921"
             ]
            ],
            "type": "heatmapgl"
           }
          ],
          "histogram": [
           {
            "marker": {
             "pattern": {
              "fillmode": "overlay",
              "size": 10,
              "solidity": 0.2
             }
            },
            "type": "histogram"
           }
          ],
          "histogram2d": [
           {
            "colorbar": {
             "outlinewidth": 0,
             "ticks": ""
            },
            "colorscale": [
             [
              0,
              "#0d0887"
             ],
             [
              0.1111111111111111,
              "#46039f"
             ],
             [
              0.2222222222222222,
              "#7201a8"
             ],
             [
              0.3333333333333333,
              "#9c179e"
             ],
             [
              0.4444444444444444,
              "#bd3786"
             ],
             [
              0.5555555555555556,
              "#d8576b"
             ],
             [
              0.6666666666666666,
              "#ed7953"
             ],
             [
              0.7777777777777778,
              "#fb9f3a"
             ],
             [
              0.8888888888888888,
              "#fdca26"
             ],
             [
              1,
              "#f0f921"
             ]
            ],
            "type": "histogram2d"
           }
          ],
          "histogram2dcontour": [
           {
            "colorbar": {
             "outlinewidth": 0,
             "ticks": ""
            },
            "colorscale": [
             [
              0,
              "#0d0887"
             ],
             [
              0.1111111111111111,
              "#46039f"
             ],
             [
              0.2222222222222222,
              "#7201a8"
             ],
             [
              0.3333333333333333,
              "#9c179e"
             ],
             [
              0.4444444444444444,
              "#bd3786"
             ],
             [
              0.5555555555555556,
              "#d8576b"
             ],
             [
              0.6666666666666666,
              "#ed7953"
             ],
             [
              0.7777777777777778,
              "#fb9f3a"
             ],
             [
              0.8888888888888888,
              "#fdca26"
             ],
             [
              1,
              "#f0f921"
             ]
            ],
            "type": "histogram2dcontour"
           }
          ],
          "mesh3d": [
           {
            "colorbar": {
             "outlinewidth": 0,
             "ticks": ""
            },
            "type": "mesh3d"
           }
          ],
          "parcoords": [
           {
            "line": {
             "colorbar": {
              "outlinewidth": 0,
              "ticks": ""
             }
            },
            "type": "parcoords"
           }
          ],
          "pie": [
           {
            "automargin": true,
            "type": "pie"
           }
          ],
          "scatter": [
           {
            "marker": {
             "line": {
              "color": "#283442"
             }
            },
            "type": "scatter"
           }
          ],
          "scatter3d": [
           {
            "line": {
             "colorbar": {
              "outlinewidth": 0,
              "ticks": ""
             }
            },
            "marker": {
             "colorbar": {
              "outlinewidth": 0,
              "ticks": ""
             }
            },
            "type": "scatter3d"
           }
          ],
          "scattercarpet": [
           {
            "marker": {
             "colorbar": {
              "outlinewidth": 0,
              "ticks": ""
             }
            },
            "type": "scattercarpet"
           }
          ],
          "scattergeo": [
           {
            "marker": {
             "colorbar": {
              "outlinewidth": 0,
              "ticks": ""
             }
            },
            "type": "scattergeo"
           }
          ],
          "scattergl": [
           {
            "marker": {
             "line": {
              "color": "#283442"
             }
            },
            "type": "scattergl"
           }
          ],
          "scattermapbox": [
           {
            "marker": {
             "colorbar": {
              "outlinewidth": 0,
              "ticks": ""
             }
            },
            "type": "scattermapbox"
           }
          ],
          "scatterpolar": [
           {
            "marker": {
             "colorbar": {
              "outlinewidth": 0,
              "ticks": ""
             }
            },
            "type": "scatterpolar"
           }
          ],
          "scatterpolargl": [
           {
            "marker": {
             "colorbar": {
              "outlinewidth": 0,
              "ticks": ""
             }
            },
            "type": "scatterpolargl"
           }
          ],
          "scatterternary": [
           {
            "marker": {
             "colorbar": {
              "outlinewidth": 0,
              "ticks": ""
             }
            },
            "type": "scatterternary"
           }
          ],
          "surface": [
           {
            "colorbar": {
             "outlinewidth": 0,
             "ticks": ""
            },
            "colorscale": [
             [
              0,
              "#0d0887"
             ],
             [
              0.1111111111111111,
              "#46039f"
             ],
             [
              0.2222222222222222,
              "#7201a8"
             ],
             [
              0.3333333333333333,
              "#9c179e"
             ],
             [
              0.4444444444444444,
              "#bd3786"
             ],
             [
              0.5555555555555556,
              "#d8576b"
             ],
             [
              0.6666666666666666,
              "#ed7953"
             ],
             [
              0.7777777777777778,
              "#fb9f3a"
             ],
             [
              0.8888888888888888,
              "#fdca26"
             ],
             [
              1,
              "#f0f921"
             ]
            ],
            "type": "surface"
           }
          ],
          "table": [
           {
            "cells": {
             "fill": {
              "color": "#506784"
             },
             "line": {
              "color": "rgb(17,17,17)"
             }
            },
            "header": {
             "fill": {
              "color": "#2a3f5f"
             },
             "line": {
              "color": "rgb(17,17,17)"
             }
            },
            "type": "table"
           }
          ]
         },
         "layout": {
          "annotationdefaults": {
           "arrowcolor": "#f2f5fa",
           "arrowhead": 0,
           "arrowwidth": 1
          },
          "autotypenumbers": "strict",
          "coloraxis": {
           "colorbar": {
            "outlinewidth": 0,
            "ticks": ""
           }
          },
          "colorscale": {
           "diverging": [
            [
             0,
             "#8e0152"
            ],
            [
             0.1,
             "#c51b7d"
            ],
            [
             0.2,
             "#de77ae"
            ],
            [
             0.3,
             "#f1b6da"
            ],
            [
             0.4,
             "#fde0ef"
            ],
            [
             0.5,
             "#f7f7f7"
            ],
            [
             0.6,
             "#e6f5d0"
            ],
            [
             0.7,
             "#b8e186"
            ],
            [
             0.8,
             "#7fbc41"
            ],
            [
             0.9,
             "#4d9221"
            ],
            [
             1,
             "#276419"
            ]
           ],
           "sequential": [
            [
             0,
             "#0d0887"
            ],
            [
             0.1111111111111111,
             "#46039f"
            ],
            [
             0.2222222222222222,
             "#7201a8"
            ],
            [
             0.3333333333333333,
             "#9c179e"
            ],
            [
             0.4444444444444444,
             "#bd3786"
            ],
            [
             0.5555555555555556,
             "#d8576b"
            ],
            [
             0.6666666666666666,
             "#ed7953"
            ],
            [
             0.7777777777777778,
             "#fb9f3a"
            ],
            [
             0.8888888888888888,
             "#fdca26"
            ],
            [
             1,
             "#f0f921"
            ]
           ],
           "sequentialminus": [
            [
             0,
             "#0d0887"
            ],
            [
             0.1111111111111111,
             "#46039f"
            ],
            [
             0.2222222222222222,
             "#7201a8"
            ],
            [
             0.3333333333333333,
             "#9c179e"
            ],
            [
             0.4444444444444444,
             "#bd3786"
            ],
            [
             0.5555555555555556,
             "#d8576b"
            ],
            [
             0.6666666666666666,
             "#ed7953"
            ],
            [
             0.7777777777777778,
             "#fb9f3a"
            ],
            [
             0.8888888888888888,
             "#fdca26"
            ],
            [
             1,
             "#f0f921"
            ]
           ]
          },
          "colorway": [
           "#636efa",
           "#EF553B",
           "#00cc96",
           "#ab63fa",
           "#FFA15A",
           "#19d3f3",
           "#FF6692",
           "#B6E880",
           "#FF97FF",
           "#FECB52"
          ],
          "font": {
           "color": "#f2f5fa"
          },
          "geo": {
           "bgcolor": "rgb(17,17,17)",
           "lakecolor": "rgb(17,17,17)",
           "landcolor": "rgb(17,17,17)",
           "showlakes": true,
           "showland": true,
           "subunitcolor": "#506784"
          },
          "hoverlabel": {
           "align": "left"
          },
          "hovermode": "closest",
          "mapbox": {
           "style": "dark"
          },
          "paper_bgcolor": "rgb(17,17,17)",
          "plot_bgcolor": "rgb(17,17,17)",
          "polar": {
           "angularaxis": {
            "gridcolor": "#506784",
            "linecolor": "#506784",
            "ticks": ""
           },
           "bgcolor": "rgb(17,17,17)",
           "radialaxis": {
            "gridcolor": "#506784",
            "linecolor": "#506784",
            "ticks": ""
           }
          },
          "scene": {
           "xaxis": {
            "backgroundcolor": "rgb(17,17,17)",
            "gridcolor": "#506784",
            "gridwidth": 2,
            "linecolor": "#506784",
            "showbackground": true,
            "ticks": "",
            "zerolinecolor": "#C8D4E3"
           },
           "yaxis": {
            "backgroundcolor": "rgb(17,17,17)",
            "gridcolor": "#506784",
            "gridwidth": 2,
            "linecolor": "#506784",
            "showbackground": true,
            "ticks": "",
            "zerolinecolor": "#C8D4E3"
           },
           "zaxis": {
            "backgroundcolor": "rgb(17,17,17)",
            "gridcolor": "#506784",
            "gridwidth": 2,
            "linecolor": "#506784",
            "showbackground": true,
            "ticks": "",
            "zerolinecolor": "#C8D4E3"
           }
          },
          "shapedefaults": {
           "line": {
            "color": "#f2f5fa"
           }
          },
          "sliderdefaults": {
           "bgcolor": "#C8D4E3",
           "bordercolor": "rgb(17,17,17)",
           "borderwidth": 1,
           "tickwidth": 0
          },
          "ternary": {
           "aaxis": {
            "gridcolor": "#506784",
            "linecolor": "#506784",
            "ticks": ""
           },
           "baxis": {
            "gridcolor": "#506784",
            "linecolor": "#506784",
            "ticks": ""
           },
           "bgcolor": "rgb(17,17,17)",
           "caxis": {
            "gridcolor": "#506784",
            "linecolor": "#506784",
            "ticks": ""
           }
          },
          "title": {
           "x": 0.05
          },
          "updatemenudefaults": {
           "bgcolor": "#506784",
           "borderwidth": 0
          },
          "xaxis": {
           "automargin": true,
           "gridcolor": "#283442",
           "linecolor": "#506784",
           "ticks": "",
           "title": {
            "standoff": 15
           },
           "zerolinecolor": "#283442",
           "zerolinewidth": 2
          },
          "yaxis": {
           "automargin": true,
           "gridcolor": "#283442",
           "linecolor": "#506784",
           "ticks": "",
           "title": {
            "standoff": 15
           },
           "zerolinecolor": "#283442",
           "zerolinewidth": 2
          }
         }
        },
        "title": {
         "text": "Графики потерь во время обучения"
        },
        "xaxis": {
         "title": {
          "text": "Эпоха"
         }
        },
        "yaxis": {
         "title": {
          "text": "Среднее значение потерь"
         }
        }
       }
      }
     },
     "metadata": {},
     "output_type": "display_data"
    },
    {
     "name": "stdout",
     "output_type": "stream",
     "text": [
      "\n",
      "=== Диагностика после эпохи 3 ===\n",
      "\n",
      "Пример 1:\n",
      "Предыстория: = = Development = =\n",
      "Сжатый контекст: $\"!!*\"\"\"!!'%!\"'!\"!\"\"!!$#(\"!!(!#\"&&\"!$'#'\"#!##\"%\"!!(%\"##*%%!\"\"$\"%\"\"%\"$!(#)!\"!!!#$\"#\"$##%$\"\"%\"!%!!%$\"!\"\"#)\"!!%!\"'%\"%##\"#&#$,#\".\"%!!&$!$%#\"\"!!$\"!&!!&''!$\"\"*!\"\"$!\"!$1\"!&!#-\"\"$!!!$%#$\"($\"&&$-\"$#!$\"%&!!###!!+\"!#$!\"&!$-!#&##\"!-\"##!&$!'-%%!!\"&&'&$#\"2#!#!%\"'#$\"\"\"\"$%%'%#\"($!!\"#\"!\"$%!\"#!#%%!\"$!!\"$(\"*$#!&'\"!#($$!!!&&!\"###&##$\"!!&#$##!'#\"%#\"!'$\"&##!!\"!!!!$$\"\"#!!'#$'!$#!!\"+#\"#!&#&&%(&!\"$#!\"!!!\"%&\n",
      "Текущий фрагмент: Concept work for Valkyria Chronicles III began after development finished on Valkyria Chronicles II in early 2010 , with full development beginning shortly after this . The director of Valkyria Chronicles II , Takeshi Ozawa , returned to that role for Valkyria Chronicles III . Development work took approximately one year . After the release of Valkyria Chronicles II , the staff took a look at both the popular response for the game and what they wanted to do next for the series . Like its predece\n",
      "Предсказание по сжатому контексту:  the\n",
      "Предсказание по сырому контексту: \n",
      " \". Development Development = = theectria Chronicles 2. in the of. thealkyria Chronicles II. 2011 2011. and the development on in after the.\n",
      " game of developmentalkyria Chronicles III, Kazhi Kawa, was to the role in thealkyria Chronicles III in\n",
      " of on place two year to\n",
      " the completion of Valkyria Chronicles III, the game of over break at the the game and to the game and the the thought to do with. the game. The the predecessorilevelopased\n",
      "Предсказание по текущему фрагменту: .s is theFXria Chronicles 2: in the of. thealkyria Chronicles II. 2011 2013. and the support on in after the.\n",
      " game of thealkyria Chronicles III, Kazhi Kawa, was to the project in thealkyria Chronicles III in\n",
      " on on place two year to\n",
      " the completion of Valkyria Chronicles III, the game of over break at the the game and to the game and the the thought to do with. the game.\n",
      " the predecessorileceased\n",
      "Целевой текст: The majority of material created for previous games, such as the BLiTZ system and the design of maps, was carried over. Alongside this, improvements were made to the game's graphics and some elements were expanded, such as map layouts, mission structure, and the number of playable units per mission. A part of this upgrade involved creating unique polygon models for each character's body. In order to achieve this, the cooperative elements incorporated into the second game were removed\n",
      "\n",
      "Пример 2:\n",
      "Предыстория: = = Reception = =\n",
      "Сжатый контекст: $#!!*\"!\"!'%!\"'!\"!\"\"!\"$#(#!!(!##&&\"!$'#'\"#!##\"%\"!\"(%###*%%!\"!##%\"\"%\"$\")#)!\"!!!#$\"#\"$#\"%$\"\"%!!%!!%$\"!\"\"#)\"!!%!\"'%\"%##\"#&#$,#\".\"%!!&$$%###!!$\"!&!!&''!$#\"*!\"\"%!\"\"$1\"\"&!#-\"\"$!!!!$%#$\"($\"&&$-\"$\"$#&&!\"###!+\"!$#!\"&!$-!#%###!-\"##\"&$!(-!%%!!\"'&''$#\"2#!#!%\"'#$\"\"\"#$%$'%#\"($!!!#\"!#$%!\"#!$%%!\"$\"!\"$(\"*$#!&'\"!$)$$!!!&&!\"###&##$\"!!%#%##!'#\"%#\"!'$\"&##!!\"!!!!$$!\"\"#!!(#$'!$#!!\",#\"#!&$&'%(&\"$#!\"!!!\"%!&\n",
      "Текущий фрагмент: On its day of release in Japan , Valkyria Chronicles III topped both platform @-@ exclusive and multi @-@ platform sales charts . By early February , the game sold 102 @,@ 779 units , coming in second overall to The Last Story for the Wii . By the end of the year , the game had sold just over 152 @,@ 500 units .\n",
      "Предсказание по сжатому контексту: ,\n",
      "Предсказание по сырому контексту: \n",
      " \"gex. 0 0 = own = the = the. it =ries Chronicles 2: the charts and 1 and and to @--@ exclusive...\n",
      " comparison September, V game had over,- and and.,, and in at place behind the Legend of. the month U\n",
      " the end of the month, the game sold sold over over 1,,@ 7 units.\n",
      "\n",
      "Предсказание по текущему фрагменту:  the website, action, May, theiacria Chronicles 2: the the and and and and to @--platform exclusive...\n",
      " comparison October, V game had over,- and and.,, and in at place behind the Legend of. the month U\n",
      " the end of the month, V game sold sold over over 1,,@ 7 units.\n",
      "\n",
      "Целевой текст: Famitsu enjoyed the story, and were particularly pleased with the improvements to gameplay. Japanese gaming site Game Watch Impress, despite negatively noting its pacing and elements recycled from previous games, was generally positive about its story and characters, and found its gameplay entertaining despite off @-@ putting difficulty spikes. 4Gamer.net writer Naohiko Misuosame, in a \" Play Test \" article based on the game's PSN demo, felt that Valkyria Chronicles III provided a \" pro\n",
      "\n",
      "Пример 3:\n",
      "Предыстория: On its day of release in Japan , Valkyria Chronicles III topped both platform @-@ exclusive and multi @-@ platform sales charts . By early February , the game sold 102 @,@ 779 units , coming in second overall to The Last Story for the Wii . By the end of the year , the game had sold just over 152 @,@ 500 units .\n",
      "Сжатый контекст: %#!,#!\"!)&!#(!#!\"\"!!%$*#!!*\"$$('\"!$)#)##!!$##%\"!\"\"*&$##,&%!\"\"$#&#\"%\"%\"+#*!\"\"!!!$$\"$#%$#&%#!#&\"!&\"\"&%\"!\"#$+\"!\"'!#(&#&$$##'$$/$\"0#'!'&!%&$##!!$\"!'!(*)!$#\",!##&!\"!%5\"\"'!#1#\"$!\"!!%&$$#*%#&'%0#&#!$#&'!!!#$#!.\"$$!\"'!%/!#'$$#0##$\"'%\")0&&!!$('((%#\"7%\"$&\"(\"%\"\"#\"$&&(&#\"+!%!\"\"$\"\"#$&\"$$&&!#%\"\"\"!%+#-%$!((#!$*&&!!!((!\"###'#$%\"!\"'#%$#!(##'#\"!(%#'$$!!#!!!!%%#!\"#!\")#&)\"$$!\"#.$\"#!!'$'(&*(!\"$#!\"!\"!\"%'\n",
      "Текущий фрагмент: Famitsu enjoyed the story , and were particularly pleased with the improvements to gameplay . Japanese gaming site Game Watch Impress , despite negatively noting its pacing and elements recycled from previous games , was generally positive about its story and characters , and found its gameplay entertaining despite off @-@ putting difficulty spikes . 4Gamer.net writer Naohiko Misuosame , in a \" Play Test \" article based on the game 's PSN demo , felt that Valkyria Chronicles III provided a \" pro\n",
      "Предсказание по сжатому контексту:  the\n",
      "Предсказание по сырому контексту:  the website, action, May, theiacria Chronicles 2: the the and and and and to @--platform exclusive...\n",
      " comparison October, V game had over,- and and.,, and in at place behind the Legend of. the month U\n",
      " the end of the month, V game sold sold over over 1,,@ 7 units.\n",
      "itsu reported a game of and the able impressed with the game made the and\n",
      " publisher magazine FamSpot reportedpressions which its comparing the lack and the, from previous games, praised pleased pleased about the game and the. and was the story to. its--platforming the to.\n",
      "K alsocom, andokiiko Nakakihaki also who a recent positivethrough \" article, on the game, V gameplay Vita release, said that thealkyria Chronicles III was a \" good-\n",
      "Предсказание по текущему фрагменту: .ilies, a opportunity of but the very impressed with the story made the.\n",
      " fans culture KotFAQ haspressions which being reviewing the lack and pacing of from the games, has very pleased about the story and the. and was the story to. its- thetheing the on on\n",
      ". alsocom also andokiiko Kakiokaaki also who a reviewgoodthrough \" article, on the game, The story Vita,, said that thealkyria Chronicles 2 was a good fun-\n",
      "Целевой текст: PlayStation Official Magazine - UK praised the story's blurring of Gallia's moral standing, art style, and most points about its gameplay, positively noting the latter for both its continued quality and the tweaks to balance and content. Its one major criticism were multiple difficulty spikes, something that had affected the previous games. Heath Hindman of gaming website PlayStation Lifestyle praised the addition of non @-@ linear elements and improvements or removal of mechanics from V\n",
      "Epoch 4, Avg Compressed Context Loss: 0.5743, Avg Compression Ratio: 0.5043, Avg Divergence: 0.3705\n"
     ]
    },
    {
     "data": {
      "application/vnd.plotly.v1+json": {
       "config": {
        "plotlyServerURL": "https://plot.ly"
       },
       "data": [
        {
         "mode": "lines+markers",
         "name": "Raw Context Loss",
         "type": "scatter",
         "uid": "62414bf8-573b-447b-a691-bbd6e208413f",
         "x": [
          1,
          2,
          3,
          4
         ],
         "y": [
          0.2385900616645813,
          0.2385900616645813,
          0.2385900616645813,
          0.2385900616645813
         ]
        },
        {
         "mode": "lines+markers",
         "name": "Compressed Context Loss",
         "type": "scatter",
         "uid": "124ccac1-04d6-40ec-82ca-fbb5fb4bdc2d",
         "x": [
          1,
          2,
          3,
          4
         ],
         "y": [
          0.9561335407386576,
          0.6978844448848425,
          0.6261446594738113,
          0.5742885279020077
         ]
        },
        {
         "mode": "lines+markers",
         "name": "Fragment Only Loss",
         "type": "scatter",
         "uid": "9f5922f1-e3c0-4a25-87b5-516383ffb417",
         "x": [
          1,
          2,
          3,
          4
         ],
         "y": [
          0.27232280373573303,
          0.27232280373573303,
          0.27232280373573303,
          0.27232280373573303
         ]
        }
       ],
       "layout": {
        "template": {
         "data": {
          "bar": [
           {
            "error_x": {
             "color": "#f2f5fa"
            },
            "error_y": {
             "color": "#f2f5fa"
            },
            "marker": {
             "line": {
              "color": "rgb(17,17,17)",
              "width": 0.5
             },
             "pattern": {
              "fillmode": "overlay",
              "size": 10,
              "solidity": 0.2
             }
            },
            "type": "bar"
           }
          ],
          "barpolar": [
           {
            "marker": {
             "line": {
              "color": "rgb(17,17,17)",
              "width": 0.5
             },
             "pattern": {
              "fillmode": "overlay",
              "size": 10,
              "solidity": 0.2
             }
            },
            "type": "barpolar"
           }
          ],
          "carpet": [
           {
            "aaxis": {
             "endlinecolor": "#A2B1C6",
             "gridcolor": "#506784",
             "linecolor": "#506784",
             "minorgridcolor": "#506784",
             "startlinecolor": "#A2B1C6"
            },
            "baxis": {
             "endlinecolor": "#A2B1C6",
             "gridcolor": "#506784",
             "linecolor": "#506784",
             "minorgridcolor": "#506784",
             "startlinecolor": "#A2B1C6"
            },
            "type": "carpet"
           }
          ],
          "choropleth": [
           {
            "colorbar": {
             "outlinewidth": 0,
             "ticks": ""
            },
            "type": "choropleth"
           }
          ],
          "contour": [
           {
            "colorbar": {
             "outlinewidth": 0,
             "ticks": ""
            },
            "colorscale": [
             [
              0,
              "#0d0887"
             ],
             [
              0.1111111111111111,
              "#46039f"
             ],
             [
              0.2222222222222222,
              "#7201a8"
             ],
             [
              0.3333333333333333,
              "#9c179e"
             ],
             [
              0.4444444444444444,
              "#bd3786"
             ],
             [
              0.5555555555555556,
              "#d8576b"
             ],
             [
              0.6666666666666666,
              "#ed7953"
             ],
             [
              0.7777777777777778,
              "#fb9f3a"
             ],
             [
              0.8888888888888888,
              "#fdca26"
             ],
             [
              1,
              "#f0f921"
             ]
            ],
            "type": "contour"
           }
          ],
          "contourcarpet": [
           {
            "colorbar": {
             "outlinewidth": 0,
             "ticks": ""
            },
            "type": "contourcarpet"
           }
          ],
          "heatmap": [
           {
            "colorbar": {
             "outlinewidth": 0,
             "ticks": ""
            },
            "colorscale": [
             [
              0,
              "#0d0887"
             ],
             [
              0.1111111111111111,
              "#46039f"
             ],
             [
              0.2222222222222222,
              "#7201a8"
             ],
             [
              0.3333333333333333,
              "#9c179e"
             ],
             [
              0.4444444444444444,
              "#bd3786"
             ],
             [
              0.5555555555555556,
              "#d8576b"
             ],
             [
              0.6666666666666666,
              "#ed7953"
             ],
             [
              0.7777777777777778,
              "#fb9f3a"
             ],
             [
              0.8888888888888888,
              "#fdca26"
             ],
             [
              1,
              "#f0f921"
             ]
            ],
            "type": "heatmap"
           }
          ],
          "heatmapgl": [
           {
            "colorbar": {
             "outlinewidth": 0,
             "ticks": ""
            },
            "colorscale": [
             [
              0,
              "#0d0887"
             ],
             [
              0.1111111111111111,
              "#46039f"
             ],
             [
              0.2222222222222222,
              "#7201a8"
             ],
             [
              0.3333333333333333,
              "#9c179e"
             ],
             [
              0.4444444444444444,
              "#bd3786"
             ],
             [
              0.5555555555555556,
              "#d8576b"
             ],
             [
              0.6666666666666666,
              "#ed7953"
             ],
             [
              0.7777777777777778,
              "#fb9f3a"
             ],
             [
              0.8888888888888888,
              "#fdca26"
             ],
             [
              1,
              "#f0f921"
             ]
            ],
            "type": "heatmapgl"
           }
          ],
          "histogram": [
           {
            "marker": {
             "pattern": {
              "fillmode": "overlay",
              "size": 10,
              "solidity": 0.2
             }
            },
            "type": "histogram"
           }
          ],
          "histogram2d": [
           {
            "colorbar": {
             "outlinewidth": 0,
             "ticks": ""
            },
            "colorscale": [
             [
              0,
              "#0d0887"
             ],
             [
              0.1111111111111111,
              "#46039f"
             ],
             [
              0.2222222222222222,
              "#7201a8"
             ],
             [
              0.3333333333333333,
              "#9c179e"
             ],
             [
              0.4444444444444444,
              "#bd3786"
             ],
             [
              0.5555555555555556,
              "#d8576b"
             ],
             [
              0.6666666666666666,
              "#ed7953"
             ],
             [
              0.7777777777777778,
              "#fb9f3a"
             ],
             [
              0.8888888888888888,
              "#fdca26"
             ],
             [
              1,
              "#f0f921"
             ]
            ],
            "type": "histogram2d"
           }
          ],
          "histogram2dcontour": [
           {
            "colorbar": {
             "outlinewidth": 0,
             "ticks": ""
            },
            "colorscale": [
             [
              0,
              "#0d0887"
             ],
             [
              0.1111111111111111,
              "#46039f"
             ],
             [
              0.2222222222222222,
              "#7201a8"
             ],
             [
              0.3333333333333333,
              "#9c179e"
             ],
             [
              0.4444444444444444,
              "#bd3786"
             ],
             [
              0.5555555555555556,
              "#d8576b"
             ],
             [
              0.6666666666666666,
              "#ed7953"
             ],
             [
              0.7777777777777778,
              "#fb9f3a"
             ],
             [
              0.8888888888888888,
              "#fdca26"
             ],
             [
              1,
              "#f0f921"
             ]
            ],
            "type": "histogram2dcontour"
           }
          ],
          "mesh3d": [
           {
            "colorbar": {
             "outlinewidth": 0,
             "ticks": ""
            },
            "type": "mesh3d"
           }
          ],
          "parcoords": [
           {
            "line": {
             "colorbar": {
              "outlinewidth": 0,
              "ticks": ""
             }
            },
            "type": "parcoords"
           }
          ],
          "pie": [
           {
            "automargin": true,
            "type": "pie"
           }
          ],
          "scatter": [
           {
            "marker": {
             "line": {
              "color": "#283442"
             }
            },
            "type": "scatter"
           }
          ],
          "scatter3d": [
           {
            "line": {
             "colorbar": {
              "outlinewidth": 0,
              "ticks": ""
             }
            },
            "marker": {
             "colorbar": {
              "outlinewidth": 0,
              "ticks": ""
             }
            },
            "type": "scatter3d"
           }
          ],
          "scattercarpet": [
           {
            "marker": {
             "colorbar": {
              "outlinewidth": 0,
              "ticks": ""
             }
            },
            "type": "scattercarpet"
           }
          ],
          "scattergeo": [
           {
            "marker": {
             "colorbar": {
              "outlinewidth": 0,
              "ticks": ""
             }
            },
            "type": "scattergeo"
           }
          ],
          "scattergl": [
           {
            "marker": {
             "line": {
              "color": "#283442"
             }
            },
            "type": "scattergl"
           }
          ],
          "scattermapbox": [
           {
            "marker": {
             "colorbar": {
              "outlinewidth": 0,
              "ticks": ""
             }
            },
            "type": "scattermapbox"
           }
          ],
          "scatterpolar": [
           {
            "marker": {
             "colorbar": {
              "outlinewidth": 0,
              "ticks": ""
             }
            },
            "type": "scatterpolar"
           }
          ],
          "scatterpolargl": [
           {
            "marker": {
             "colorbar": {
              "outlinewidth": 0,
              "ticks": ""
             }
            },
            "type": "scatterpolargl"
           }
          ],
          "scatterternary": [
           {
            "marker": {
             "colorbar": {
              "outlinewidth": 0,
              "ticks": ""
             }
            },
            "type": "scatterternary"
           }
          ],
          "surface": [
           {
            "colorbar": {
             "outlinewidth": 0,
             "ticks": ""
            },
            "colorscale": [
             [
              0,
              "#0d0887"
             ],
             [
              0.1111111111111111,
              "#46039f"
             ],
             [
              0.2222222222222222,
              "#7201a8"
             ],
             [
              0.3333333333333333,
              "#9c179e"
             ],
             [
              0.4444444444444444,
              "#bd3786"
             ],
             [
              0.5555555555555556,
              "#d8576b"
             ],
             [
              0.6666666666666666,
              "#ed7953"
             ],
             [
              0.7777777777777778,
              "#fb9f3a"
             ],
             [
              0.8888888888888888,
              "#fdca26"
             ],
             [
              1,
              "#f0f921"
             ]
            ],
            "type": "surface"
           }
          ],
          "table": [
           {
            "cells": {
             "fill": {
              "color": "#506784"
             },
             "line": {
              "color": "rgb(17,17,17)"
             }
            },
            "header": {
             "fill": {
              "color": "#2a3f5f"
             },
             "line": {
              "color": "rgb(17,17,17)"
             }
            },
            "type": "table"
           }
          ]
         },
         "layout": {
          "annotationdefaults": {
           "arrowcolor": "#f2f5fa",
           "arrowhead": 0,
           "arrowwidth": 1
          },
          "autotypenumbers": "strict",
          "coloraxis": {
           "colorbar": {
            "outlinewidth": 0,
            "ticks": ""
           }
          },
          "colorscale": {
           "diverging": [
            [
             0,
             "#8e0152"
            ],
            [
             0.1,
             "#c51b7d"
            ],
            [
             0.2,
             "#de77ae"
            ],
            [
             0.3,
             "#f1b6da"
            ],
            [
             0.4,
             "#fde0ef"
            ],
            [
             0.5,
             "#f7f7f7"
            ],
            [
             0.6,
             "#e6f5d0"
            ],
            [
             0.7,
             "#b8e186"
            ],
            [
             0.8,
             "#7fbc41"
            ],
            [
             0.9,
             "#4d9221"
            ],
            [
             1,
             "#276419"
            ]
           ],
           "sequential": [
            [
             0,
             "#0d0887"
            ],
            [
             0.1111111111111111,
             "#46039f"
            ],
            [
             0.2222222222222222,
             "#7201a8"
            ],
            [
             0.3333333333333333,
             "#9c179e"
            ],
            [
             0.4444444444444444,
             "#bd3786"
            ],
            [
             0.5555555555555556,
             "#d8576b"
            ],
            [
             0.6666666666666666,
             "#ed7953"
            ],
            [
             0.7777777777777778,
             "#fb9f3a"
            ],
            [
             0.8888888888888888,
             "#fdca26"
            ],
            [
             1,
             "#f0f921"
            ]
           ],
           "sequentialminus": [
            [
             0,
             "#0d0887"
            ],
            [
             0.1111111111111111,
             "#46039f"
            ],
            [
             0.2222222222222222,
             "#7201a8"
            ],
            [
             0.3333333333333333,
             "#9c179e"
            ],
            [
             0.4444444444444444,
             "#bd3786"
            ],
            [
             0.5555555555555556,
             "#d8576b"
            ],
            [
             0.6666666666666666,
             "#ed7953"
            ],
            [
             0.7777777777777778,
             "#fb9f3a"
            ],
            [
             0.8888888888888888,
             "#fdca26"
            ],
            [
             1,
             "#f0f921"
            ]
           ]
          },
          "colorway": [
           "#636efa",
           "#EF553B",
           "#00cc96",
           "#ab63fa",
           "#FFA15A",
           "#19d3f3",
           "#FF6692",
           "#B6E880",
           "#FF97FF",
           "#FECB52"
          ],
          "font": {
           "color": "#f2f5fa"
          },
          "geo": {
           "bgcolor": "rgb(17,17,17)",
           "lakecolor": "rgb(17,17,17)",
           "landcolor": "rgb(17,17,17)",
           "showlakes": true,
           "showland": true,
           "subunitcolor": "#506784"
          },
          "hoverlabel": {
           "align": "left"
          },
          "hovermode": "closest",
          "mapbox": {
           "style": "dark"
          },
          "paper_bgcolor": "rgb(17,17,17)",
          "plot_bgcolor": "rgb(17,17,17)",
          "polar": {
           "angularaxis": {
            "gridcolor": "#506784",
            "linecolor": "#506784",
            "ticks": ""
           },
           "bgcolor": "rgb(17,17,17)",
           "radialaxis": {
            "gridcolor": "#506784",
            "linecolor": "#506784",
            "ticks": ""
           }
          },
          "scene": {
           "xaxis": {
            "backgroundcolor": "rgb(17,17,17)",
            "gridcolor": "#506784",
            "gridwidth": 2,
            "linecolor": "#506784",
            "showbackground": true,
            "ticks": "",
            "zerolinecolor": "#C8D4E3"
           },
           "yaxis": {
            "backgroundcolor": "rgb(17,17,17)",
            "gridcolor": "#506784",
            "gridwidth": 2,
            "linecolor": "#506784",
            "showbackground": true,
            "ticks": "",
            "zerolinecolor": "#C8D4E3"
           },
           "zaxis": {
            "backgroundcolor": "rgb(17,17,17)",
            "gridcolor": "#506784",
            "gridwidth": 2,
            "linecolor": "#506784",
            "showbackground": true,
            "ticks": "",
            "zerolinecolor": "#C8D4E3"
           }
          },
          "shapedefaults": {
           "line": {
            "color": "#f2f5fa"
           }
          },
          "sliderdefaults": {
           "bgcolor": "#C8D4E3",
           "bordercolor": "rgb(17,17,17)",
           "borderwidth": 1,
           "tickwidth": 0
          },
          "ternary": {
           "aaxis": {
            "gridcolor": "#506784",
            "linecolor": "#506784",
            "ticks": ""
           },
           "baxis": {
            "gridcolor": "#506784",
            "linecolor": "#506784",
            "ticks": ""
           },
           "bgcolor": "rgb(17,17,17)",
           "caxis": {
            "gridcolor": "#506784",
            "linecolor": "#506784",
            "ticks": ""
           }
          },
          "title": {
           "x": 0.05
          },
          "updatemenudefaults": {
           "bgcolor": "#506784",
           "borderwidth": 0
          },
          "xaxis": {
           "automargin": true,
           "gridcolor": "#283442",
           "linecolor": "#506784",
           "ticks": "",
           "title": {
            "standoff": 15
           },
           "zerolinecolor": "#283442",
           "zerolinewidth": 2
          },
          "yaxis": {
           "automargin": true,
           "gridcolor": "#283442",
           "linecolor": "#506784",
           "ticks": "",
           "title": {
            "standoff": 15
           },
           "zerolinecolor": "#283442",
           "zerolinewidth": 2
          }
         }
        },
        "title": {
         "text": "Графики потерь во время обучения"
        },
        "xaxis": {
         "title": {
          "text": "Эпоха"
         }
        },
        "yaxis": {
         "title": {
          "text": "Среднее значение потерь"
         }
        }
       }
      }
     },
     "metadata": {},
     "output_type": "display_data"
    },
    {
     "name": "stdout",
     "output_type": "stream",
     "text": [
      "\n",
      "=== Диагностика после эпохи 4 ===\n",
      "\n",
      "Пример 1:\n",
      "Предыстория: = = Development = =\n",
      "Сжатый контекст: $#!!(!!\"!!'$#%\"\"\"!#\"!\"#)\"!(!#\"''!!$(#'##!#$!\"%\"#)%\"#!\"*%%\"$\"%\"\"%!$'#(!!!!!#$###$\"\"$#\"%!!&%$!!\"#\")\"\"!%!\"'%!%#\"##&\"$,##/!&!'$!%&##\"!!$!%!!&('!$#!*\"##!!##1\"!&\"!$,#\"#!!!$%$$\"($\"&&$-!#\"\"#%%!!\"##!!,\"!#$!\"&!$,!#%#$\"1\"#\"\"'$!(.$&!!\"&&&&##!4\"!$$\"'#%\"\"\"#&%''$\"(#!!\"$#!###!!\"!!#%%!##!!\"#(!)##!&!(\"!#(#$!!!&'!##\"'##$\"!!&!!\"$##\"&##%$!'#$!&##!!\"\"!!$#!\"#\"!(#$&!##!\"!\"*\"##!%#&&#(&!\"$\"!!!!\"\"%!&\n",
      "Текущий фрагмент: Concept work for Valkyria Chronicles III began after development finished on Valkyria Chronicles II in early 2010 , with full development beginning shortly after this . The director of Valkyria Chronicles II , Takeshi Ozawa , returned to that role for Valkyria Chronicles III . Development work took approximately one year . After the release of Valkyria Chronicles II , the staff took a look at both the popular response for the game and what they wanted to do next for the series . Like its predece\n",
      "Предсказание по сжатому контексту: ,\n",
      "Предсказание по сырому контексту: \n",
      " \". Development Development = = theectria Chronicles 2. in the of. thealkyria Chronicles II. 2011 2011. and the development on in after the.\n",
      " game of developmentalkyria Chronicles III, Kazhi Kawa, was to the role in thealkyria Chronicles III in\n",
      " of on place two year to\n",
      " the completion of Valkyria Chronicles III, the game of over break at the the game and to the game and the the thought to do with. the game. The the predecessorilevelopased\n",
      "Предсказание по текущему фрагменту: .s is theFXria Chronicles 2: in the of. thealkyria Chronicles II. 2011 2013. and the support on in after the.\n",
      " game of thealkyria Chronicles III, Kazhi Kawa, was to the project in thealkyria Chronicles III in\n",
      " on on place two year to\n",
      " the completion of Valkyria Chronicles III, the game of over break at the the game and to the game and the the thought to do with. the game.\n",
      " the predecessorileceased\n",
      "Целевой текст: The majority of material created for previous games, such as the BLiTZ system and the design of maps, was carried over. Alongside this, improvements were made to the game's graphics and some elements were expanded, such as map layouts, mission structure, and the number of playable units per mission. A part of this upgrade involved creating unique polygon models for each character's body. In order to achieve this, the cooperative elements incorporated into the second game were removed\n",
      "\n",
      "Пример 2:\n",
      "Предыстория: = = Reception = =\n",
      "Сжатый контекст: $#!\"(!!\"!!'$#&\"\"\"!#\"\"\"#)\"\"(!#\"'&!!$(#'##\"#$!\"%!#)%##!\"*%%\"$\"%\"\"%!$(#(!!!!!#$###%\"\"$##%!!!&%$!!\"#\")\"\"!%!\"'%!%\"###&\"$,##/!%!'#%%##\"!!#!%!!&('!$#!*!\"##\"##1\"!&\"$,#\"#!\"!!$%!#$\"'$\"&&$-!#\"\"#%%!!\"##!!,\"!##\"\"'!%,!#%$$\"!1\"#\"\"'$\"(.#&!\"&&&&##!4\"!$$\"'#%!\"\"\"#&%('$\"(#!!!$#!###!!!!#%%##!\"#(!)##!&!(\"!$)#$!!!&'!##\"'##$\"!&!!#$##\"&##%$\"'$$!&##!!\"\"!!%#!\"#\"!(#$'!##!\"!\"+###!&#&&#(&!\"$\"!!!!\"\"%!&\n",
      "Текущий фрагмент: On its day of release in Japan , Valkyria Chronicles III topped both platform @-@ exclusive and multi @-@ platform sales charts . By early February , the game sold 102 @,@ 779 units , coming in second overall to The Last Story for the Wii . By the end of the year , the game had sold just over 152 @,@ 500 units .\n",
      "Предсказание по сжатому контексту: ,\n",
      "Предсказание по сырому контексту: \n",
      " \"gex. 0 0 = own = the = the. it =ries Chronicles 2: the charts and 1 and and to @--@ exclusive...\n",
      " comparison September, V game had over,- and and.,, and in at place behind the Legend of. the month U\n",
      " the end of the month, the game sold sold over over 1,,@ 7 units.\n",
      "\n",
      "Предсказание по текущему фрагменту:  the website, action, May, theiacria Chronicles 2: the the and and and and to @--platform exclusive...\n",
      " comparison October, V game had over,- and and.,, and in at place behind the Legend of. the month U\n",
      " the end of the month, V game sold sold over over 1,,@ 7 units.\n",
      "\n",
      "Целевой текст: Famitsu enjoyed the story, and were particularly pleased with the improvements to gameplay. Japanese gaming site Game Watch Impress, despite negatively noting its pacing and elements recycled from previous games, was generally positive about its story and characters, and found its gameplay entertaining despite off @-@ putting difficulty spikes. 4Gamer.net writer Naohiko Misuosame, in a \" Play Test \" article based on the game's PSN demo, felt that Valkyria Chronicles III provided a \" pro\n",
      "\n",
      "Пример 3:\n",
      "Предыстория: On its day of release in Japan , Valkyria Chronicles III topped both platform @-@ exclusive and multi @-@ platform sales charts . By early February , the game sold 102 @,@ 779 units , coming in second overall to The Last Story for the Wii . By the end of the year , the game had sold just over 152 @,@ 500 units .\n",
      "Сжатый контекст: %#!\"*\"\"!!)%$&\"#\"\"#\"!#$+#\"*!$#('\"!$)#)##!!%$\"%!\"$+&##!#,&%#%#&\"#%!$)$(!!!#!!#%#$#%#\"&$#!!&!!'!&%\"\"\"$\"+\"\"\"&#(%!&####'#$.##1\"'!'$&&$#\"!!$\"&!!(*(!$#\",!!##$\"#$4\"!'!$/###!\"!!%%!$%\")%#&'$/\"$\"!##%&!!#$#!!/\"!$$\"\"'!%/#&%%#3\"##!'%\")1%'!!$(''(#$!8$!%%#(#&\"\"#\"$'&('$!+$\"\"$#!$$$!!\"#'&#$\"!#%*\"+$$(!(#\"$!*!%&!!!')\"###(#$%\"\"'!\"%$\"!'##'$!(%$!'$$\"#!!&#\"!#\"\"!)#&(\"#$!\"!#,#$!$!&$&($*(!\"##!\"\"\"!\"%!'\n",
      "Текущий фрагмент: Famitsu enjoyed the story , and were particularly pleased with the improvements to gameplay . Japanese gaming site Game Watch Impress , despite negatively noting its pacing and elements recycled from previous games , was generally positive about its story and characters , and found its gameplay entertaining despite off @-@ putting difficulty spikes . 4Gamer.net writer Naohiko Misuosame , in a \" Play Test \" article based on the game 's PSN demo , felt that Valkyria Chronicles III provided a \" pro\n",
      "Предсказание по сжатому контексту:  the\n",
      "Предсказание по сырому контексту:  the website, action, May, theiacria Chronicles 2: the the and and and and to @--platform exclusive...\n",
      " comparison October, V game had over,- and and.,, and in at place behind the Legend of. the month U\n",
      " the end of the month, V game sold sold over over 1,,@ 7 units.\n",
      "itsu reported a game of and the able impressed with the game made the and\n",
      " publisher magazine FamSpot reportedpressions which its comparing the lack and the, from previous games, praised pleased pleased about the game and the. and was the story to. its--platforming the to.\n",
      "K alsocom, andokiiko Nakakihaki also who a recent positivethrough \" article, on the game, V gameplay Vita release, said that thealkyria Chronicles III was a \" good-\n",
      "Предсказание по текущему фрагменту: .ilies, a opportunity of but the very impressed with the story made the.\n",
      " fans culture KotFAQ haspressions which being reviewing the lack and pacing of from the games, has very pleased about the story and the. and was the story to. its- thetheing the on on\n",
      ". alsocom also andokiiko Kakiokaaki also who a reviewgoodthrough \" article, on the game, The story Vita,, said that thealkyria Chronicles 2 was a good fun-\n",
      "Целевой текст: PlayStation Official Magazine - UK praised the story's blurring of Gallia's moral standing, art style, and most points about its gameplay, positively noting the latter for both its continued quality and the tweaks to balance and content. Its one major criticism were multiple difficulty spikes, something that had affected the previous games. Heath Hindman of gaming website PlayStation Lifestyle praised the addition of non @-@ linear elements and improvements or removal of mechanics from V\n",
      "Epoch 5, Avg Compressed Context Loss: 0.4779, Avg Compression Ratio: 0.5092, Avg Divergence: 0.2793\n"
     ]
    },
    {
     "data": {
      "application/vnd.plotly.v1+json": {
       "config": {
        "plotlyServerURL": "https://plot.ly"
       },
       "data": [
        {
         "mode": "lines+markers",
         "name": "Raw Context Loss",
         "type": "scatter",
         "uid": "62414bf8-573b-447b-a691-bbd6e208413f",
         "x": [
          1,
          2,
          3,
          4,
          5
         ],
         "y": [
          0.2385900616645813,
          0.2385900616645813,
          0.2385900616645813,
          0.2385900616645813,
          0.2385900616645813
         ]
        },
        {
         "mode": "lines+markers",
         "name": "Compressed Context Loss",
         "type": "scatter",
         "uid": "124ccac1-04d6-40ec-82ca-fbb5fb4bdc2d",
         "x": [
          1,
          2,
          3,
          4,
          5
         ],
         "y": [
          0.9561335407386576,
          0.6978844448848425,
          0.6261446594738113,
          0.5742885279020077,
          0.47793081811236854
         ]
        },
        {
         "mode": "lines+markers",
         "name": "Fragment Only Loss",
         "type": "scatter",
         "uid": "9f5922f1-e3c0-4a25-87b5-516383ffb417",
         "x": [
          1,
          2,
          3,
          4,
          5
         ],
         "y": [
          0.27232280373573303,
          0.27232280373573303,
          0.27232280373573303,
          0.27232280373573303,
          0.27232280373573303
         ]
        }
       ],
       "layout": {
        "template": {
         "data": {
          "bar": [
           {
            "error_x": {
             "color": "#f2f5fa"
            },
            "error_y": {
             "color": "#f2f5fa"
            },
            "marker": {
             "line": {
              "color": "rgb(17,17,17)",
              "width": 0.5
             },
             "pattern": {
              "fillmode": "overlay",
              "size": 10,
              "solidity": 0.2
             }
            },
            "type": "bar"
           }
          ],
          "barpolar": [
           {
            "marker": {
             "line": {
              "color": "rgb(17,17,17)",
              "width": 0.5
             },
             "pattern": {
              "fillmode": "overlay",
              "size": 10,
              "solidity": 0.2
             }
            },
            "type": "barpolar"
           }
          ],
          "carpet": [
           {
            "aaxis": {
             "endlinecolor": "#A2B1C6",
             "gridcolor": "#506784",
             "linecolor": "#506784",
             "minorgridcolor": "#506784",
             "startlinecolor": "#A2B1C6"
            },
            "baxis": {
             "endlinecolor": "#A2B1C6",
             "gridcolor": "#506784",
             "linecolor": "#506784",
             "minorgridcolor": "#506784",
             "startlinecolor": "#A2B1C6"
            },
            "type": "carpet"
           }
          ],
          "choropleth": [
           {
            "colorbar": {
             "outlinewidth": 0,
             "ticks": ""
            },
            "type": "choropleth"
           }
          ],
          "contour": [
           {
            "colorbar": {
             "outlinewidth": 0,
             "ticks": ""
            },
            "colorscale": [
             [
              0,
              "#0d0887"
             ],
             [
              0.1111111111111111,
              "#46039f"
             ],
             [
              0.2222222222222222,
              "#7201a8"
             ],
             [
              0.3333333333333333,
              "#9c179e"
             ],
             [
              0.4444444444444444,
              "#bd3786"
             ],
             [
              0.5555555555555556,
              "#d8576b"
             ],
             [
              0.6666666666666666,
              "#ed7953"
             ],
             [
              0.7777777777777778,
              "#fb9f3a"
             ],
             [
              0.8888888888888888,
              "#fdca26"
             ],
             [
              1,
              "#f0f921"
             ]
            ],
            "type": "contour"
           }
          ],
          "contourcarpet": [
           {
            "colorbar": {
             "outlinewidth": 0,
             "ticks": ""
            },
            "type": "contourcarpet"
           }
          ],
          "heatmap": [
           {
            "colorbar": {
             "outlinewidth": 0,
             "ticks": ""
            },
            "colorscale": [
             [
              0,
              "#0d0887"
             ],
             [
              0.1111111111111111,
              "#46039f"
             ],
             [
              0.2222222222222222,
              "#7201a8"
             ],
             [
              0.3333333333333333,
              "#9c179e"
             ],
             [
              0.4444444444444444,
              "#bd3786"
             ],
             [
              0.5555555555555556,
              "#d8576b"
             ],
             [
              0.6666666666666666,
              "#ed7953"
             ],
             [
              0.7777777777777778,
              "#fb9f3a"
             ],
             [
              0.8888888888888888,
              "#fdca26"
             ],
             [
              1,
              "#f0f921"
             ]
            ],
            "type": "heatmap"
           }
          ],
          "heatmapgl": [
           {
            "colorbar": {
             "outlinewidth": 0,
             "ticks": ""
            },
            "colorscale": [
             [
              0,
              "#0d0887"
             ],
             [
              0.1111111111111111,
              "#46039f"
             ],
             [
              0.2222222222222222,
              "#7201a8"
             ],
             [
              0.3333333333333333,
              "#9c179e"
             ],
             [
              0.4444444444444444,
              "#bd3786"
             ],
             [
              0.5555555555555556,
              "#d8576b"
             ],
             [
              0.6666666666666666,
              "#ed7953"
             ],
             [
              0.7777777777777778,
              "#fb9f3a"
             ],
             [
              0.8888888888888888,
              "#fdca26"
             ],
             [
              1,
              "#f0f921"
             ]
            ],
            "type": "heatmapgl"
           }
          ],
          "histogram": [
           {
            "marker": {
             "pattern": {
              "fillmode": "overlay",
              "size": 10,
              "solidity": 0.2
             }
            },
            "type": "histogram"
           }
          ],
          "histogram2d": [
           {
            "colorbar": {
             "outlinewidth": 0,
             "ticks": ""
            },
            "colorscale": [
             [
              0,
              "#0d0887"
             ],
             [
              0.1111111111111111,
              "#46039f"
             ],
             [
              0.2222222222222222,
              "#7201a8"
             ],
             [
              0.3333333333333333,
              "#9c179e"
             ],
             [
              0.4444444444444444,
              "#bd3786"
             ],
             [
              0.5555555555555556,
              "#d8576b"
             ],
             [
              0.6666666666666666,
              "#ed7953"
             ],
             [
              0.7777777777777778,
              "#fb9f3a"
             ],
             [
              0.8888888888888888,
              "#fdca26"
             ],
             [
              1,
              "#f0f921"
             ]
            ],
            "type": "histogram2d"
           }
          ],
          "histogram2dcontour": [
           {
            "colorbar": {
             "outlinewidth": 0,
             "ticks": ""
            },
            "colorscale": [
             [
              0,
              "#0d0887"
             ],
             [
              0.1111111111111111,
              "#46039f"
             ],
             [
              0.2222222222222222,
              "#7201a8"
             ],
             [
              0.3333333333333333,
              "#9c179e"
             ],
             [
              0.4444444444444444,
              "#bd3786"
             ],
             [
              0.5555555555555556,
              "#d8576b"
             ],
             [
              0.6666666666666666,
              "#ed7953"
             ],
             [
              0.7777777777777778,
              "#fb9f3a"
             ],
             [
              0.8888888888888888,
              "#fdca26"
             ],
             [
              1,
              "#f0f921"
             ]
            ],
            "type": "histogram2dcontour"
           }
          ],
          "mesh3d": [
           {
            "colorbar": {
             "outlinewidth": 0,
             "ticks": ""
            },
            "type": "mesh3d"
           }
          ],
          "parcoords": [
           {
            "line": {
             "colorbar": {
              "outlinewidth": 0,
              "ticks": ""
             }
            },
            "type": "parcoords"
           }
          ],
          "pie": [
           {
            "automargin": true,
            "type": "pie"
           }
          ],
          "scatter": [
           {
            "marker": {
             "line": {
              "color": "#283442"
             }
            },
            "type": "scatter"
           }
          ],
          "scatter3d": [
           {
            "line": {
             "colorbar": {
              "outlinewidth": 0,
              "ticks": ""
             }
            },
            "marker": {
             "colorbar": {
              "outlinewidth": 0,
              "ticks": ""
             }
            },
            "type": "scatter3d"
           }
          ],
          "scattercarpet": [
           {
            "marker": {
             "colorbar": {
              "outlinewidth": 0,
              "ticks": ""
             }
            },
            "type": "scattercarpet"
           }
          ],
          "scattergeo": [
           {
            "marker": {
             "colorbar": {
              "outlinewidth": 0,
              "ticks": ""
             }
            },
            "type": "scattergeo"
           }
          ],
          "scattergl": [
           {
            "marker": {
             "line": {
              "color": "#283442"
             }
            },
            "type": "scattergl"
           }
          ],
          "scattermapbox": [
           {
            "marker": {
             "colorbar": {
              "outlinewidth": 0,
              "ticks": ""
             }
            },
            "type": "scattermapbox"
           }
          ],
          "scatterpolar": [
           {
            "marker": {
             "colorbar": {
              "outlinewidth": 0,
              "ticks": ""
             }
            },
            "type": "scatterpolar"
           }
          ],
          "scatterpolargl": [
           {
            "marker": {
             "colorbar": {
              "outlinewidth": 0,
              "ticks": ""
             }
            },
            "type": "scatterpolargl"
           }
          ],
          "scatterternary": [
           {
            "marker": {
             "colorbar": {
              "outlinewidth": 0,
              "ticks": ""
             }
            },
            "type": "scatterternary"
           }
          ],
          "surface": [
           {
            "colorbar": {
             "outlinewidth": 0,
             "ticks": ""
            },
            "colorscale": [
             [
              0,
              "#0d0887"
             ],
             [
              0.1111111111111111,
              "#46039f"
             ],
             [
              0.2222222222222222,
              "#7201a8"
             ],
             [
              0.3333333333333333,
              "#9c179e"
             ],
             [
              0.4444444444444444,
              "#bd3786"
             ],
             [
              0.5555555555555556,
              "#d8576b"
             ],
             [
              0.6666666666666666,
              "#ed7953"
             ],
             [
              0.7777777777777778,
              "#fb9f3a"
             ],
             [
              0.8888888888888888,
              "#fdca26"
             ],
             [
              1,
              "#f0f921"
             ]
            ],
            "type": "surface"
           }
          ],
          "table": [
           {
            "cells": {
             "fill": {
              "color": "#506784"
             },
             "line": {
              "color": "rgb(17,17,17)"
             }
            },
            "header": {
             "fill": {
              "color": "#2a3f5f"
             },
             "line": {
              "color": "rgb(17,17,17)"
             }
            },
            "type": "table"
           }
          ]
         },
         "layout": {
          "annotationdefaults": {
           "arrowcolor": "#f2f5fa",
           "arrowhead": 0,
           "arrowwidth": 1
          },
          "autotypenumbers": "strict",
          "coloraxis": {
           "colorbar": {
            "outlinewidth": 0,
            "ticks": ""
           }
          },
          "colorscale": {
           "diverging": [
            [
             0,
             "#8e0152"
            ],
            [
             0.1,
             "#c51b7d"
            ],
            [
             0.2,
             "#de77ae"
            ],
            [
             0.3,
             "#f1b6da"
            ],
            [
             0.4,
             "#fde0ef"
            ],
            [
             0.5,
             "#f7f7f7"
            ],
            [
             0.6,
             "#e6f5d0"
            ],
            [
             0.7,
             "#b8e186"
            ],
            [
             0.8,
             "#7fbc41"
            ],
            [
             0.9,
             "#4d9221"
            ],
            [
             1,
             "#276419"
            ]
           ],
           "sequential": [
            [
             0,
             "#0d0887"
            ],
            [
             0.1111111111111111,
             "#46039f"
            ],
            [
             0.2222222222222222,
             "#7201a8"
            ],
            [
             0.3333333333333333,
             "#9c179e"
            ],
            [
             0.4444444444444444,
             "#bd3786"
            ],
            [
             0.5555555555555556,
             "#d8576b"
            ],
            [
             0.6666666666666666,
             "#ed7953"
            ],
            [
             0.7777777777777778,
             "#fb9f3a"
            ],
            [
             0.8888888888888888,
             "#fdca26"
            ],
            [
             1,
             "#f0f921"
            ]
           ],
           "sequentialminus": [
            [
             0,
             "#0d0887"
            ],
            [
             0.1111111111111111,
             "#46039f"
            ],
            [
             0.2222222222222222,
             "#7201a8"
            ],
            [
             0.3333333333333333,
             "#9c179e"
            ],
            [
             0.4444444444444444,
             "#bd3786"
            ],
            [
             0.5555555555555556,
             "#d8576b"
            ],
            [
             0.6666666666666666,
             "#ed7953"
            ],
            [
             0.7777777777777778,
             "#fb9f3a"
            ],
            [
             0.8888888888888888,
             "#fdca26"
            ],
            [
             1,
             "#f0f921"
            ]
           ]
          },
          "colorway": [
           "#636efa",
           "#EF553B",
           "#00cc96",
           "#ab63fa",
           "#FFA15A",
           "#19d3f3",
           "#FF6692",
           "#B6E880",
           "#FF97FF",
           "#FECB52"
          ],
          "font": {
           "color": "#f2f5fa"
          },
          "geo": {
           "bgcolor": "rgb(17,17,17)",
           "lakecolor": "rgb(17,17,17)",
           "landcolor": "rgb(17,17,17)",
           "showlakes": true,
           "showland": true,
           "subunitcolor": "#506784"
          },
          "hoverlabel": {
           "align": "left"
          },
          "hovermode": "closest",
          "mapbox": {
           "style": "dark"
          },
          "paper_bgcolor": "rgb(17,17,17)",
          "plot_bgcolor": "rgb(17,17,17)",
          "polar": {
           "angularaxis": {
            "gridcolor": "#506784",
            "linecolor": "#506784",
            "ticks": ""
           },
           "bgcolor": "rgb(17,17,17)",
           "radialaxis": {
            "gridcolor": "#506784",
            "linecolor": "#506784",
            "ticks": ""
           }
          },
          "scene": {
           "xaxis": {
            "backgroundcolor": "rgb(17,17,17)",
            "gridcolor": "#506784",
            "gridwidth": 2,
            "linecolor": "#506784",
            "showbackground": true,
            "ticks": "",
            "zerolinecolor": "#C8D4E3"
           },
           "yaxis": {
            "backgroundcolor": "rgb(17,17,17)",
            "gridcolor": "#506784",
            "gridwidth": 2,
            "linecolor": "#506784",
            "showbackground": true,
            "ticks": "",
            "zerolinecolor": "#C8D4E3"
           },
           "zaxis": {
            "backgroundcolor": "rgb(17,17,17)",
            "gridcolor": "#506784",
            "gridwidth": 2,
            "linecolor": "#506784",
            "showbackground": true,
            "ticks": "",
            "zerolinecolor": "#C8D4E3"
           }
          },
          "shapedefaults": {
           "line": {
            "color": "#f2f5fa"
           }
          },
          "sliderdefaults": {
           "bgcolor": "#C8D4E3",
           "bordercolor": "rgb(17,17,17)",
           "borderwidth": 1,
           "tickwidth": 0
          },
          "ternary": {
           "aaxis": {
            "gridcolor": "#506784",
            "linecolor": "#506784",
            "ticks": ""
           },
           "baxis": {
            "gridcolor": "#506784",
            "linecolor": "#506784",
            "ticks": ""
           },
           "bgcolor": "rgb(17,17,17)",
           "caxis": {
            "gridcolor": "#506784",
            "linecolor": "#506784",
            "ticks": ""
           }
          },
          "title": {
           "x": 0.05
          },
          "updatemenudefaults": {
           "bgcolor": "#506784",
           "borderwidth": 0
          },
          "xaxis": {
           "automargin": true,
           "gridcolor": "#283442",
           "linecolor": "#506784",
           "ticks": "",
           "title": {
            "standoff": 15
           },
           "zerolinecolor": "#283442",
           "zerolinewidth": 2
          },
          "yaxis": {
           "automargin": true,
           "gridcolor": "#283442",
           "linecolor": "#506784",
           "ticks": "",
           "title": {
            "standoff": 15
           },
           "zerolinecolor": "#283442",
           "zerolinewidth": 2
          }
         }
        },
        "title": {
         "text": "Графики потерь во время обучения"
        },
        "xaxis": {
         "title": {
          "text": "Эпоха"
         }
        },
        "yaxis": {
         "title": {
          "text": "Среднее значение потерь"
         }
        }
       }
      }
     },
     "metadata": {},
     "output_type": "display_data"
    },
    {
     "name": "stdout",
     "output_type": "stream",
     "text": [
      "\n",
      "=== Диагностика после эпохи 5 ===\n",
      "\n",
      "Пример 1:\n",
      "Предыстория: = = Development = =\n",
      "Сжатый контекст: #$!\"'#\"!!&%##!\"#\"%!\"##)!!'\"\"\"&&#\"#)#(##!!!#$!#&!!#!&&\"#\"#*$%!\"\"%!%\"#$!#(\"(!!\"!#$!##!$\"!\"\"#%!!#'!$$!!\"!!)\"!\"$#\"(%\"%!###$\"#-\"#1!&\"\"(!$$%#\"##\"#!%!!'((\"#)!#\"##0$'!&,!\"#!!$%!\"#\"&#\"&&#*!%\"!!\"#&!$!\"!$#!-!\"$\"!#'\"$,\"\"%!%$\"!0#!!\"(#\"(.!#&\"\"#''%%\"$2#!%!$$(!!%!##!#%%)(&#'!\"\"\"\"##\"#!!#!\"!!\"%$!!#\"\"!#\"$(!)$#&!)\"$(\"\"$!!!('##!!'\"!$#!%!\"$$!#!%#!!$\"!&$#!%$#\"!\"!!$$!!\"$\"'\"%\"&##!!\"$*!#$#\"&#''#)&\"\"%$\"$!#%!'\n",
      "Текущий фрагмент: Concept work for Valkyria Chronicles III began after development finished on Valkyria Chronicles II in early 2010 , with full development beginning shortly after this . The director of Valkyria Chronicles II , Takeshi Ozawa , returned to that role for Valkyria Chronicles III . Development work took approximately one year . After the release of Valkyria Chronicles II , the staff took a look at both the popular response for the game and what they wanted to do next for the series . Like its predece\n",
      "Предсказание по сжатому контексту: ,\n",
      "Предсказание по сырому контексту: \n",
      " \". Development Development = = theectria Chronicles 2. in the of. thealkyria Chronicles II. 2011 2011. and the development on in after the.\n",
      " game of developmentalkyria Chronicles III, Kazhi Kawa, was to the role in thealkyria Chronicles III in\n",
      " of on place two year to\n",
      " the completion of Valkyria Chronicles III, the game of over break at the the game and to the game and the the thought to do with. the game. The the predecessorilevelopased\n",
      "Предсказание по текущему фрагменту: .s is theFXria Chronicles 2: in the of. thealkyria Chronicles II. 2011 2013. and the support on in after the.\n",
      " game of thealkyria Chronicles III, Kazhi Kawa, was to the project in thealkyria Chronicles III in\n",
      " on on place two year to\n",
      " the completion of Valkyria Chronicles III, the game of over break at the the game and to the game and the the thought to do with. the game.\n",
      " the predecessorileceased\n",
      "Целевой текст: The majority of material created for previous games, such as the BLiTZ system and the design of maps, was carried over. Alongside this, improvements were made to the game's graphics and some elements were expanded, such as map layouts, mission structure, and the number of playable units per mission. A part of this upgrade involved creating unique polygon models for each character's body. In order to achieve this, the cooperative elements incorporated into the second game were removed\n",
      "\n",
      "Пример 2:\n",
      "Предыстория: = = Reception = =\n",
      "Сжатый контекст: #$!\"'#!\"!!&&##!\"#\"&!\"$#)\"!'\"\"\"&&#\"#*#(##\"!!#$!#&!#!&&\"#\"#*%%!!\"%!&\"#%!#!(\"(!!\"#!$!##!%\"!\"\"$&!!#'$$!!\"!\")\"!\"$#\"(%\"%!###$\"$-\"#2!&\"\"(!$$%#\"$#!#!%!!'!((\"$)!#\"##0$'!&,!\"#!!!!$%!\"#!&#\"&&#*!%\"!!##&!$!\"!$#!-!\"$\"\"#(\"%,\"\"%!&$\"\"0\"!!\"(#\")/!!#%\"\"#''%%\"$3#!%$$)!!%!##!#&%)(&#'!\"\"\"!##\"$!!#!!!!\"%$!!#\"#!#\"$(!)$#&!)#$)!\"$!!!('#$!!(\"!$#!%!\"$$\"\"!%#!!$\"!'$#!%$#\"\"\"!!$$!!!\"$#(\"%\"&##!!\"$*#$#\"&#''#)&\"\"%$\"$\"#%!'\n",
      "Текущий фрагмент: On its day of release in Japan , Valkyria Chronicles III topped both platform @-@ exclusive and multi @-@ platform sales charts . By early February , the game sold 102 @,@ 779 units , coming in second overall to The Last Story for the Wii . By the end of the year , the game had sold just over 152 @,@ 500 units .\n",
      "Предсказание по сжатому контексту: ,\n",
      "Предсказание по сырому контексту: \n",
      " \"gex. 0 0 = own = the = the. it =ries Chronicles 2: the charts and 1 and and to @--@ exclusive...\n",
      " comparison September, V game had over,- and and.,, and in at place behind the Legend of. the month U\n",
      " the end of the month, the game sold sold over over 1,,@ 7 units.\n",
      "\n",
      "Предсказание по текущему фрагменту:  the website, action, May, theiacria Chronicles 2: the the and and and and to @--platform exclusive...\n",
      " comparison October, V game had over,- and and.,, and in at place behind the Legend of. the month U\n",
      " the end of the month, V game sold sold over over 1,,@ 7 units.\n",
      "\n",
      "Целевой текст: Famitsu enjoyed the story, and were particularly pleased with the improvements to gameplay. Japanese gaming site Game Watch Impress, despite negatively noting its pacing and elements recycled from previous games, was generally positive about its story and characters, and found its gameplay entertaining despite off @-@ putting difficulty spikes. 4Gamer.net writer Naohiko Misuosame, in a \" Play Test \" article based on the game's PSN demo, felt that Valkyria Chronicles III provided a \" pro\n",
      "\n",
      "Пример 3:\n",
      "Предыстория: On its day of release in Japan , Valkyria Chronicles III topped both platform @-@ exclusive and multi @-@ platform sales charts . By early February , the game sold 102 @,@ 779 units , coming in second overall to The Last Story for the Wii . By the end of the year , the game had sold just over 152 @,@ 500 units .\n",
      "Сжатый контекст: #$!\")!#\"!&&%#!\"\"#&!\"%$+\"\")\"\"#''#\"#*$)$#\"!!$$!#&!!$!('##\"#,%%!!#%\"'#$$!\"*\")!\"\"!#%!\"#!$\"!$#$&!$(!!$$!\"\"\"!)\"!#!%\"#)%\"&!#$#%##/\"$3!'\"!($%&$!%#\"#\"&!(!+)\"$!*!##!##3$(%.!\"#!!!!!%%!!#\"'##&!'#,#&\"!\"$&\"$!#\"%#/!!%#\"\"(\"%.\"'!'$\"!2\"!!!'$\")0!!$'#\"$('%'\"$5$!%!%$)!!&\"!##!$&&))&\")!#!#\"$##%\"#!\"!\"'%!!#\"$!#\"&)\"+$$'*##!*##&!!!)(!##!!(\"\"$$!&\"$%\"\"!&#!\"$\"(%$!&%$\"\"\"\"!%$!!!#!$\"(\"'\"'!$#!\"\"%+!#%$!#'#')$*'!\"$$\"!%!#$(\n",
      "Текущий фрагмент: Famitsu enjoyed the story , and were particularly pleased with the improvements to gameplay . Japanese gaming site Game Watch Impress , despite negatively noting its pacing and elements recycled from previous games , was generally positive about its story and characters , and found its gameplay entertaining despite off @-@ putting difficulty spikes . 4Gamer.net writer Naohiko Misuosame , in a \" Play Test \" article based on the game 's PSN demo , felt that Valkyria Chronicles III provided a \" pro\n",
      "Предсказание по сжатому контексту:  the\n",
      "Предсказание по сырому контексту:  the website, action, May, theiacria Chronicles 2: the the and and and and to @--platform exclusive...\n",
      " comparison October, V game had over,- and and.,, and in at place behind the Legend of. the month U\n",
      " the end of the month, V game sold sold over over 1,,@ 7 units.\n",
      "itsu reported a game of and the able impressed with the game made the and\n",
      " publisher magazine FamSpot reportedpressions which its comparing the lack and the, from previous games, praised pleased pleased about the game and the. and was the story to. its--platforming the to.\n",
      "K alsocom, andokiiko Nakakihaki also who a recent positivethrough \" article, on the game, V gameplay Vita release, said that thealkyria Chronicles III was a \" good-\n",
      "Предсказание по текущему фрагменту: .ilies, a opportunity of but the very impressed with the story made the.\n",
      " fans culture KotFAQ haspressions which being reviewing the lack and pacing of from the games, has very pleased about the story and the. and was the story to. its- thetheing the on on\n",
      ". alsocom also andokiiko Kakiokaaki also who a reviewgoodthrough \" article, on the game, The story Vita,, said that thealkyria Chronicles 2 was a good fun-\n",
      "Целевой текст: PlayStation Official Magazine - UK praised the story's blurring of Gallia's moral standing, art style, and most points about its gameplay, positively noting the latter for both its continued quality and the tweaks to balance and content. Its one major criticism were multiple difficulty spikes, something that had affected the previous games. Heath Hindman of gaming website PlayStation Lifestyle praised the addition of non @-@ linear elements and improvements or removal of mechanics from V\n",
      "Epoch 6, Avg Compressed Context Loss: 0.4355, Avg Compression Ratio: 0.4959, Avg Divergence: 0.2507\n"
     ]
    },
    {
     "data": {
      "application/vnd.plotly.v1+json": {
       "config": {
        "plotlyServerURL": "https://plot.ly"
       },
       "data": [
        {
         "mode": "lines+markers",
         "name": "Raw Context Loss",
         "type": "scatter",
         "uid": "62414bf8-573b-447b-a691-bbd6e208413f",
         "x": [
          1,
          2,
          3,
          4,
          5,
          6
         ],
         "y": [
          0.2385900616645813,
          0.2385900616645813,
          0.2385900616645813,
          0.2385900616645813,
          0.2385900616645813,
          0.2385900616645813
         ]
        },
        {
         "mode": "lines+markers",
         "name": "Compressed Context Loss",
         "type": "scatter",
         "uid": "124ccac1-04d6-40ec-82ca-fbb5fb4bdc2d",
         "x": [
          1,
          2,
          3,
          4,
          5,
          6
         ],
         "y": [
          0.9561335407386576,
          0.6978844448848425,
          0.6261446594738113,
          0.5742885279020077,
          0.47793081811236854,
          0.4354808383484177
         ]
        },
        {
         "mode": "lines+markers",
         "name": "Fragment Only Loss",
         "type": "scatter",
         "uid": "9f5922f1-e3c0-4a25-87b5-516383ffb417",
         "x": [
          1,
          2,
          3,
          4,
          5,
          6
         ],
         "y": [
          0.27232280373573303,
          0.27232280373573303,
          0.27232280373573303,
          0.27232280373573303,
          0.27232280373573303,
          0.27232280373573303
         ]
        }
       ],
       "layout": {
        "template": {
         "data": {
          "bar": [
           {
            "error_x": {
             "color": "#f2f5fa"
            },
            "error_y": {
             "color": "#f2f5fa"
            },
            "marker": {
             "line": {
              "color": "rgb(17,17,17)",
              "width": 0.5
             },
             "pattern": {
              "fillmode": "overlay",
              "size": 10,
              "solidity": 0.2
             }
            },
            "type": "bar"
           }
          ],
          "barpolar": [
           {
            "marker": {
             "line": {
              "color": "rgb(17,17,17)",
              "width": 0.5
             },
             "pattern": {
              "fillmode": "overlay",
              "size": 10,
              "solidity": 0.2
             }
            },
            "type": "barpolar"
           }
          ],
          "carpet": [
           {
            "aaxis": {
             "endlinecolor": "#A2B1C6",
             "gridcolor": "#506784",
             "linecolor": "#506784",
             "minorgridcolor": "#506784",
             "startlinecolor": "#A2B1C6"
            },
            "baxis": {
             "endlinecolor": "#A2B1C6",
             "gridcolor": "#506784",
             "linecolor": "#506784",
             "minorgridcolor": "#506784",
             "startlinecolor": "#A2B1C6"
            },
            "type": "carpet"
           }
          ],
          "choropleth": [
           {
            "colorbar": {
             "outlinewidth": 0,
             "ticks": ""
            },
            "type": "choropleth"
           }
          ],
          "contour": [
           {
            "colorbar": {
             "outlinewidth": 0,
             "ticks": ""
            },
            "colorscale": [
             [
              0,
              "#0d0887"
             ],
             [
              0.1111111111111111,
              "#46039f"
             ],
             [
              0.2222222222222222,
              "#7201a8"
             ],
             [
              0.3333333333333333,
              "#9c179e"
             ],
             [
              0.4444444444444444,
              "#bd3786"
             ],
             [
              0.5555555555555556,
              "#d8576b"
             ],
             [
              0.6666666666666666,
              "#ed7953"
             ],
             [
              0.7777777777777778,
              "#fb9f3a"
             ],
             [
              0.8888888888888888,
              "#fdca26"
             ],
             [
              1,
              "#f0f921"
             ]
            ],
            "type": "contour"
           }
          ],
          "contourcarpet": [
           {
            "colorbar": {
             "outlinewidth": 0,
             "ticks": ""
            },
            "type": "contourcarpet"
           }
          ],
          "heatmap": [
           {
            "colorbar": {
             "outlinewidth": 0,
             "ticks": ""
            },
            "colorscale": [
             [
              0,
              "#0d0887"
             ],
             [
              0.1111111111111111,
              "#46039f"
             ],
             [
              0.2222222222222222,
              "#7201a8"
             ],
             [
              0.3333333333333333,
              "#9c179e"
             ],
             [
              0.4444444444444444,
              "#bd3786"
             ],
             [
              0.5555555555555556,
              "#d8576b"
             ],
             [
              0.6666666666666666,
              "#ed7953"
             ],
             [
              0.7777777777777778,
              "#fb9f3a"
             ],
             [
              0.8888888888888888,
              "#fdca26"
             ],
             [
              1,
              "#f0f921"
             ]
            ],
            "type": "heatmap"
           }
          ],
          "heatmapgl": [
           {
            "colorbar": {
             "outlinewidth": 0,
             "ticks": ""
            },
            "colorscale": [
             [
              0,
              "#0d0887"
             ],
             [
              0.1111111111111111,
              "#46039f"
             ],
             [
              0.2222222222222222,
              "#7201a8"
             ],
             [
              0.3333333333333333,
              "#9c179e"
             ],
             [
              0.4444444444444444,
              "#bd3786"
             ],
             [
              0.5555555555555556,
              "#d8576b"
             ],
             [
              0.6666666666666666,
              "#ed7953"
             ],
             [
              0.7777777777777778,
              "#fb9f3a"
             ],
             [
              0.8888888888888888,
              "#fdca26"
             ],
             [
              1,
              "#f0f921"
             ]
            ],
            "type": "heatmapgl"
           }
          ],
          "histogram": [
           {
            "marker": {
             "pattern": {
              "fillmode": "overlay",
              "size": 10,
              "solidity": 0.2
             }
            },
            "type": "histogram"
           }
          ],
          "histogram2d": [
           {
            "colorbar": {
             "outlinewidth": 0,
             "ticks": ""
            },
            "colorscale": [
             [
              0,
              "#0d0887"
             ],
             [
              0.1111111111111111,
              "#46039f"
             ],
             [
              0.2222222222222222,
              "#7201a8"
             ],
             [
              0.3333333333333333,
              "#9c179e"
             ],
             [
              0.4444444444444444,
              "#bd3786"
             ],
             [
              0.5555555555555556,
              "#d8576b"
             ],
             [
              0.6666666666666666,
              "#ed7953"
             ],
             [
              0.7777777777777778,
              "#fb9f3a"
             ],
             [
              0.8888888888888888,
              "#fdca26"
             ],
             [
              1,
              "#f0f921"
             ]
            ],
            "type": "histogram2d"
           }
          ],
          "histogram2dcontour": [
           {
            "colorbar": {
             "outlinewidth": 0,
             "ticks": ""
            },
            "colorscale": [
             [
              0,
              "#0d0887"
             ],
             [
              0.1111111111111111,
              "#46039f"
             ],
             [
              0.2222222222222222,
              "#7201a8"
             ],
             [
              0.3333333333333333,
              "#9c179e"
             ],
             [
              0.4444444444444444,
              "#bd3786"
             ],
             [
              0.5555555555555556,
              "#d8576b"
             ],
             [
              0.6666666666666666,
              "#ed7953"
             ],
             [
              0.7777777777777778,
              "#fb9f3a"
             ],
             [
              0.8888888888888888,
              "#fdca26"
             ],
             [
              1,
              "#f0f921"
             ]
            ],
            "type": "histogram2dcontour"
           }
          ],
          "mesh3d": [
           {
            "colorbar": {
             "outlinewidth": 0,
             "ticks": ""
            },
            "type": "mesh3d"
           }
          ],
          "parcoords": [
           {
            "line": {
             "colorbar": {
              "outlinewidth": 0,
              "ticks": ""
             }
            },
            "type": "parcoords"
           }
          ],
          "pie": [
           {
            "automargin": true,
            "type": "pie"
           }
          ],
          "scatter": [
           {
            "marker": {
             "line": {
              "color": "#283442"
             }
            },
            "type": "scatter"
           }
          ],
          "scatter3d": [
           {
            "line": {
             "colorbar": {
              "outlinewidth": 0,
              "ticks": ""
             }
            },
            "marker": {
             "colorbar": {
              "outlinewidth": 0,
              "ticks": ""
             }
            },
            "type": "scatter3d"
           }
          ],
          "scattercarpet": [
           {
            "marker": {
             "colorbar": {
              "outlinewidth": 0,
              "ticks": ""
             }
            },
            "type": "scattercarpet"
           }
          ],
          "scattergeo": [
           {
            "marker": {
             "colorbar": {
              "outlinewidth": 0,
              "ticks": ""
             }
            },
            "type": "scattergeo"
           }
          ],
          "scattergl": [
           {
            "marker": {
             "line": {
              "color": "#283442"
             }
            },
            "type": "scattergl"
           }
          ],
          "scattermapbox": [
           {
            "marker": {
             "colorbar": {
              "outlinewidth": 0,
              "ticks": ""
             }
            },
            "type": "scattermapbox"
           }
          ],
          "scatterpolar": [
           {
            "marker": {
             "colorbar": {
              "outlinewidth": 0,
              "ticks": ""
             }
            },
            "type": "scatterpolar"
           }
          ],
          "scatterpolargl": [
           {
            "marker": {
             "colorbar": {
              "outlinewidth": 0,
              "ticks": ""
             }
            },
            "type": "scatterpolargl"
           }
          ],
          "scatterternary": [
           {
            "marker": {
             "colorbar": {
              "outlinewidth": 0,
              "ticks": ""
             }
            },
            "type": "scatterternary"
           }
          ],
          "surface": [
           {
            "colorbar": {
             "outlinewidth": 0,
             "ticks": ""
            },
            "colorscale": [
             [
              0,
              "#0d0887"
             ],
             [
              0.1111111111111111,
              "#46039f"
             ],
             [
              0.2222222222222222,
              "#7201a8"
             ],
             [
              0.3333333333333333,
              "#9c179e"
             ],
             [
              0.4444444444444444,
              "#bd3786"
             ],
             [
              0.5555555555555556,
              "#d8576b"
             ],
             [
              0.6666666666666666,
              "#ed7953"
             ],
             [
              0.7777777777777778,
              "#fb9f3a"
             ],
             [
              0.8888888888888888,
              "#fdca26"
             ],
             [
              1,
              "#f0f921"
             ]
            ],
            "type": "surface"
           }
          ],
          "table": [
           {
            "cells": {
             "fill": {
              "color": "#506784"
             },
             "line": {
              "color": "rgb(17,17,17)"
             }
            },
            "header": {
             "fill": {
              "color": "#2a3f5f"
             },
             "line": {
              "color": "rgb(17,17,17)"
             }
            },
            "type": "table"
           }
          ]
         },
         "layout": {
          "annotationdefaults": {
           "arrowcolor": "#f2f5fa",
           "arrowhead": 0,
           "arrowwidth": 1
          },
          "autotypenumbers": "strict",
          "coloraxis": {
           "colorbar": {
            "outlinewidth": 0,
            "ticks": ""
           }
          },
          "colorscale": {
           "diverging": [
            [
             0,
             "#8e0152"
            ],
            [
             0.1,
             "#c51b7d"
            ],
            [
             0.2,
             "#de77ae"
            ],
            [
             0.3,
             "#f1b6da"
            ],
            [
             0.4,
             "#fde0ef"
            ],
            [
             0.5,
             "#f7f7f7"
            ],
            [
             0.6,
             "#e6f5d0"
            ],
            [
             0.7,
             "#b8e186"
            ],
            [
             0.8,
             "#7fbc41"
            ],
            [
             0.9,
             "#4d9221"
            ],
            [
             1,
             "#276419"
            ]
           ],
           "sequential": [
            [
             0,
             "#0d0887"
            ],
            [
             0.1111111111111111,
             "#46039f"
            ],
            [
             0.2222222222222222,
             "#7201a8"
            ],
            [
             0.3333333333333333,
             "#9c179e"
            ],
            [
             0.4444444444444444,
             "#bd3786"
            ],
            [
             0.5555555555555556,
             "#d8576b"
            ],
            [
             0.6666666666666666,
             "#ed7953"
            ],
            [
             0.7777777777777778,
             "#fb9f3a"
            ],
            [
             0.8888888888888888,
             "#fdca26"
            ],
            [
             1,
             "#f0f921"
            ]
           ],
           "sequentialminus": [
            [
             0,
             "#0d0887"
            ],
            [
             0.1111111111111111,
             "#46039f"
            ],
            [
             0.2222222222222222,
             "#7201a8"
            ],
            [
             0.3333333333333333,
             "#9c179e"
            ],
            [
             0.4444444444444444,
             "#bd3786"
            ],
            [
             0.5555555555555556,
             "#d8576b"
            ],
            [
             0.6666666666666666,
             "#ed7953"
            ],
            [
             0.7777777777777778,
             "#fb9f3a"
            ],
            [
             0.8888888888888888,
             "#fdca26"
            ],
            [
             1,
             "#f0f921"
            ]
           ]
          },
          "colorway": [
           "#636efa",
           "#EF553B",
           "#00cc96",
           "#ab63fa",
           "#FFA15A",
           "#19d3f3",
           "#FF6692",
           "#B6E880",
           "#FF97FF",
           "#FECB52"
          ],
          "font": {
           "color": "#f2f5fa"
          },
          "geo": {
           "bgcolor": "rgb(17,17,17)",
           "lakecolor": "rgb(17,17,17)",
           "landcolor": "rgb(17,17,17)",
           "showlakes": true,
           "showland": true,
           "subunitcolor": "#506784"
          },
          "hoverlabel": {
           "align": "left"
          },
          "hovermode": "closest",
          "mapbox": {
           "style": "dark"
          },
          "paper_bgcolor": "rgb(17,17,17)",
          "plot_bgcolor": "rgb(17,17,17)",
          "polar": {
           "angularaxis": {
            "gridcolor": "#506784",
            "linecolor": "#506784",
            "ticks": ""
           },
           "bgcolor": "rgb(17,17,17)",
           "radialaxis": {
            "gridcolor": "#506784",
            "linecolor": "#506784",
            "ticks": ""
           }
          },
          "scene": {
           "xaxis": {
            "backgroundcolor": "rgb(17,17,17)",
            "gridcolor": "#506784",
            "gridwidth": 2,
            "linecolor": "#506784",
            "showbackground": true,
            "ticks": "",
            "zerolinecolor": "#C8D4E3"
           },
           "yaxis": {
            "backgroundcolor": "rgb(17,17,17)",
            "gridcolor": "#506784",
            "gridwidth": 2,
            "linecolor": "#506784",
            "showbackground": true,
            "ticks": "",
            "zerolinecolor": "#C8D4E3"
           },
           "zaxis": {
            "backgroundcolor": "rgb(17,17,17)",
            "gridcolor": "#506784",
            "gridwidth": 2,
            "linecolor": "#506784",
            "showbackground": true,
            "ticks": "",
            "zerolinecolor": "#C8D4E3"
           }
          },
          "shapedefaults": {
           "line": {
            "color": "#f2f5fa"
           }
          },
          "sliderdefaults": {
           "bgcolor": "#C8D4E3",
           "bordercolor": "rgb(17,17,17)",
           "borderwidth": 1,
           "tickwidth": 0
          },
          "ternary": {
           "aaxis": {
            "gridcolor": "#506784",
            "linecolor": "#506784",
            "ticks": ""
           },
           "baxis": {
            "gridcolor": "#506784",
            "linecolor": "#506784",
            "ticks": ""
           },
           "bgcolor": "rgb(17,17,17)",
           "caxis": {
            "gridcolor": "#506784",
            "linecolor": "#506784",
            "ticks": ""
           }
          },
          "title": {
           "x": 0.05
          },
          "updatemenudefaults": {
           "bgcolor": "#506784",
           "borderwidth": 0
          },
          "xaxis": {
           "automargin": true,
           "gridcolor": "#283442",
           "linecolor": "#506784",
           "ticks": "",
           "title": {
            "standoff": 15
           },
           "zerolinecolor": "#283442",
           "zerolinewidth": 2
          },
          "yaxis": {
           "automargin": true,
           "gridcolor": "#283442",
           "linecolor": "#506784",
           "ticks": "",
           "title": {
            "standoff": 15
           },
           "zerolinecolor": "#283442",
           "zerolinewidth": 2
          }
         }
        },
        "title": {
         "text": "Графики потерь во время обучения"
        },
        "xaxis": {
         "title": {
          "text": "Эпоха"
         }
        },
        "yaxis": {
         "title": {
          "text": "Среднее значение потерь"
         }
        }
       }
      }
     },
     "metadata": {},
     "output_type": "display_data"
    },
    {
     "name": "stdout",
     "output_type": "stream",
     "text": [
      "\n",
      "=== Диагностика после эпохи 6 ===\n",
      "\n",
      "Пример 1:\n",
      "Предыстория: = = Development = =\n",
      "Сжатый контекст: ###'!#!!!!&$\"#\"\"#\"%\"\"\"\")\"\"'\"#\"'&#\"#)#(\"#\"!##!\"%$!!(%!!\"\"#*$%\"!$!$!\"%#(#'!!\"!\"!$\"#!$!\"#\"&\"!\"'!%$!\"\"#)#!#!$#\"'%!$!\"\"#$\"#-\"#3!&!!&$!$&!###!#!%!!''(\"#!(\"\"\"$\"0$&!%,\"\"#!!%%!\"$!'#\"'&#*!$\"##%$!!$$!!-\"!#\"!#'\"$-\"\"&!%$\"\"1!\"!!\"(#!)/!\"&\"\"\"''$&##!3\"!$!#$)!!%!\"\"!#%%((&#'!!#!$###!!#\"!#$$!!\"\"\"!!#!$(!!*#!$%!)!$(!$!!((\"#!\"'\"\"##!%!\"#$\"#!%$!\"#!!&#$\"$##\"\"!!$#!\"$\"!(#$!&##!!$)\"$!##&#''$)'\"\"$$!!#!\"!\"&&\n",
      "Текущий фрагмент: Concept work for Valkyria Chronicles III began after development finished on Valkyria Chronicles II in early 2010 , with full development beginning shortly after this . The director of Valkyria Chronicles II , Takeshi Ozawa , returned to that role for Valkyria Chronicles III . Development work took approximately one year . After the release of Valkyria Chronicles II , the staff took a look at both the popular response for the game and what they wanted to do next for the series . Like its predece\n",
      "Предсказание по сжатому контексту:  the\n",
      "Предсказание по сырому контексту: \n",
      " \". Development Development = = theectria Chronicles 2. in the of. thealkyria Chronicles II. 2011 2011. and the development on in after the.\n",
      " game of developmentalkyria Chronicles III, Kazhi Kawa, was to the role in thealkyria Chronicles III in\n",
      " of on place two year to\n",
      " the completion of Valkyria Chronicles III, the game of over break at the the game and to the game and the the thought to do with. the game. The the predecessorilevelopased\n",
      "Предсказание по текущему фрагменту: .s is theFXria Chronicles 2: in the of. thealkyria Chronicles II. 2011 2013. and the support on in after the.\n",
      " game of thealkyria Chronicles III, Kazhi Kawa, was to the project in thealkyria Chronicles III in\n",
      " on on place two year to\n",
      " the completion of Valkyria Chronicles III, the game of over break at the the game and to the game and the the thought to do with. the game.\n",
      " the predecessorileceased\n",
      "Целевой текст: The majority of material created for previous games, such as the BLiTZ system and the design of maps, was carried over. Alongside this, improvements were made to the game's graphics and some elements were expanded, such as map layouts, mission structure, and the number of playable units per mission. A part of this upgrade involved creating unique polygon models for each character's body. In order to achieve this, the cooperative elements incorporated into the second game were removed\n",
      "\n",
      "Пример 2:\n",
      "Предыстория: = = Reception = =\n",
      "Сжатый контекст: ###'!#!!!!&$!\"#\"\"#\"%\"#\"\")\"\"'\"#\"'&#\"#)#(\"#\"#$!\"%$!!(%!\"\"\"#*$%!!%\"%!\"%#(\"'!!\"!!\"!$!\"#!$!\"##&\"!\"'!%$\"\"\"#*\"!#!$#\"(%!%!\"\"#$\"$-\"#3!&!!&#!$&!###!#!%!''(#$!)\"##!$\"1$&!%,\"\"#!!!%%!\"$!&#\"'&#+!$\"!##%$!!!$$!!-\"!#\"\"#(\"%-\"\"&!&$\"\"2!!!!\"(#\")/!\"&\"\"\"''$&##!3\"!$$$)!!%!\"\"!$%%()&#'!\"#!$###!!#!!#$$!\"\"\"!!#!$(!!*#$%!)!$(!%!!'(\"$!\"(\"\"##!%!#$$\"#!%$!\"#\"!'$$\"$##\"\"!!$#!\"$\"!(\"%\"&$#!!%*#$!#\"&#''$)'!\"%$!!#\"!\"&!&\n",
      "Текущий фрагмент: On its day of release in Japan , Valkyria Chronicles III topped both platform @-@ exclusive and multi @-@ platform sales charts . By early February , the game sold 102 @,@ 779 units , coming in second overall to The Last Story for the Wii . By the end of the year , the game had sold just over 152 @,@ 500 units .\n",
      "Предсказание по сжатому контексту: ,\n",
      "Предсказание по сырому контексту: \n",
      " \"gex. 0 0 = own = the = the. it =ries Chronicles 2: the charts and 1 and and to @--@ exclusive...\n",
      " comparison September, V game had over,- and and.,, and in at place behind the Legend of. the month U\n",
      " the end of the month, the game sold sold over over 1,,@ 7 units.\n",
      "\n",
      "Предсказание по текущему фрагменту:  the website, action, May, theiacria Chronicles 2: the the and and and and to @--platform exclusive...\n",
      " comparison October, V game had over,- and and.,, and in at place behind the Legend of. the month U\n",
      " the end of the month, V game sold sold over over 1,,@ 7 units.\n",
      "\n",
      "Целевой текст: Famitsu enjoyed the story, and were particularly pleased with the improvements to gameplay. Japanese gaming site Game Watch Impress, despite negatively noting its pacing and elements recycled from previous games, was generally positive about its story and characters, and found its gameplay entertaining despite off @-@ putting difficulty spikes. 4Gamer.net writer Naohiko Misuosame, in a \" Play Test \" article based on the game's PSN demo, felt that Valkyria Chronicles III provided a \" pro\n",
      "\n",
      "Пример 3:\n",
      "Предыстория: On its day of release in Japan , Valkyria Chronicles III topped both platform @-@ exclusive and multi @-@ platform sales charts . By early February , the game sold 102 @,@ 779 units , coming in second overall to The Last Story for the Wii . By the end of the year , the game had sold just over 152 @,@ 500 units .\n",
      "Сжатый контекст: $##)!\"'$##!\"\"\"%\"\"##*\"\")\"##''$\"#)$)$#\"$#!\"%!%!!*&#!\"#,$$\"#%\"&\"#$#)#'!\"!!!!\"%!\"#!#\"$$#!&!!#(!%%\"!\"\"#*\"!#\"%\"#(%!%!###%##.\"#4!'\"&%!%'#\"#\"!#!&!(+(!##!*\"#!#!$\"2#'$.\"\"$!\"%%!\"$!'##&'#,#$!#$&$\"\"%#/!##\"\"(\"%.\"&!&$\"!3!!!!'#)0$'\"\"$('$'#$!6#\"%%$)\"!%\"!\"\"!$%&()&\")!!#\"%##$\"#\"#&%!#\"#!#\"%)\",$%'!*\"$!)!\"&!!()!\"#!!(####!&!\"#$#\"!&#!#$\"!'%$\"%#$\"#!\"%$\"\"$!#\"(#'\"&!$$!\"%+!\"%!##'#'($*(!\"$$!!$!!\"%'\n",
      "Текущий фрагмент: Famitsu enjoyed the story , and were particularly pleased with the improvements to gameplay . Japanese gaming site Game Watch Impress , despite negatively noting its pacing and elements recycled from previous games , was generally positive about its story and characters , and found its gameplay entertaining despite off @-@ putting difficulty spikes . 4Gamer.net writer Naohiko Misuosame , in a \" Play Test \" article based on the game 's PSN demo , felt that Valkyria Chronicles III provided a \" pro\n",
      "Предсказание по сжатому контексту:  the\n",
      "Предсказание по сырому контексту:  the website, action, May, theiacria Chronicles 2: the the and and and and to @--platform exclusive...\n",
      " comparison October, V game had over,- and and.,, and in at place behind the Legend of. the month U\n",
      " the end of the month, V game sold sold over over 1,,@ 7 units.\n",
      "itsu reported a game of and the able impressed with the game made the and\n",
      " publisher magazine FamSpot reportedpressions which its comparing the lack and the, from previous games, praised pleased pleased about the game and the. and was the story to. its--platforming the to.\n",
      "K alsocom, andokiiko Nakakihaki also who a recent positivethrough \" article, on the game, V gameplay Vita release, said that thealkyria Chronicles III was a \" good-\n",
      "Предсказание по текущему фрагменту: .ilies, a opportunity of but the very impressed with the story made the.\n",
      " fans culture KotFAQ haspressions which being reviewing the lack and pacing of from the games, has very pleased about the story and the. and was the story to. its- thetheing the on on\n",
      ". alsocom also andokiiko Kakiokaaki also who a reviewgoodthrough \" article, on the game, The story Vita,, said that thealkyria Chronicles 2 was a good fun-\n",
      "Целевой текст: PlayStation Official Magazine - UK praised the story's blurring of Gallia's moral standing, art style, and most points about its gameplay, positively noting the latter for both its continued quality and the tweaks to balance and content. Its one major criticism were multiple difficulty spikes, something that had affected the previous games. Heath Hindman of gaming website PlayStation Lifestyle praised the addition of non @-@ linear elements and improvements or removal of mechanics from V\n",
      "Epoch 7, Avg Compressed Context Loss: 0.4099, Avg Compression Ratio: 0.5062, Avg Divergence: 0.2414\n"
     ]
    },
    {
     "data": {
      "application/vnd.plotly.v1+json": {
       "config": {
        "plotlyServerURL": "https://plot.ly"
       },
       "data": [
        {
         "mode": "lines+markers",
         "name": "Raw Context Loss",
         "type": "scatter",
         "uid": "62414bf8-573b-447b-a691-bbd6e208413f",
         "x": [
          1,
          2,
          3,
          4,
          5,
          6,
          7
         ],
         "y": [
          0.2385900616645813,
          0.2385900616645813,
          0.2385900616645813,
          0.2385900616645813,
          0.2385900616645813,
          0.2385900616645813,
          0.2385900616645813
         ]
        },
        {
         "mode": "lines+markers",
         "name": "Compressed Context Loss",
         "type": "scatter",
         "uid": "124ccac1-04d6-40ec-82ca-fbb5fb4bdc2d",
         "x": [
          1,
          2,
          3,
          4,
          5,
          6,
          7
         ],
         "y": [
          0.9561335407386576,
          0.6978844448848425,
          0.6261446594738113,
          0.5742885279020077,
          0.47793081811236854,
          0.4354808383484177,
          0.40989790656391134
         ]
        },
        {
         "mode": "lines+markers",
         "name": "Fragment Only Loss",
         "type": "scatter",
         "uid": "9f5922f1-e3c0-4a25-87b5-516383ffb417",
         "x": [
          1,
          2,
          3,
          4,
          5,
          6,
          7
         ],
         "y": [
          0.27232280373573303,
          0.27232280373573303,
          0.27232280373573303,
          0.27232280373573303,
          0.27232280373573303,
          0.27232280373573303,
          0.27232280373573303
         ]
        }
       ],
       "layout": {
        "template": {
         "data": {
          "bar": [
           {
            "error_x": {
             "color": "#f2f5fa"
            },
            "error_y": {
             "color": "#f2f5fa"
            },
            "marker": {
             "line": {
              "color": "rgb(17,17,17)",
              "width": 0.5
             },
             "pattern": {
              "fillmode": "overlay",
              "size": 10,
              "solidity": 0.2
             }
            },
            "type": "bar"
           }
          ],
          "barpolar": [
           {
            "marker": {
             "line": {
              "color": "rgb(17,17,17)",
              "width": 0.5
             },
             "pattern": {
              "fillmode": "overlay",
              "size": 10,
              "solidity": 0.2
             }
            },
            "type": "barpolar"
           }
          ],
          "carpet": [
           {
            "aaxis": {
             "endlinecolor": "#A2B1C6",
             "gridcolor": "#506784",
             "linecolor": "#506784",
             "minorgridcolor": "#506784",
             "startlinecolor": "#A2B1C6"
            },
            "baxis": {
             "endlinecolor": "#A2B1C6",
             "gridcolor": "#506784",
             "linecolor": "#506784",
             "minorgridcolor": "#506784",
             "startlinecolor": "#A2B1C6"
            },
            "type": "carpet"
           }
          ],
          "choropleth": [
           {
            "colorbar": {
             "outlinewidth": 0,
             "ticks": ""
            },
            "type": "choropleth"
           }
          ],
          "contour": [
           {
            "colorbar": {
             "outlinewidth": 0,
             "ticks": ""
            },
            "colorscale": [
             [
              0,
              "#0d0887"
             ],
             [
              0.1111111111111111,
              "#46039f"
             ],
             [
              0.2222222222222222,
              "#7201a8"
             ],
             [
              0.3333333333333333,
              "#9c179e"
             ],
             [
              0.4444444444444444,
              "#bd3786"
             ],
             [
              0.5555555555555556,
              "#d8576b"
             ],
             [
              0.6666666666666666,
              "#ed7953"
             ],
             [
              0.7777777777777778,
              "#fb9f3a"
             ],
             [
              0.8888888888888888,
              "#fdca26"
             ],
             [
              1,
              "#f0f921"
             ]
            ],
            "type": "contour"
           }
          ],
          "contourcarpet": [
           {
            "colorbar": {
             "outlinewidth": 0,
             "ticks": ""
            },
            "type": "contourcarpet"
           }
          ],
          "heatmap": [
           {
            "colorbar": {
             "outlinewidth": 0,
             "ticks": ""
            },
            "colorscale": [
             [
              0,
              "#0d0887"
             ],
             [
              0.1111111111111111,
              "#46039f"
             ],
             [
              0.2222222222222222,
              "#7201a8"
             ],
             [
              0.3333333333333333,
              "#9c179e"
             ],
             [
              0.4444444444444444,
              "#bd3786"
             ],
             [
              0.5555555555555556,
              "#d8576b"
             ],
             [
              0.6666666666666666,
              "#ed7953"
             ],
             [
              0.7777777777777778,
              "#fb9f3a"
             ],
             [
              0.8888888888888888,
              "#fdca26"
             ],
             [
              1,
              "#f0f921"
             ]
            ],
            "type": "heatmap"
           }
          ],
          "heatmapgl": [
           {
            "colorbar": {
             "outlinewidth": 0,
             "ticks": ""
            },
            "colorscale": [
             [
              0,
              "#0d0887"
             ],
             [
              0.1111111111111111,
              "#46039f"
             ],
             [
              0.2222222222222222,
              "#7201a8"
             ],
             [
              0.3333333333333333,
              "#9c179e"
             ],
             [
              0.4444444444444444,
              "#bd3786"
             ],
             [
              0.5555555555555556,
              "#d8576b"
             ],
             [
              0.6666666666666666,
              "#ed7953"
             ],
             [
              0.7777777777777778,
              "#fb9f3a"
             ],
             [
              0.8888888888888888,
              "#fdca26"
             ],
             [
              1,
              "#f0f921"
             ]
            ],
            "type": "heatmapgl"
           }
          ],
          "histogram": [
           {
            "marker": {
             "pattern": {
              "fillmode": "overlay",
              "size": 10,
              "solidity": 0.2
             }
            },
            "type": "histogram"
           }
          ],
          "histogram2d": [
           {
            "colorbar": {
             "outlinewidth": 0,
             "ticks": ""
            },
            "colorscale": [
             [
              0,
              "#0d0887"
             ],
             [
              0.1111111111111111,
              "#46039f"
             ],
             [
              0.2222222222222222,
              "#7201a8"
             ],
             [
              0.3333333333333333,
              "#9c179e"
             ],
             [
              0.4444444444444444,
              "#bd3786"
             ],
             [
              0.5555555555555556,
              "#d8576b"
             ],
             [
              0.6666666666666666,
              "#ed7953"
             ],
             [
              0.7777777777777778,
              "#fb9f3a"
             ],
             [
              0.8888888888888888,
              "#fdca26"
             ],
             [
              1,
              "#f0f921"
             ]
            ],
            "type": "histogram2d"
           }
          ],
          "histogram2dcontour": [
           {
            "colorbar": {
             "outlinewidth": 0,
             "ticks": ""
            },
            "colorscale": [
             [
              0,
              "#0d0887"
             ],
             [
              0.1111111111111111,
              "#46039f"
             ],
             [
              0.2222222222222222,
              "#7201a8"
             ],
             [
              0.3333333333333333,
              "#9c179e"
             ],
             [
              0.4444444444444444,
              "#bd3786"
             ],
             [
              0.5555555555555556,
              "#d8576b"
             ],
             [
              0.6666666666666666,
              "#ed7953"
             ],
             [
              0.7777777777777778,
              "#fb9f3a"
             ],
             [
              0.8888888888888888,
              "#fdca26"
             ],
             [
              1,
              "#f0f921"
             ]
            ],
            "type": "histogram2dcontour"
           }
          ],
          "mesh3d": [
           {
            "colorbar": {
             "outlinewidth": 0,
             "ticks": ""
            },
            "type": "mesh3d"
           }
          ],
          "parcoords": [
           {
            "line": {
             "colorbar": {
              "outlinewidth": 0,
              "ticks": ""
             }
            },
            "type": "parcoords"
           }
          ],
          "pie": [
           {
            "automargin": true,
            "type": "pie"
           }
          ],
          "scatter": [
           {
            "marker": {
             "line": {
              "color": "#283442"
             }
            },
            "type": "scatter"
           }
          ],
          "scatter3d": [
           {
            "line": {
             "colorbar": {
              "outlinewidth": 0,
              "ticks": ""
             }
            },
            "marker": {
             "colorbar": {
              "outlinewidth": 0,
              "ticks": ""
             }
            },
            "type": "scatter3d"
           }
          ],
          "scattercarpet": [
           {
            "marker": {
             "colorbar": {
              "outlinewidth": 0,
              "ticks": ""
             }
            },
            "type": "scattercarpet"
           }
          ],
          "scattergeo": [
           {
            "marker": {
             "colorbar": {
              "outlinewidth": 0,
              "ticks": ""
             }
            },
            "type": "scattergeo"
           }
          ],
          "scattergl": [
           {
            "marker": {
             "line": {
              "color": "#283442"
             }
            },
            "type": "scattergl"
           }
          ],
          "scattermapbox": [
           {
            "marker": {
             "colorbar": {
              "outlinewidth": 0,
              "ticks": ""
             }
            },
            "type": "scattermapbox"
           }
          ],
          "scatterpolar": [
           {
            "marker": {
             "colorbar": {
              "outlinewidth": 0,
              "ticks": ""
             }
            },
            "type": "scatterpolar"
           }
          ],
          "scatterpolargl": [
           {
            "marker": {
             "colorbar": {
              "outlinewidth": 0,
              "ticks": ""
             }
            },
            "type": "scatterpolargl"
           }
          ],
          "scatterternary": [
           {
            "marker": {
             "colorbar": {
              "outlinewidth": 0,
              "ticks": ""
             }
            },
            "type": "scatterternary"
           }
          ],
          "surface": [
           {
            "colorbar": {
             "outlinewidth": 0,
             "ticks": ""
            },
            "colorscale": [
             [
              0,
              "#0d0887"
             ],
             [
              0.1111111111111111,
              "#46039f"
             ],
             [
              0.2222222222222222,
              "#7201a8"
             ],
             [
              0.3333333333333333,
              "#9c179e"
             ],
             [
              0.4444444444444444,
              "#bd3786"
             ],
             [
              0.5555555555555556,
              "#d8576b"
             ],
             [
              0.6666666666666666,
              "#ed7953"
             ],
             [
              0.7777777777777778,
              "#fb9f3a"
             ],
             [
              0.8888888888888888,
              "#fdca26"
             ],
             [
              1,
              "#f0f921"
             ]
            ],
            "type": "surface"
           }
          ],
          "table": [
           {
            "cells": {
             "fill": {
              "color": "#506784"
             },
             "line": {
              "color": "rgb(17,17,17)"
             }
            },
            "header": {
             "fill": {
              "color": "#2a3f5f"
             },
             "line": {
              "color": "rgb(17,17,17)"
             }
            },
            "type": "table"
           }
          ]
         },
         "layout": {
          "annotationdefaults": {
           "arrowcolor": "#f2f5fa",
           "arrowhead": 0,
           "arrowwidth": 1
          },
          "autotypenumbers": "strict",
          "coloraxis": {
           "colorbar": {
            "outlinewidth": 0,
            "ticks": ""
           }
          },
          "colorscale": {
           "diverging": [
            [
             0,
             "#8e0152"
            ],
            [
             0.1,
             "#c51b7d"
            ],
            [
             0.2,
             "#de77ae"
            ],
            [
             0.3,
             "#f1b6da"
            ],
            [
             0.4,
             "#fde0ef"
            ],
            [
             0.5,
             "#f7f7f7"
            ],
            [
             0.6,
             "#e6f5d0"
            ],
            [
             0.7,
             "#b8e186"
            ],
            [
             0.8,
             "#7fbc41"
            ],
            [
             0.9,
             "#4d9221"
            ],
            [
             1,
             "#276419"
            ]
           ],
           "sequential": [
            [
             0,
             "#0d0887"
            ],
            [
             0.1111111111111111,
             "#46039f"
            ],
            [
             0.2222222222222222,
             "#7201a8"
            ],
            [
             0.3333333333333333,
             "#9c179e"
            ],
            [
             0.4444444444444444,
             "#bd3786"
            ],
            [
             0.5555555555555556,
             "#d8576b"
            ],
            [
             0.6666666666666666,
             "#ed7953"
            ],
            [
             0.7777777777777778,
             "#fb9f3a"
            ],
            [
             0.8888888888888888,
             "#fdca26"
            ],
            [
             1,
             "#f0f921"
            ]
           ],
           "sequentialminus": [
            [
             0,
             "#0d0887"
            ],
            [
             0.1111111111111111,
             "#46039f"
            ],
            [
             0.2222222222222222,
             "#7201a8"
            ],
            [
             0.3333333333333333,
             "#9c179e"
            ],
            [
             0.4444444444444444,
             "#bd3786"
            ],
            [
             0.5555555555555556,
             "#d8576b"
            ],
            [
             0.6666666666666666,
             "#ed7953"
            ],
            [
             0.7777777777777778,
             "#fb9f3a"
            ],
            [
             0.8888888888888888,
             "#fdca26"
            ],
            [
             1,
             "#f0f921"
            ]
           ]
          },
          "colorway": [
           "#636efa",
           "#EF553B",
           "#00cc96",
           "#ab63fa",
           "#FFA15A",
           "#19d3f3",
           "#FF6692",
           "#B6E880",
           "#FF97FF",
           "#FECB52"
          ],
          "font": {
           "color": "#f2f5fa"
          },
          "geo": {
           "bgcolor": "rgb(17,17,17)",
           "lakecolor": "rgb(17,17,17)",
           "landcolor": "rgb(17,17,17)",
           "showlakes": true,
           "showland": true,
           "subunitcolor": "#506784"
          },
          "hoverlabel": {
           "align": "left"
          },
          "hovermode": "closest",
          "mapbox": {
           "style": "dark"
          },
          "paper_bgcolor": "rgb(17,17,17)",
          "plot_bgcolor": "rgb(17,17,17)",
          "polar": {
           "angularaxis": {
            "gridcolor": "#506784",
            "linecolor": "#506784",
            "ticks": ""
           },
           "bgcolor": "rgb(17,17,17)",
           "radialaxis": {
            "gridcolor": "#506784",
            "linecolor": "#506784",
            "ticks": ""
           }
          },
          "scene": {
           "xaxis": {
            "backgroundcolor": "rgb(17,17,17)",
            "gridcolor": "#506784",
            "gridwidth": 2,
            "linecolor": "#506784",
            "showbackground": true,
            "ticks": "",
            "zerolinecolor": "#C8D4E3"
           },
           "yaxis": {
            "backgroundcolor": "rgb(17,17,17)",
            "gridcolor": "#506784",
            "gridwidth": 2,
            "linecolor": "#506784",
            "showbackground": true,
            "ticks": "",
            "zerolinecolor": "#C8D4E3"
           },
           "zaxis": {
            "backgroundcolor": "rgb(17,17,17)",
            "gridcolor": "#506784",
            "gridwidth": 2,
            "linecolor": "#506784",
            "showbackground": true,
            "ticks": "",
            "zerolinecolor": "#C8D4E3"
           }
          },
          "shapedefaults": {
           "line": {
            "color": "#f2f5fa"
           }
          },
          "sliderdefaults": {
           "bgcolor": "#C8D4E3",
           "bordercolor": "rgb(17,17,17)",
           "borderwidth": 1,
           "tickwidth": 0
          },
          "ternary": {
           "aaxis": {
            "gridcolor": "#506784",
            "linecolor": "#506784",
            "ticks": ""
           },
           "baxis": {
            "gridcolor": "#506784",
            "linecolor": "#506784",
            "ticks": ""
           },
           "bgcolor": "rgb(17,17,17)",
           "caxis": {
            "gridcolor": "#506784",
            "linecolor": "#506784",
            "ticks": ""
           }
          },
          "title": {
           "x": 0.05
          },
          "updatemenudefaults": {
           "bgcolor": "#506784",
           "borderwidth": 0
          },
          "xaxis": {
           "automargin": true,
           "gridcolor": "#283442",
           "linecolor": "#506784",
           "ticks": "",
           "title": {
            "standoff": 15
           },
           "zerolinecolor": "#283442",
           "zerolinewidth": 2
          },
          "yaxis": {
           "automargin": true,
           "gridcolor": "#283442",
           "linecolor": "#506784",
           "ticks": "",
           "title": {
            "standoff": 15
           },
           "zerolinecolor": "#283442",
           "zerolinewidth": 2
          }
         }
        },
        "title": {
         "text": "Графики потерь во время обучения"
        },
        "xaxis": {
         "title": {
          "text": "Эпоха"
         }
        },
        "yaxis": {
         "title": {
          "text": "Среднее значение потерь"
         }
        }
       }
      }
     },
     "metadata": {},
     "output_type": "display_data"
    },
    {
     "name": "stdout",
     "output_type": "stream",
     "text": [
      "\n",
      "=== Диагностика после эпохи 7 ===\n",
      "\n",
      "Пример 1:\n",
      "Предыстория: = = Development = =\n",
      "Сжатый контекст: ###'!#!!&$!\"\"\"\"#\"%#\"!\"(!!'\"#\"'&#!#(#(##\"!##!!\"%$!!'%\"!\"\"#*#!%!\"%!$!\"$#'#&!!!!!\"!$\"#!$!\"##%\"\"\"'!%$!\"\"#)#!\"!##\"'%!$\"#%\"#-\"$3!&!!%$!!$'!$##!#%!'&(##(\"##$\"0$%!%+!!#!!&%!\"$!&#\"&&#*!$\"!\"#%$!!!$#!-\"!##!$&\"$-\"\"!%!&$\"\"1\"!(#\")/!!&\"#\"('#&#$!3\"\"$$$(!!%!\"\"!#%%()'#'!#\"%#!##!!\"\"!\"#$$#\"!!#!$(!)#!#%!(!$(\"%!'(\"#\"\"(!\"##%!##$!#!$#!\"#!&$$\"$##\"\"!#\"!!\"!#\"!(#%\"%#\"\"$)!#%!##&\"''$)'!\"$$!!#!\"!\"%&\n",
      "Текущий фрагмент: Concept work for Valkyria Chronicles III began after development finished on Valkyria Chronicles II in early 2010 , with full development beginning shortly after this . The director of Valkyria Chronicles II , Takeshi Ozawa , returned to that role for Valkyria Chronicles III . Development work took approximately one year . After the release of Valkyria Chronicles II , the staff took a look at both the popular response for the game and what they wanted to do next for the series . Like its predece\n",
      "Предсказание по сжатому контексту:  the\n",
      "Предсказание по сырому контексту: \n",
      " \". Development Development = = theectria Chronicles 2. in the of. thealkyria Chronicles II. 2011 2011. and the development on in after the.\n",
      " game of developmentalkyria Chronicles III, Kazhi Kawa, was to the role in thealkyria Chronicles III in\n",
      " of on place two year to\n",
      " the completion of Valkyria Chronicles III, the game of over break at the the game and to the game and the the thought to do with. the game. The the predecessorilevelopased\n",
      "Предсказание по текущему фрагменту: .s is theFXria Chronicles 2: in the of. thealkyria Chronicles II. 2011 2013. and the support on in after the.\n",
      " game of thealkyria Chronicles III, Kazhi Kawa, was to the project in thealkyria Chronicles III in\n",
      " on on place two year to\n",
      " the completion of Valkyria Chronicles III, the game of over break at the the game and to the game and the the thought to do with. the game.\n",
      " the predecessorileceased\n",
      "Целевой текст: The majority of material created for previous games, such as the BLiTZ system and the design of maps, was carried over. Alongside this, improvements were made to the game's graphics and some elements were expanded, such as map layouts, mission structure, and the number of playable units per mission. A part of this upgrade involved creating unique polygon models for each character's body. In order to achieve this, the cooperative elements incorporated into the second game were removed\n",
      "\n",
      "Пример 2:\n",
      "Предыстория: = = Reception = =\n",
      "Сжатый контекст: ##!#'!$!!!&$!\"\"\"\"#\"%#\"!\")\"!'\"#\"'&#!#(#)###!##!!\"%$!!(&\"!\"\"#+$!%!!%!%!\"%#(#'!\"!!\"!%\"#!$!\"##%\"\"!\"'!&$!\"\"$*#!#!$#\"(%%\"#%\"#-\"$4!&!!&$!!$'!$##!#%!''(##!(\"#\"$\"1$&!%,!!#!!&%!\"$!&$\"&&#+!$\"\"#%$!!!$#!!-\"#\"!$&\"%-\"\"&!&$#\"2!!!(#\")0!!&\"#\"('#&#$!4\"\"$$$)!!%!\"\"\"$%%()'#'!#!%###!!\"\"!\"#$%#\"\"!!#!$(!)#!#%!)!$(\"%!!'(!$!\"(!\"#$!%##%\"#!$#!\"$!!&$$\"$##\"\"\"$\"!!\"#\"!(#%\"%#\"\"$*#%!##&\"('$)'!\"$$!!#!\"!\"&!&\n",
      "Текущий фрагмент: On its day of release in Japan , Valkyria Chronicles III topped both platform @-@ exclusive and multi @-@ platform sales charts . By early February , the game sold 102 @,@ 779 units , coming in second overall to The Last Story for the Wii . By the end of the year , the game had sold just over 152 @,@ 500 units .\n",
      "Предсказание по сжатому контексту: ,\n",
      "Предсказание по сырому контексту: \n",
      " \"gex. 0 0 = own = the = the. it =ries Chronicles 2: the charts and 1 and and to @--@ exclusive...\n",
      " comparison September, V game had over,- and and.,, and in at place behind the Legend of. the month U\n",
      " the end of the month, the game sold sold over over 1,,@ 7 units.\n",
      "\n",
      "Предсказание по текущему фрагменту:  the website, action, May, theiacria Chronicles 2: the the and and and and to @--platform exclusive...\n",
      " comparison October, V game had over,- and and.,, and in at place behind the Legend of. the month U\n",
      " the end of the month, V game sold sold over over 1,,@ 7 units.\n",
      "\n",
      "Целевой текст: Famitsu enjoyed the story, and were particularly pleased with the improvements to gameplay. Japanese gaming site Game Watch Impress, despite negatively noting its pacing and elements recycled from previous games, was generally positive about its story and characters, and found its gameplay entertaining despite off @-@ putting difficulty spikes. 4Gamer.net writer Naohiko Misuosame, in a \" Play Test \" article based on the game's PSN demo, felt that Valkyria Chronicles III provided a \" pro\n",
      "\n",
      "Пример 3:\n",
      "Предыстория: On its day of release in Japan , Valkyria Chronicles III topped both platform @-@ exclusive and multi @-@ platform sales charts . By early February , the game sold 102 @,@ 779 units , coming in second overall to The Last Story for the Wii . By the end of the year , the game had sold just over 152 @,@ 500 units .\n",
      "Сжатый контекст: ###(!\"&$!#\"\"\"\"\"%#!\"#)\"\"(\"$#''$!#(#(##\"!$#!\"$!%!!)%!\"!\"$+$$!#%\"&!#$!\"(#'!\"!!\"!\"%!\"#!#!$$#!%!\"#'!%$!!\"\"#)\"\"\"!$!#'%%!#!\"&##-\"$4!&\"$%!$'\"##\"!#!&!()(##!(!$#!$\"0$&#,!\"#!!!&$!\"#!&##%'\"+\"$!\"$&#\"\"%#.!!##!\"&\"%.!!&!&$#!2!!&#!)0#'\"\"$)&$&#$!5#\"%%#(!%!!\"\"!$%%')&\")#\"%#$$\"#\"!#%%!#\"\"\"#\"%!(!*#$'!(!$!)\"$%!')!!#!\"(\"##$!%!\"\"$\"\"!&#!#$!!&%#\"%##\"#\"%#\"!#!#\"!(#'\"&##!\"$+!\"&!##&\"''$*'!\"#$!!#!!!\"$&\n",
      "Текущий фрагмент: Famitsu enjoyed the story , and were particularly pleased with the improvements to gameplay . Japanese gaming site Game Watch Impress , despite negatively noting its pacing and elements recycled from previous games , was generally positive about its story and characters , and found its gameplay entertaining despite off @-@ putting difficulty spikes . 4Gamer.net writer Naohiko Misuosame , in a \" Play Test \" article based on the game 's PSN demo , felt that Valkyria Chronicles III provided a \" pro\n",
      "Предсказание по сжатому контексту:  the\n",
      "Предсказание по сырому контексту:  the website, action, May, theiacria Chronicles 2: the the and and and and to @--platform exclusive...\n",
      " comparison October, V game had over,- and and.,, and in at place behind the Legend of. the month U\n",
      " the end of the month, V game sold sold over over 1,,@ 7 units.\n",
      "itsu reported a game of and the able impressed with the game made the and\n",
      " publisher magazine FamSpot reportedpressions which its comparing the lack and the, from previous games, praised pleased pleased about the game and the. and was the story to. its--platforming the to.\n",
      "K alsocom, andokiiko Nakakihaki also who a recent positivethrough \" article, on the game, V gameplay Vita release, said that thealkyria Chronicles III was a \" good-\n",
      "Предсказание по текущему фрагменту: .ilies, a opportunity of but the very impressed with the story made the.\n",
      " fans culture KotFAQ haspressions which being reviewing the lack and pacing of from the games, has very pleased about the story and the. and was the story to. its- thetheing the on on\n",
      ". alsocom also andokiiko Kakiokaaki also who a reviewgoodthrough \" article, on the game, The story Vita,, said that thealkyria Chronicles 2 was a good fun-\n",
      "Целевой текст: PlayStation Official Magazine - UK praised the story's blurring of Gallia's moral standing, art style, and most points about its gameplay, positively noting the latter for both its continued quality and the tweaks to balance and content. Its one major criticism were multiple difficulty spikes, something that had affected the previous games. Heath Hindman of gaming website PlayStation Lifestyle praised the addition of non @-@ linear elements and improvements or removal of mechanics from V\n",
      "Epoch 8, Avg Compressed Context Loss: 0.3748, Avg Compression Ratio: 0.5065, Avg Divergence: 0.2155\n"
     ]
    },
    {
     "data": {
      "application/vnd.plotly.v1+json": {
       "config": {
        "plotlyServerURL": "https://plot.ly"
       },
       "data": [
        {
         "mode": "lines+markers",
         "name": "Raw Context Loss",
         "type": "scatter",
         "uid": "62414bf8-573b-447b-a691-bbd6e208413f",
         "x": [
          1,
          2,
          3,
          4,
          5,
          6,
          7,
          8
         ],
         "y": [
          0.2385900616645813,
          0.2385900616645813,
          0.2385900616645813,
          0.2385900616645813,
          0.2385900616645813,
          0.2385900616645813,
          0.2385900616645813,
          0.2385900616645813
         ]
        },
        {
         "mode": "lines+markers",
         "name": "Compressed Context Loss",
         "type": "scatter",
         "uid": "124ccac1-04d6-40ec-82ca-fbb5fb4bdc2d",
         "x": [
          1,
          2,
          3,
          4,
          5,
          6,
          7,
          8
         ],
         "y": [
          0.9561335407386576,
          0.6978844448848425,
          0.6261446594738113,
          0.5742885279020077,
          0.47793081811236854,
          0.4354808383484177,
          0.40989790656391134,
          0.3748288928025265
         ]
        },
        {
         "mode": "lines+markers",
         "name": "Fragment Only Loss",
         "type": "scatter",
         "uid": "9f5922f1-e3c0-4a25-87b5-516383ffb417",
         "x": [
          1,
          2,
          3,
          4,
          5,
          6,
          7,
          8
         ],
         "y": [
          0.27232280373573303,
          0.27232280373573303,
          0.27232280373573303,
          0.27232280373573303,
          0.27232280373573303,
          0.27232280373573303,
          0.27232280373573303,
          0.27232280373573303
         ]
        }
       ],
       "layout": {
        "template": {
         "data": {
          "bar": [
           {
            "error_x": {
             "color": "#f2f5fa"
            },
            "error_y": {
             "color": "#f2f5fa"
            },
            "marker": {
             "line": {
              "color": "rgb(17,17,17)",
              "width": 0.5
             },
             "pattern": {
              "fillmode": "overlay",
              "size": 10,
              "solidity": 0.2
             }
            },
            "type": "bar"
           }
          ],
          "barpolar": [
           {
            "marker": {
             "line": {
              "color": "rgb(17,17,17)",
              "width": 0.5
             },
             "pattern": {
              "fillmode": "overlay",
              "size": 10,
              "solidity": 0.2
             }
            },
            "type": "barpolar"
           }
          ],
          "carpet": [
           {
            "aaxis": {
             "endlinecolor": "#A2B1C6",
             "gridcolor": "#506784",
             "linecolor": "#506784",
             "minorgridcolor": "#506784",
             "startlinecolor": "#A2B1C6"
            },
            "baxis": {
             "endlinecolor": "#A2B1C6",
             "gridcolor": "#506784",
             "linecolor": "#506784",
             "minorgridcolor": "#506784",
             "startlinecolor": "#A2B1C6"
            },
            "type": "carpet"
           }
          ],
          "choropleth": [
           {
            "colorbar": {
             "outlinewidth": 0,
             "ticks": ""
            },
            "type": "choropleth"
           }
          ],
          "contour": [
           {
            "colorbar": {
             "outlinewidth": 0,
             "ticks": ""
            },
            "colorscale": [
             [
              0,
              "#0d0887"
             ],
             [
              0.1111111111111111,
              "#46039f"
             ],
             [
              0.2222222222222222,
              "#7201a8"
             ],
             [
              0.3333333333333333,
              "#9c179e"
             ],
             [
              0.4444444444444444,
              "#bd3786"
             ],
             [
              0.5555555555555556,
              "#d8576b"
             ],
             [
              0.6666666666666666,
              "#ed7953"
             ],
             [
              0.7777777777777778,
              "#fb9f3a"
             ],
             [
              0.8888888888888888,
              "#fdca26"
             ],
             [
              1,
              "#f0f921"
             ]
            ],
            "type": "contour"
           }
          ],
          "contourcarpet": [
           {
            "colorbar": {
             "outlinewidth": 0,
             "ticks": ""
            },
            "type": "contourcarpet"
           }
          ],
          "heatmap": [
           {
            "colorbar": {
             "outlinewidth": 0,
             "ticks": ""
            },
            "colorscale": [
             [
              0,
              "#0d0887"
             ],
             [
              0.1111111111111111,
              "#46039f"
             ],
             [
              0.2222222222222222,
              "#7201a8"
             ],
             [
              0.3333333333333333,
              "#9c179e"
             ],
             [
              0.4444444444444444,
              "#bd3786"
             ],
             [
              0.5555555555555556,
              "#d8576b"
             ],
             [
              0.6666666666666666,
              "#ed7953"
             ],
             [
              0.7777777777777778,
              "#fb9f3a"
             ],
             [
              0.8888888888888888,
              "#fdca26"
             ],
             [
              1,
              "#f0f921"
             ]
            ],
            "type": "heatmap"
           }
          ],
          "heatmapgl": [
           {
            "colorbar": {
             "outlinewidth": 0,
             "ticks": ""
            },
            "colorscale": [
             [
              0,
              "#0d0887"
             ],
             [
              0.1111111111111111,
              "#46039f"
             ],
             [
              0.2222222222222222,
              "#7201a8"
             ],
             [
              0.3333333333333333,
              "#9c179e"
             ],
             [
              0.4444444444444444,
              "#bd3786"
             ],
             [
              0.5555555555555556,
              "#d8576b"
             ],
             [
              0.6666666666666666,
              "#ed7953"
             ],
             [
              0.7777777777777778,
              "#fb9f3a"
             ],
             [
              0.8888888888888888,
              "#fdca26"
             ],
             [
              1,
              "#f0f921"
             ]
            ],
            "type": "heatmapgl"
           }
          ],
          "histogram": [
           {
            "marker": {
             "pattern": {
              "fillmode": "overlay",
              "size": 10,
              "solidity": 0.2
             }
            },
            "type": "histogram"
           }
          ],
          "histogram2d": [
           {
            "colorbar": {
             "outlinewidth": 0,
             "ticks": ""
            },
            "colorscale": [
             [
              0,
              "#0d0887"
             ],
             [
              0.1111111111111111,
              "#46039f"
             ],
             [
              0.2222222222222222,
              "#7201a8"
             ],
             [
              0.3333333333333333,
              "#9c179e"
             ],
             [
              0.4444444444444444,
              "#bd3786"
             ],
             [
              0.5555555555555556,
              "#d8576b"
             ],
             [
              0.6666666666666666,
              "#ed7953"
             ],
             [
              0.7777777777777778,
              "#fb9f3a"
             ],
             [
              0.8888888888888888,
              "#fdca26"
             ],
             [
              1,
              "#f0f921"
             ]
            ],
            "type": "histogram2d"
           }
          ],
          "histogram2dcontour": [
           {
            "colorbar": {
             "outlinewidth": 0,
             "ticks": ""
            },
            "colorscale": [
             [
              0,
              "#0d0887"
             ],
             [
              0.1111111111111111,
              "#46039f"
             ],
             [
              0.2222222222222222,
              "#7201a8"
             ],
             [
              0.3333333333333333,
              "#9c179e"
             ],
             [
              0.4444444444444444,
              "#bd3786"
             ],
             [
              0.5555555555555556,
              "#d8576b"
             ],
             [
              0.6666666666666666,
              "#ed7953"
             ],
             [
              0.7777777777777778,
              "#fb9f3a"
             ],
             [
              0.8888888888888888,
              "#fdca26"
             ],
             [
              1,
              "#f0f921"
             ]
            ],
            "type": "histogram2dcontour"
           }
          ],
          "mesh3d": [
           {
            "colorbar": {
             "outlinewidth": 0,
             "ticks": ""
            },
            "type": "mesh3d"
           }
          ],
          "parcoords": [
           {
            "line": {
             "colorbar": {
              "outlinewidth": 0,
              "ticks": ""
             }
            },
            "type": "parcoords"
           }
          ],
          "pie": [
           {
            "automargin": true,
            "type": "pie"
           }
          ],
          "scatter": [
           {
            "marker": {
             "line": {
              "color": "#283442"
             }
            },
            "type": "scatter"
           }
          ],
          "scatter3d": [
           {
            "line": {
             "colorbar": {
              "outlinewidth": 0,
              "ticks": ""
             }
            },
            "marker": {
             "colorbar": {
              "outlinewidth": 0,
              "ticks": ""
             }
            },
            "type": "scatter3d"
           }
          ],
          "scattercarpet": [
           {
            "marker": {
             "colorbar": {
              "outlinewidth": 0,
              "ticks": ""
             }
            },
            "type": "scattercarpet"
           }
          ],
          "scattergeo": [
           {
            "marker": {
             "colorbar": {
              "outlinewidth": 0,
              "ticks": ""
             }
            },
            "type": "scattergeo"
           }
          ],
          "scattergl": [
           {
            "marker": {
             "line": {
              "color": "#283442"
             }
            },
            "type": "scattergl"
           }
          ],
          "scattermapbox": [
           {
            "marker": {
             "colorbar": {
              "outlinewidth": 0,
              "ticks": ""
             }
            },
            "type": "scattermapbox"
           }
          ],
          "scatterpolar": [
           {
            "marker": {
             "colorbar": {
              "outlinewidth": 0,
              "ticks": ""
             }
            },
            "type": "scatterpolar"
           }
          ],
          "scatterpolargl": [
           {
            "marker": {
             "colorbar": {
              "outlinewidth": 0,
              "ticks": ""
             }
            },
            "type": "scatterpolargl"
           }
          ],
          "scatterternary": [
           {
            "marker": {
             "colorbar": {
              "outlinewidth": 0,
              "ticks": ""
             }
            },
            "type": "scatterternary"
           }
          ],
          "surface": [
           {
            "colorbar": {
             "outlinewidth": 0,
             "ticks": ""
            },
            "colorscale": [
             [
              0,
              "#0d0887"
             ],
             [
              0.1111111111111111,
              "#46039f"
             ],
             [
              0.2222222222222222,
              "#7201a8"
             ],
             [
              0.3333333333333333,
              "#9c179e"
             ],
             [
              0.4444444444444444,
              "#bd3786"
             ],
             [
              0.5555555555555556,
              "#d8576b"
             ],
             [
              0.6666666666666666,
              "#ed7953"
             ],
             [
              0.7777777777777778,
              "#fb9f3a"
             ],
             [
              0.8888888888888888,
              "#fdca26"
             ],
             [
              1,
              "#f0f921"
             ]
            ],
            "type": "surface"
           }
          ],
          "table": [
           {
            "cells": {
             "fill": {
              "color": "#506784"
             },
             "line": {
              "color": "rgb(17,17,17)"
             }
            },
            "header": {
             "fill": {
              "color": "#2a3f5f"
             },
             "line": {
              "color": "rgb(17,17,17)"
             }
            },
            "type": "table"
           }
          ]
         },
         "layout": {
          "annotationdefaults": {
           "arrowcolor": "#f2f5fa",
           "arrowhead": 0,
           "arrowwidth": 1
          },
          "autotypenumbers": "strict",
          "coloraxis": {
           "colorbar": {
            "outlinewidth": 0,
            "ticks": ""
           }
          },
          "colorscale": {
           "diverging": [
            [
             0,
             "#8e0152"
            ],
            [
             0.1,
             "#c51b7d"
            ],
            [
             0.2,
             "#de77ae"
            ],
            [
             0.3,
             "#f1b6da"
            ],
            [
             0.4,
             "#fde0ef"
            ],
            [
             0.5,
             "#f7f7f7"
            ],
            [
             0.6,
             "#e6f5d0"
            ],
            [
             0.7,
             "#b8e186"
            ],
            [
             0.8,
             "#7fbc41"
            ],
            [
             0.9,
             "#4d9221"
            ],
            [
             1,
             "#276419"
            ]
           ],
           "sequential": [
            [
             0,
             "#0d0887"
            ],
            [
             0.1111111111111111,
             "#46039f"
            ],
            [
             0.2222222222222222,
             "#7201a8"
            ],
            [
             0.3333333333333333,
             "#9c179e"
            ],
            [
             0.4444444444444444,
             "#bd3786"
            ],
            [
             0.5555555555555556,
             "#d8576b"
            ],
            [
             0.6666666666666666,
             "#ed7953"
            ],
            [
             0.7777777777777778,
             "#fb9f3a"
            ],
            [
             0.8888888888888888,
             "#fdca26"
            ],
            [
             1,
             "#f0f921"
            ]
           ],
           "sequentialminus": [
            [
             0,
             "#0d0887"
            ],
            [
             0.1111111111111111,
             "#46039f"
            ],
            [
             0.2222222222222222,
             "#7201a8"
            ],
            [
             0.3333333333333333,
             "#9c179e"
            ],
            [
             0.4444444444444444,
             "#bd3786"
            ],
            [
             0.5555555555555556,
             "#d8576b"
            ],
            [
             0.6666666666666666,
             "#ed7953"
            ],
            [
             0.7777777777777778,
             "#fb9f3a"
            ],
            [
             0.8888888888888888,
             "#fdca26"
            ],
            [
             1,
             "#f0f921"
            ]
           ]
          },
          "colorway": [
           "#636efa",
           "#EF553B",
           "#00cc96",
           "#ab63fa",
           "#FFA15A",
           "#19d3f3",
           "#FF6692",
           "#B6E880",
           "#FF97FF",
           "#FECB52"
          ],
          "font": {
           "color": "#f2f5fa"
          },
          "geo": {
           "bgcolor": "rgb(17,17,17)",
           "lakecolor": "rgb(17,17,17)",
           "landcolor": "rgb(17,17,17)",
           "showlakes": true,
           "showland": true,
           "subunitcolor": "#506784"
          },
          "hoverlabel": {
           "align": "left"
          },
          "hovermode": "closest",
          "mapbox": {
           "style": "dark"
          },
          "paper_bgcolor": "rgb(17,17,17)",
          "plot_bgcolor": "rgb(17,17,17)",
          "polar": {
           "angularaxis": {
            "gridcolor": "#506784",
            "linecolor": "#506784",
            "ticks": ""
           },
           "bgcolor": "rgb(17,17,17)",
           "radialaxis": {
            "gridcolor": "#506784",
            "linecolor": "#506784",
            "ticks": ""
           }
          },
          "scene": {
           "xaxis": {
            "backgroundcolor": "rgb(17,17,17)",
            "gridcolor": "#506784",
            "gridwidth": 2,
            "linecolor": "#506784",
            "showbackground": true,
            "ticks": "",
            "zerolinecolor": "#C8D4E3"
           },
           "yaxis": {
            "backgroundcolor": "rgb(17,17,17)",
            "gridcolor": "#506784",
            "gridwidth": 2,
            "linecolor": "#506784",
            "showbackground": true,
            "ticks": "",
            "zerolinecolor": "#C8D4E3"
           },
           "zaxis": {
            "backgroundcolor": "rgb(17,17,17)",
            "gridcolor": "#506784",
            "gridwidth": 2,
            "linecolor": "#506784",
            "showbackground": true,
            "ticks": "",
            "zerolinecolor": "#C8D4E3"
           }
          },
          "shapedefaults": {
           "line": {
            "color": "#f2f5fa"
           }
          },
          "sliderdefaults": {
           "bgcolor": "#C8D4E3",
           "bordercolor": "rgb(17,17,17)",
           "borderwidth": 1,
           "tickwidth": 0
          },
          "ternary": {
           "aaxis": {
            "gridcolor": "#506784",
            "linecolor": "#506784",
            "ticks": ""
           },
           "baxis": {
            "gridcolor": "#506784",
            "linecolor": "#506784",
            "ticks": ""
           },
           "bgcolor": "rgb(17,17,17)",
           "caxis": {
            "gridcolor": "#506784",
            "linecolor": "#506784",
            "ticks": ""
           }
          },
          "title": {
           "x": 0.05
          },
          "updatemenudefaults": {
           "bgcolor": "#506784",
           "borderwidth": 0
          },
          "xaxis": {
           "automargin": true,
           "gridcolor": "#283442",
           "linecolor": "#506784",
           "ticks": "",
           "title": {
            "standoff": 15
           },
           "zerolinecolor": "#283442",
           "zerolinewidth": 2
          },
          "yaxis": {
           "automargin": true,
           "gridcolor": "#283442",
           "linecolor": "#506784",
           "ticks": "",
           "title": {
            "standoff": 15
           },
           "zerolinecolor": "#283442",
           "zerolinewidth": 2
          }
         }
        },
        "title": {
         "text": "Графики потерь во время обучения"
        },
        "xaxis": {
         "title": {
          "text": "Эпоха"
         }
        },
        "yaxis": {
         "title": {
          "text": "Среднее значение потерь"
         }
        }
       }
      }
     },
     "metadata": {},
     "output_type": "display_data"
    },
    {
     "name": "stdout",
     "output_type": "stream",
     "text": [
      "\n",
      "=== Диагностика после эпохи 8 ===\n",
      "\n",
      "Пример 1:\n",
      "Предыстория: = = Development = =\n",
      "Сжатый контекст: \"#!#'$!!'$\"\"\"\"\"$\"$#\"\"(\"!!'\"#\"'&#$'#(#$\"!\"#!!#$!$\"!(&!!#\"#)#\"$\"!%!$!\"$#'\"&!\"!!\"%\"\"!#!\"##!%#\"\"&!%$\"\"$)#\"\"!###'%$\"#$\"#,\"$3!&\"!%$!!#'!$\"\"!#$!!'&(\"#'!##$!/$%\"!$+\"!#!!&%!\"#&#\"&&\")!$\"!!\"#!%#!\"%$!!-!##!$%\"$,#\"!%!%$\"\"2!!)#!!)/!%\"#\"('#%#$\"3\"\"$$$(!%!\"\"\"#%%()'#&!#!%##\"\"\"#!\"#$$\"\"!!#!$(!\"(\"\"\"%!($(\"%!'(!#\"\"(\"\"#!$!##%!#!$#!\"#!!&$$\"$##!\"!#\"!!\"!#\"!'#%!%##!$)!#%!#$%\"('%)'!\"$$!!$!\"!#%!%\n",
      "Текущий фрагмент: Concept work for Valkyria Chronicles III began after development finished on Valkyria Chronicles II in early 2010 , with full development beginning shortly after this . The director of Valkyria Chronicles II , Takeshi Ozawa , returned to that role for Valkyria Chronicles III . Development work took approximately one year . After the release of Valkyria Chronicles II , the staff took a look at both the popular response for the game and what they wanted to do next for the series . Like its predece\n",
      "Предсказание по сжатому контексту:  the\n",
      "Предсказание по сырому контексту: \n",
      " \". Development Development = = theectria Chronicles 2. in the of. thealkyria Chronicles II. 2011 2011. and the development on in after the.\n",
      " game of developmentalkyria Chronicles III, Kazhi Kawa, was to the role in thealkyria Chronicles III in\n",
      " of on place two year to\n",
      " the completion of Valkyria Chronicles III, the game of over break at the the game and to the game and the the thought to do with. the game. The the predecessorilevelopased\n",
      "Предсказание по текущему фрагменту: .s is theFXria Chronicles 2: in the of. thealkyria Chronicles II. 2011 2013. and the support on in after the.\n",
      " game of thealkyria Chronicles III, Kazhi Kawa, was to the project in thealkyria Chronicles III in\n",
      " on on place two year to\n",
      " the completion of Valkyria Chronicles III, the game of over break at the the game and to the game and the the thought to do with. the game.\n",
      " the predecessorileceased\n",
      "Целевой текст: The majority of material created for previous games, such as the BLiTZ system and the design of maps, was carried over. Alongside this, improvements were made to the game's graphics and some elements were expanded, such as map layouts, mission structure, and the number of playable units per mission. A part of this upgrade involved creating unique polygon models for each character's body. In order to achieve this, the cooperative elements incorporated into the second game were removed\n",
      "\n",
      "Пример 2:\n",
      "Предыстория: = = Reception = =\n",
      "Сжатый контекст: \"$!#'$!!!'$\"\"\"\"\"$\"$#\"!#)\"!!'\"#\"'&#$(#(##\"!\"$!!#$$\"!(&!!#\"\"*#\"$\"!&!$\"$#(\"&!!!!\"!%\"\"!!$!\"##!%#\"!\"&!&$\"\"%*\"\"#!###'%$\"#$\"#,\"%4!&\"!%$!!#'!%\"\"!#$!'&(\"#!(!##$!0$%\"$,\"!$!!!'%\"!#&##&&#)!$\"!!\"#!%#!!%$!!-!#\"!$&\"%,#\"%!&$\"\"3!!!!)#!!)/!%\"#\"('#&#%\"3\"\"$%$)\"%!\"\"\"#%%()'#&!#!%##\"\"\"#\"\"#$$\"\"\"!#!$(!\"(\"!\"%!($(\"%!')!$\"#(\"\"#!!$!##%!#!$$!\"#!!&$$\"$##!\"!#\"!!##\"!(#%!%$#!%*#%!##&\"('%)'!\"$$!\"$!\"!#%!&\n",
      "Текущий фрагмент: On its day of release in Japan , Valkyria Chronicles III topped both platform @-@ exclusive and multi @-@ platform sales charts . By early February , the game sold 102 @,@ 779 units , coming in second overall to The Last Story for the Wii . By the end of the year , the game had sold just over 152 @,@ 500 units .\n",
      "Предсказание по сжатому контексту: ,\n",
      "Предсказание по сырому контексту: \n",
      " \"gex. 0 0 = own = the = the. it =ries Chronicles 2: the charts and 1 and and to @--@ exclusive...\n",
      " comparison September, V game had over,- and and.,, and in at place behind the Legend of. the month U\n",
      " the end of the month, the game sold sold over over 1,,@ 7 units.\n",
      "\n",
      "Предсказание по текущему фрагменту:  the website, action, May, theiacria Chronicles 2: the the and and and and to @--platform exclusive...\n",
      " comparison October, V game had over,- and and.,, and in at place behind the Legend of. the month U\n",
      " the end of the month, V game sold sold over over 1,,@ 7 units.\n",
      "\n",
      "Целевой текст: Famitsu enjoyed the story, and were particularly pleased with the improvements to gameplay. Japanese gaming site Game Watch Impress, despite negatively noting its pacing and elements recycled from previous games, was generally positive about its story and characters, and found its gameplay entertaining despite off @-@ putting difficulty spikes. 4Gamer.net writer Naohiko Misuosame, in a \" Play Test \" article based on the game's PSN demo, felt that Valkyria Chronicles III provided a \" pro\n",
      "\n",
      "Пример 3:\n",
      "Предыстория: On its day of release in Japan , Valkyria Chronicles III topped both platform @-@ exclusive and multi @-@ platform sales charts . By early February , the game sold 102 @,@ 779 units , coming in second overall to The Last Story for the Wii . By the end of the year , the game had sold just over 152 @,@ 500 units .\n",
      "Сжатый контекст: \"\"!\"'!\"!'$!\"\"!\"\"\"$#!!#(!!!'\"##&&##&#'##\"!##!\"#!%!!(%!!!\"#)#!#\"\"%\"%!\"#\"'\"%!!!!!\"$!\"\"!\"!###!$!\"\"%!%#!!\"!#(\"\"\"!#!#&$$!#!!%\"\"+\"$1!%\"#$!#&\"#\"!\"\"%!!&''!#\"!&!##!#!-#$!#+\"!!#!!&#!\"#&##$&\"(\"#!!!\"#%\"\"\"$#,!\"\"!\"%\"$+!\"!%!%#\"\"0!!!&#!(-\"%\"!#'%#%#$!1#\"$$#'!$!!\"\"!#$%&(&\"!&#!$###!\"##%$##\"!#\"%'!(#!#&!'#!'!#!%!&(!!#!\"'!#\"\"!!!$!\"\"$\"\"!%#!##!!%$$\"$\"#\"\"!$#\"!#!\"\"!&\"%\"$##!!$)!!%!#!#%\"'&$(&!\"\"$!!#\"!\"#%\n",
      "Текущий фрагмент: Famitsu enjoyed the story , and were particularly pleased with the improvements to gameplay . Japanese gaming site Game Watch Impress , despite negatively noting its pacing and elements recycled from previous games , was generally positive about its story and characters , and found its gameplay entertaining despite off @-@ putting difficulty spikes . 4Gamer.net writer Naohiko Misuosame , in a \" Play Test \" article based on the game 's PSN demo , felt that Valkyria Chronicles III provided a \" pro\n",
      "Предсказание по сжатому контексту:  the\n",
      "Предсказание по сырому контексту:  the website, action, May, theiacria Chronicles 2: the the and and and and to @--platform exclusive...\n",
      " comparison October, V game had over,- and and.,, and in at place behind the Legend of. the month U\n",
      " the end of the month, V game sold sold over over 1,,@ 7 units.\n",
      "itsu reported a game of and the able impressed with the game made the and\n",
      " publisher magazine FamSpot reportedpressions which its comparing the lack and the, from previous games, praised pleased pleased about the game and the. and was the story to. its--platforming the to.\n",
      "K alsocom, andokiiko Nakakihaki also who a recent positivethrough \" article, on the game, V gameplay Vita release, said that thealkyria Chronicles III was a \" good-\n",
      "Предсказание по текущему фрагменту: .ilies, a opportunity of but the very impressed with the story made the.\n",
      " fans culture KotFAQ haspressions which being reviewing the lack and pacing of from the games, has very pleased about the story and the. and was the story to. its- thetheing the on on\n",
      ". alsocom also andokiiko Kakiokaaki also who a reviewgoodthrough \" article, on the game, The story Vita,, said that thealkyria Chronicles 2 was a good fun-\n",
      "Целевой текст: PlayStation Official Magazine - UK praised the story's blurring of Gallia's moral standing, art style, and most points about its gameplay, positively noting the latter for both its continued quality and the tweaks to balance and content. Its one major criticism were multiple difficulty spikes, something that had affected the previous games. Heath Hindman of gaming website PlayStation Lifestyle praised the addition of non @-@ linear elements and improvements or removal of mechanics from V\n"
     ]
    },
    {
     "ename": "KeyboardInterrupt",
     "evalue": "",
     "output_type": "error",
     "traceback": [
      "\u001b[1;31m---------------------------------------------------------------------------\u001b[0m",
      "\u001b[1;31mKeyboardInterrupt\u001b[0m                         Traceback (most recent call last)",
      "Cell \u001b[1;32mIn[90], line 33\u001b[0m\n\u001b[0;32m     30\u001b[0m load_model(context_optimizer, context_optimizer, \u001b[38;5;124m\"\u001b[39m\u001b[38;5;124mcontext_optimizer.pth\u001b[39m\u001b[38;5;124m\"\u001b[39m)\n\u001b[0;32m     32\u001b[0m \u001b[38;5;66;03m# Запуск обучения\u001b[39;00m\n\u001b[1;32m---> 33\u001b[0m raw_loss_values, compressed_loss_values, fragment_loss_values \u001b[38;5;241m=\u001b[39m \u001b[43mtrain_context_optimizer\u001b[49m\u001b[43m(\u001b[49m\u001b[43mcontext_optimizer\u001b[49m\u001b[43m,\u001b[49m\u001b[43m \u001b[49m\u001b[43mintermediate_data\u001b[49m\u001b[43m,\u001b[49m\u001b[43m \u001b[49m\u001b[43mtokenizer\u001b[49m\u001b[43m,\u001b[49m\u001b[43m \u001b[49m\u001b[43mgpt2_model\u001b[49m\u001b[43m,\u001b[49m\u001b[43m \u001b[49m\u001b[43mepochs\u001b[49m\u001b[38;5;241;43m=\u001b[39;49m\u001b[38;5;241;43m10\u001b[39;49m\u001b[43m,\u001b[49m\u001b[43m \u001b[49m\u001b[43mdevice\u001b[49m\u001b[38;5;241;43m=\u001b[39;49m\u001b[43mdevice\u001b[49m\u001b[43m)\u001b[49m\n\u001b[0;32m     35\u001b[0m \u001b[38;5;66;03m# Сохранение модели после обучения\u001b[39;00m\n\u001b[0;32m     36\u001b[0m save_model(context_optimizer, context_optimizer, \u001b[38;5;124m\"\u001b[39m\u001b[38;5;124mcontext_optimizer.pth\u001b[39m\u001b[38;5;124m\"\u001b[39m)\n",
      "Cell \u001b[1;32mIn[86], line 42\u001b[0m, in \u001b[0;36mtrain_context_optimizer\u001b[1;34m(optimizer, intermediate_data, tokenizer, gpt2_model, epochs, device)\u001b[0m\n\u001b[0;32m     40\u001b[0m compressed_inputs \u001b[38;5;241m=\u001b[39m tokenizer(current_fragment, return_tensors\u001b[38;5;241m=\u001b[39m\u001b[38;5;124m\"\u001b[39m\u001b[38;5;124mpt\u001b[39m\u001b[38;5;124m\"\u001b[39m)\u001b[38;5;241m.\u001b[39mto(device)\n\u001b[0;32m     41\u001b[0m compressed_inputs_embeds \u001b[38;5;241m=\u001b[39m compressed_context \u001b[38;5;241m+\u001b[39m gpt2_model\u001b[38;5;241m.\u001b[39mtransformer\u001b[38;5;241m.\u001b[39mwte(compressed_inputs[\u001b[38;5;124m\"\u001b[39m\u001b[38;5;124minput_ids\u001b[39m\u001b[38;5;124m\"\u001b[39m])\n\u001b[1;32m---> 42\u001b[0m compressed_outputs \u001b[38;5;241m=\u001b[39m \u001b[43mgpt2_model\u001b[49m\u001b[43m(\u001b[49m\u001b[43minputs_embeds\u001b[49m\u001b[38;5;241;43m=\u001b[39;49m\u001b[43mcompressed_inputs_embeds\u001b[49m\u001b[43m,\u001b[49m\u001b[43m \u001b[49m\u001b[43moutput_hidden_states\u001b[49m\u001b[38;5;241;43m=\u001b[39;49m\u001b[38;5;28;43;01mTrue\u001b[39;49;00m\u001b[43m)\u001b[49m\u001b[38;5;241m.\u001b[39mhidden_states[\u001b[38;5;241m-\u001b[39m\u001b[38;5;241m1\u001b[39m]\u001b[38;5;241m.\u001b[39mmean(dim\u001b[38;5;241m=\u001b[39m\u001b[38;5;241m1\u001b[39m)\n\u001b[0;32m     43\u001b[0m compressed_loss \u001b[38;5;241m=\u001b[39m criterion(compressed_outputs, target_embedding)\n\u001b[0;32m     45\u001b[0m \u001b[38;5;66;03m# Вычисление расхождения потерь\u001b[39;00m\n",
      "File \u001b[1;32mc:\\git\\MUIV\\concl\\.venv\\lib\\site-packages\\torch\\nn\\modules\\module.py:1553\u001b[0m, in \u001b[0;36mModule._wrapped_call_impl\u001b[1;34m(self, *args, **kwargs)\u001b[0m\n\u001b[0;32m   1551\u001b[0m     \u001b[38;5;28;01mreturn\u001b[39;00m \u001b[38;5;28mself\u001b[39m\u001b[38;5;241m.\u001b[39m_compiled_call_impl(\u001b[38;5;241m*\u001b[39margs, \u001b[38;5;241m*\u001b[39m\u001b[38;5;241m*\u001b[39mkwargs)  \u001b[38;5;66;03m# type: ignore[misc]\u001b[39;00m\n\u001b[0;32m   1552\u001b[0m \u001b[38;5;28;01melse\u001b[39;00m:\n\u001b[1;32m-> 1553\u001b[0m     \u001b[38;5;28;01mreturn\u001b[39;00m \u001b[38;5;28mself\u001b[39m\u001b[38;5;241m.\u001b[39m_call_impl(\u001b[38;5;241m*\u001b[39margs, \u001b[38;5;241m*\u001b[39m\u001b[38;5;241m*\u001b[39mkwargs)\n",
      "File \u001b[1;32mc:\\git\\MUIV\\concl\\.venv\\lib\\site-packages\\torch\\nn\\modules\\module.py:1562\u001b[0m, in \u001b[0;36mModule._call_impl\u001b[1;34m(self, *args, **kwargs)\u001b[0m\n\u001b[0;32m   1557\u001b[0m \u001b[38;5;66;03m# If we don't have any hooks, we want to skip the rest of the logic in\u001b[39;00m\n\u001b[0;32m   1558\u001b[0m \u001b[38;5;66;03m# this function, and just call forward.\u001b[39;00m\n\u001b[0;32m   1559\u001b[0m \u001b[38;5;28;01mif\u001b[39;00m \u001b[38;5;129;01mnot\u001b[39;00m (\u001b[38;5;28mself\u001b[39m\u001b[38;5;241m.\u001b[39m_backward_hooks \u001b[38;5;129;01mor\u001b[39;00m \u001b[38;5;28mself\u001b[39m\u001b[38;5;241m.\u001b[39m_backward_pre_hooks \u001b[38;5;129;01mor\u001b[39;00m \u001b[38;5;28mself\u001b[39m\u001b[38;5;241m.\u001b[39m_forward_hooks \u001b[38;5;129;01mor\u001b[39;00m \u001b[38;5;28mself\u001b[39m\u001b[38;5;241m.\u001b[39m_forward_pre_hooks\n\u001b[0;32m   1560\u001b[0m         \u001b[38;5;129;01mor\u001b[39;00m _global_backward_pre_hooks \u001b[38;5;129;01mor\u001b[39;00m _global_backward_hooks\n\u001b[0;32m   1561\u001b[0m         \u001b[38;5;129;01mor\u001b[39;00m _global_forward_hooks \u001b[38;5;129;01mor\u001b[39;00m _global_forward_pre_hooks):\n\u001b[1;32m-> 1562\u001b[0m     \u001b[38;5;28;01mreturn\u001b[39;00m forward_call(\u001b[38;5;241m*\u001b[39margs, \u001b[38;5;241m*\u001b[39m\u001b[38;5;241m*\u001b[39mkwargs)\n\u001b[0;32m   1564\u001b[0m \u001b[38;5;28;01mtry\u001b[39;00m:\n\u001b[0;32m   1565\u001b[0m     result \u001b[38;5;241m=\u001b[39m \u001b[38;5;28;01mNone\u001b[39;00m\n",
      "File \u001b[1;32mc:\\git\\MUIV\\concl\\.venv\\lib\\site-packages\\transformers\\models\\gpt2\\modeling_gpt2.py:1315\u001b[0m, in \u001b[0;36mGPT2LMHeadModel.forward\u001b[1;34m(self, input_ids, past_key_values, attention_mask, token_type_ids, position_ids, head_mask, inputs_embeds, encoder_hidden_states, encoder_attention_mask, labels, use_cache, output_attentions, output_hidden_states, return_dict)\u001b[0m\n\u001b[0;32m   1307\u001b[0m \u001b[38;5;250m\u001b[39m\u001b[38;5;124mr\u001b[39m\u001b[38;5;124;03m\"\"\"\u001b[39;00m\n\u001b[0;32m   1308\u001b[0m \u001b[38;5;124;03mlabels (`torch.LongTensor` of shape `(batch_size, sequence_length)`, *optional*):\u001b[39;00m\n\u001b[0;32m   1309\u001b[0m \u001b[38;5;124;03m    Labels for language modeling. Note that the labels **are shifted** inside the model, i.e. you can set\u001b[39;00m\n\u001b[0;32m   1310\u001b[0m \u001b[38;5;124;03m    `labels = input_ids` Indices are selected in `[-100, 0, ..., config.vocab_size]` All labels set to `-100`\u001b[39;00m\n\u001b[0;32m   1311\u001b[0m \u001b[38;5;124;03m    are ignored (masked), the loss is only computed for labels in `[0, ..., config.vocab_size]`\u001b[39;00m\n\u001b[0;32m   1312\u001b[0m \u001b[38;5;124;03m\"\"\"\u001b[39;00m\n\u001b[0;32m   1313\u001b[0m return_dict \u001b[38;5;241m=\u001b[39m return_dict \u001b[38;5;28;01mif\u001b[39;00m return_dict \u001b[38;5;129;01mis\u001b[39;00m \u001b[38;5;129;01mnot\u001b[39;00m \u001b[38;5;28;01mNone\u001b[39;00m \u001b[38;5;28;01melse\u001b[39;00m \u001b[38;5;28mself\u001b[39m\u001b[38;5;241m.\u001b[39mconfig\u001b[38;5;241m.\u001b[39muse_return_dict\n\u001b[1;32m-> 1315\u001b[0m transformer_outputs \u001b[38;5;241m=\u001b[39m \u001b[38;5;28;43mself\u001b[39;49m\u001b[38;5;241;43m.\u001b[39;49m\u001b[43mtransformer\u001b[49m\u001b[43m(\u001b[49m\n\u001b[0;32m   1316\u001b[0m \u001b[43m    \u001b[49m\u001b[43minput_ids\u001b[49m\u001b[43m,\u001b[49m\n\u001b[0;32m   1317\u001b[0m \u001b[43m    \u001b[49m\u001b[43mpast_key_values\u001b[49m\u001b[38;5;241;43m=\u001b[39;49m\u001b[43mpast_key_values\u001b[49m\u001b[43m,\u001b[49m\n\u001b[0;32m   1318\u001b[0m \u001b[43m    \u001b[49m\u001b[43mattention_mask\u001b[49m\u001b[38;5;241;43m=\u001b[39;49m\u001b[43mattention_mask\u001b[49m\u001b[43m,\u001b[49m\n\u001b[0;32m   1319\u001b[0m \u001b[43m    \u001b[49m\u001b[43mtoken_type_ids\u001b[49m\u001b[38;5;241;43m=\u001b[39;49m\u001b[43mtoken_type_ids\u001b[49m\u001b[43m,\u001b[49m\n\u001b[0;32m   1320\u001b[0m \u001b[43m    \u001b[49m\u001b[43mposition_ids\u001b[49m\u001b[38;5;241;43m=\u001b[39;49m\u001b[43mposition_ids\u001b[49m\u001b[43m,\u001b[49m\n\u001b[0;32m   1321\u001b[0m \u001b[43m    \u001b[49m\u001b[43mhead_mask\u001b[49m\u001b[38;5;241;43m=\u001b[39;49m\u001b[43mhead_mask\u001b[49m\u001b[43m,\u001b[49m\n\u001b[0;32m   1322\u001b[0m \u001b[43m    \u001b[49m\u001b[43minputs_embeds\u001b[49m\u001b[38;5;241;43m=\u001b[39;49m\u001b[43minputs_embeds\u001b[49m\u001b[43m,\u001b[49m\n\u001b[0;32m   1323\u001b[0m \u001b[43m    \u001b[49m\u001b[43mencoder_hidden_states\u001b[49m\u001b[38;5;241;43m=\u001b[39;49m\u001b[43mencoder_hidden_states\u001b[49m\u001b[43m,\u001b[49m\n\u001b[0;32m   1324\u001b[0m \u001b[43m    \u001b[49m\u001b[43mencoder_attention_mask\u001b[49m\u001b[38;5;241;43m=\u001b[39;49m\u001b[43mencoder_attention_mask\u001b[49m\u001b[43m,\u001b[49m\n\u001b[0;32m   1325\u001b[0m \u001b[43m    \u001b[49m\u001b[43muse_cache\u001b[49m\u001b[38;5;241;43m=\u001b[39;49m\u001b[43muse_cache\u001b[49m\u001b[43m,\u001b[49m\n\u001b[0;32m   1326\u001b[0m \u001b[43m    \u001b[49m\u001b[43moutput_attentions\u001b[49m\u001b[38;5;241;43m=\u001b[39;49m\u001b[43moutput_attentions\u001b[49m\u001b[43m,\u001b[49m\n\u001b[0;32m   1327\u001b[0m \u001b[43m    \u001b[49m\u001b[43moutput_hidden_states\u001b[49m\u001b[38;5;241;43m=\u001b[39;49m\u001b[43moutput_hidden_states\u001b[49m\u001b[43m,\u001b[49m\n\u001b[0;32m   1328\u001b[0m \u001b[43m    \u001b[49m\u001b[43mreturn_dict\u001b[49m\u001b[38;5;241;43m=\u001b[39;49m\u001b[43mreturn_dict\u001b[49m\u001b[43m,\u001b[49m\n\u001b[0;32m   1329\u001b[0m \u001b[43m\u001b[49m\u001b[43m)\u001b[49m\n\u001b[0;32m   1330\u001b[0m hidden_states \u001b[38;5;241m=\u001b[39m transformer_outputs[\u001b[38;5;241m0\u001b[39m]\n\u001b[0;32m   1332\u001b[0m \u001b[38;5;66;03m# Set device for model parallelism\u001b[39;00m\n",
      "File \u001b[1;32mc:\\git\\MUIV\\concl\\.venv\\lib\\site-packages\\torch\\nn\\modules\\module.py:1553\u001b[0m, in \u001b[0;36mModule._wrapped_call_impl\u001b[1;34m(self, *args, **kwargs)\u001b[0m\n\u001b[0;32m   1551\u001b[0m     \u001b[38;5;28;01mreturn\u001b[39;00m \u001b[38;5;28mself\u001b[39m\u001b[38;5;241m.\u001b[39m_compiled_call_impl(\u001b[38;5;241m*\u001b[39margs, \u001b[38;5;241m*\u001b[39m\u001b[38;5;241m*\u001b[39mkwargs)  \u001b[38;5;66;03m# type: ignore[misc]\u001b[39;00m\n\u001b[0;32m   1552\u001b[0m \u001b[38;5;28;01melse\u001b[39;00m:\n\u001b[1;32m-> 1553\u001b[0m     \u001b[38;5;28;01mreturn\u001b[39;00m \u001b[38;5;28mself\u001b[39m\u001b[38;5;241m.\u001b[39m_call_impl(\u001b[38;5;241m*\u001b[39margs, \u001b[38;5;241m*\u001b[39m\u001b[38;5;241m*\u001b[39mkwargs)\n",
      "File \u001b[1;32mc:\\git\\MUIV\\concl\\.venv\\lib\\site-packages\\torch\\nn\\modules\\module.py:1562\u001b[0m, in \u001b[0;36mModule._call_impl\u001b[1;34m(self, *args, **kwargs)\u001b[0m\n\u001b[0;32m   1557\u001b[0m \u001b[38;5;66;03m# If we don't have any hooks, we want to skip the rest of the logic in\u001b[39;00m\n\u001b[0;32m   1558\u001b[0m \u001b[38;5;66;03m# this function, and just call forward.\u001b[39;00m\n\u001b[0;32m   1559\u001b[0m \u001b[38;5;28;01mif\u001b[39;00m \u001b[38;5;129;01mnot\u001b[39;00m (\u001b[38;5;28mself\u001b[39m\u001b[38;5;241m.\u001b[39m_backward_hooks \u001b[38;5;129;01mor\u001b[39;00m \u001b[38;5;28mself\u001b[39m\u001b[38;5;241m.\u001b[39m_backward_pre_hooks \u001b[38;5;129;01mor\u001b[39;00m \u001b[38;5;28mself\u001b[39m\u001b[38;5;241m.\u001b[39m_forward_hooks \u001b[38;5;129;01mor\u001b[39;00m \u001b[38;5;28mself\u001b[39m\u001b[38;5;241m.\u001b[39m_forward_pre_hooks\n\u001b[0;32m   1560\u001b[0m         \u001b[38;5;129;01mor\u001b[39;00m _global_backward_pre_hooks \u001b[38;5;129;01mor\u001b[39;00m _global_backward_hooks\n\u001b[0;32m   1561\u001b[0m         \u001b[38;5;129;01mor\u001b[39;00m _global_forward_hooks \u001b[38;5;129;01mor\u001b[39;00m _global_forward_pre_hooks):\n\u001b[1;32m-> 1562\u001b[0m     \u001b[38;5;28;01mreturn\u001b[39;00m forward_call(\u001b[38;5;241m*\u001b[39margs, \u001b[38;5;241m*\u001b[39m\u001b[38;5;241m*\u001b[39mkwargs)\n\u001b[0;32m   1564\u001b[0m \u001b[38;5;28;01mtry\u001b[39;00m:\n\u001b[0;32m   1565\u001b[0m     result \u001b[38;5;241m=\u001b[39m \u001b[38;5;28;01mNone\u001b[39;00m\n",
      "File \u001b[1;32mc:\\git\\MUIV\\concl\\.venv\\lib\\site-packages\\transformers\\models\\gpt2\\modeling_gpt2.py:1129\u001b[0m, in \u001b[0;36mGPT2Model.forward\u001b[1;34m(self, input_ids, past_key_values, attention_mask, token_type_ids, position_ids, head_mask, inputs_embeds, encoder_hidden_states, encoder_attention_mask, use_cache, output_attentions, output_hidden_states, return_dict)\u001b[0m\n\u001b[0;32m   1117\u001b[0m     outputs \u001b[38;5;241m=\u001b[39m \u001b[38;5;28mself\u001b[39m\u001b[38;5;241m.\u001b[39m_gradient_checkpointing_func(\n\u001b[0;32m   1118\u001b[0m         block\u001b[38;5;241m.\u001b[39m\u001b[38;5;21m__call__\u001b[39m,\n\u001b[0;32m   1119\u001b[0m         hidden_states,\n\u001b[1;32m   (...)\u001b[0m\n\u001b[0;32m   1126\u001b[0m         output_attentions,\n\u001b[0;32m   1127\u001b[0m     )\n\u001b[0;32m   1128\u001b[0m \u001b[38;5;28;01melse\u001b[39;00m:\n\u001b[1;32m-> 1129\u001b[0m     outputs \u001b[38;5;241m=\u001b[39m \u001b[43mblock\u001b[49m\u001b[43m(\u001b[49m\n\u001b[0;32m   1130\u001b[0m \u001b[43m        \u001b[49m\u001b[43mhidden_states\u001b[49m\u001b[43m,\u001b[49m\n\u001b[0;32m   1131\u001b[0m \u001b[43m        \u001b[49m\u001b[43mlayer_past\u001b[49m\u001b[38;5;241;43m=\u001b[39;49m\u001b[43mlayer_past\u001b[49m\u001b[43m,\u001b[49m\n\u001b[0;32m   1132\u001b[0m \u001b[43m        \u001b[49m\u001b[43mattention_mask\u001b[49m\u001b[38;5;241;43m=\u001b[39;49m\u001b[43mattention_mask\u001b[49m\u001b[43m,\u001b[49m\n\u001b[0;32m   1133\u001b[0m \u001b[43m        \u001b[49m\u001b[43mhead_mask\u001b[49m\u001b[38;5;241;43m=\u001b[39;49m\u001b[43mhead_mask\u001b[49m\u001b[43m[\u001b[49m\u001b[43mi\u001b[49m\u001b[43m]\u001b[49m\u001b[43m,\u001b[49m\n\u001b[0;32m   1134\u001b[0m \u001b[43m        \u001b[49m\u001b[43mencoder_hidden_states\u001b[49m\u001b[38;5;241;43m=\u001b[39;49m\u001b[43mencoder_hidden_states\u001b[49m\u001b[43m,\u001b[49m\n\u001b[0;32m   1135\u001b[0m \u001b[43m        \u001b[49m\u001b[43mencoder_attention_mask\u001b[49m\u001b[38;5;241;43m=\u001b[39;49m\u001b[43mencoder_attention_mask\u001b[49m\u001b[43m,\u001b[49m\n\u001b[0;32m   1136\u001b[0m \u001b[43m        \u001b[49m\u001b[43muse_cache\u001b[49m\u001b[38;5;241;43m=\u001b[39;49m\u001b[43muse_cache\u001b[49m\u001b[43m,\u001b[49m\n\u001b[0;32m   1137\u001b[0m \u001b[43m        \u001b[49m\u001b[43moutput_attentions\u001b[49m\u001b[38;5;241;43m=\u001b[39;49m\u001b[43moutput_attentions\u001b[49m\u001b[43m,\u001b[49m\n\u001b[0;32m   1138\u001b[0m \u001b[43m    \u001b[49m\u001b[43m)\u001b[49m\n\u001b[0;32m   1140\u001b[0m hidden_states \u001b[38;5;241m=\u001b[39m outputs[\u001b[38;5;241m0\u001b[39m]\n\u001b[0;32m   1141\u001b[0m \u001b[38;5;28;01mif\u001b[39;00m use_cache \u001b[38;5;129;01mis\u001b[39;00m \u001b[38;5;28;01mTrue\u001b[39;00m:\n",
      "File \u001b[1;32mc:\\git\\MUIV\\concl\\.venv\\lib\\site-packages\\torch\\nn\\modules\\module.py:1553\u001b[0m, in \u001b[0;36mModule._wrapped_call_impl\u001b[1;34m(self, *args, **kwargs)\u001b[0m\n\u001b[0;32m   1551\u001b[0m     \u001b[38;5;28;01mreturn\u001b[39;00m \u001b[38;5;28mself\u001b[39m\u001b[38;5;241m.\u001b[39m_compiled_call_impl(\u001b[38;5;241m*\u001b[39margs, \u001b[38;5;241m*\u001b[39m\u001b[38;5;241m*\u001b[39mkwargs)  \u001b[38;5;66;03m# type: ignore[misc]\u001b[39;00m\n\u001b[0;32m   1552\u001b[0m \u001b[38;5;28;01melse\u001b[39;00m:\n\u001b[1;32m-> 1553\u001b[0m     \u001b[38;5;28;01mreturn\u001b[39;00m \u001b[38;5;28mself\u001b[39m\u001b[38;5;241m.\u001b[39m_call_impl(\u001b[38;5;241m*\u001b[39margs, \u001b[38;5;241m*\u001b[39m\u001b[38;5;241m*\u001b[39mkwargs)\n",
      "File \u001b[1;32mc:\\git\\MUIV\\concl\\.venv\\lib\\site-packages\\torch\\nn\\modules\\module.py:1562\u001b[0m, in \u001b[0;36mModule._call_impl\u001b[1;34m(self, *args, **kwargs)\u001b[0m\n\u001b[0;32m   1557\u001b[0m \u001b[38;5;66;03m# If we don't have any hooks, we want to skip the rest of the logic in\u001b[39;00m\n\u001b[0;32m   1558\u001b[0m \u001b[38;5;66;03m# this function, and just call forward.\u001b[39;00m\n\u001b[0;32m   1559\u001b[0m \u001b[38;5;28;01mif\u001b[39;00m \u001b[38;5;129;01mnot\u001b[39;00m (\u001b[38;5;28mself\u001b[39m\u001b[38;5;241m.\u001b[39m_backward_hooks \u001b[38;5;129;01mor\u001b[39;00m \u001b[38;5;28mself\u001b[39m\u001b[38;5;241m.\u001b[39m_backward_pre_hooks \u001b[38;5;129;01mor\u001b[39;00m \u001b[38;5;28mself\u001b[39m\u001b[38;5;241m.\u001b[39m_forward_hooks \u001b[38;5;129;01mor\u001b[39;00m \u001b[38;5;28mself\u001b[39m\u001b[38;5;241m.\u001b[39m_forward_pre_hooks\n\u001b[0;32m   1560\u001b[0m         \u001b[38;5;129;01mor\u001b[39;00m _global_backward_pre_hooks \u001b[38;5;129;01mor\u001b[39;00m _global_backward_hooks\n\u001b[0;32m   1561\u001b[0m         \u001b[38;5;129;01mor\u001b[39;00m _global_forward_hooks \u001b[38;5;129;01mor\u001b[39;00m _global_forward_pre_hooks):\n\u001b[1;32m-> 1562\u001b[0m     \u001b[38;5;28;01mreturn\u001b[39;00m forward_call(\u001b[38;5;241m*\u001b[39margs, \u001b[38;5;241m*\u001b[39m\u001b[38;5;241m*\u001b[39mkwargs)\n\u001b[0;32m   1564\u001b[0m \u001b[38;5;28;01mtry\u001b[39;00m:\n\u001b[0;32m   1565\u001b[0m     result \u001b[38;5;241m=\u001b[39m \u001b[38;5;28;01mNone\u001b[39;00m\n",
      "File \u001b[1;32mc:\\git\\MUIV\\concl\\.venv\\lib\\site-packages\\transformers\\models\\gpt2\\modeling_gpt2.py:651\u001b[0m, in \u001b[0;36mGPT2Block.forward\u001b[1;34m(self, hidden_states, layer_past, attention_mask, head_mask, encoder_hidden_states, encoder_attention_mask, use_cache, output_attentions)\u001b[0m\n\u001b[0;32m    649\u001b[0m residual \u001b[38;5;241m=\u001b[39m hidden_states\n\u001b[0;32m    650\u001b[0m hidden_states \u001b[38;5;241m=\u001b[39m \u001b[38;5;28mself\u001b[39m\u001b[38;5;241m.\u001b[39mln_2(hidden_states)\n\u001b[1;32m--> 651\u001b[0m feed_forward_hidden_states \u001b[38;5;241m=\u001b[39m \u001b[38;5;28;43mself\u001b[39;49m\u001b[38;5;241;43m.\u001b[39;49m\u001b[43mmlp\u001b[49m\u001b[43m(\u001b[49m\u001b[43mhidden_states\u001b[49m\u001b[43m)\u001b[49m\n\u001b[0;32m    652\u001b[0m \u001b[38;5;66;03m# residual connection\u001b[39;00m\n\u001b[0;32m    653\u001b[0m hidden_states \u001b[38;5;241m=\u001b[39m residual \u001b[38;5;241m+\u001b[39m feed_forward_hidden_states\n",
      "File \u001b[1;32mc:\\git\\MUIV\\concl\\.venv\\lib\\site-packages\\torch\\nn\\modules\\module.py:1553\u001b[0m, in \u001b[0;36mModule._wrapped_call_impl\u001b[1;34m(self, *args, **kwargs)\u001b[0m\n\u001b[0;32m   1551\u001b[0m     \u001b[38;5;28;01mreturn\u001b[39;00m \u001b[38;5;28mself\u001b[39m\u001b[38;5;241m.\u001b[39m_compiled_call_impl(\u001b[38;5;241m*\u001b[39margs, \u001b[38;5;241m*\u001b[39m\u001b[38;5;241m*\u001b[39mkwargs)  \u001b[38;5;66;03m# type: ignore[misc]\u001b[39;00m\n\u001b[0;32m   1552\u001b[0m \u001b[38;5;28;01melse\u001b[39;00m:\n\u001b[1;32m-> 1553\u001b[0m     \u001b[38;5;28;01mreturn\u001b[39;00m \u001b[38;5;28mself\u001b[39m\u001b[38;5;241m.\u001b[39m_call_impl(\u001b[38;5;241m*\u001b[39margs, \u001b[38;5;241m*\u001b[39m\u001b[38;5;241m*\u001b[39mkwargs)\n",
      "File \u001b[1;32mc:\\git\\MUIV\\concl\\.venv\\lib\\site-packages\\torch\\nn\\modules\\module.py:1562\u001b[0m, in \u001b[0;36mModule._call_impl\u001b[1;34m(self, *args, **kwargs)\u001b[0m\n\u001b[0;32m   1557\u001b[0m \u001b[38;5;66;03m# If we don't have any hooks, we want to skip the rest of the logic in\u001b[39;00m\n\u001b[0;32m   1558\u001b[0m \u001b[38;5;66;03m# this function, and just call forward.\u001b[39;00m\n\u001b[0;32m   1559\u001b[0m \u001b[38;5;28;01mif\u001b[39;00m \u001b[38;5;129;01mnot\u001b[39;00m (\u001b[38;5;28mself\u001b[39m\u001b[38;5;241m.\u001b[39m_backward_hooks \u001b[38;5;129;01mor\u001b[39;00m \u001b[38;5;28mself\u001b[39m\u001b[38;5;241m.\u001b[39m_backward_pre_hooks \u001b[38;5;129;01mor\u001b[39;00m \u001b[38;5;28mself\u001b[39m\u001b[38;5;241m.\u001b[39m_forward_hooks \u001b[38;5;129;01mor\u001b[39;00m \u001b[38;5;28mself\u001b[39m\u001b[38;5;241m.\u001b[39m_forward_pre_hooks\n\u001b[0;32m   1560\u001b[0m         \u001b[38;5;129;01mor\u001b[39;00m _global_backward_pre_hooks \u001b[38;5;129;01mor\u001b[39;00m _global_backward_hooks\n\u001b[0;32m   1561\u001b[0m         \u001b[38;5;129;01mor\u001b[39;00m _global_forward_hooks \u001b[38;5;129;01mor\u001b[39;00m _global_forward_pre_hooks):\n\u001b[1;32m-> 1562\u001b[0m     \u001b[38;5;28;01mreturn\u001b[39;00m forward_call(\u001b[38;5;241m*\u001b[39margs, \u001b[38;5;241m*\u001b[39m\u001b[38;5;241m*\u001b[39mkwargs)\n\u001b[0;32m   1564\u001b[0m \u001b[38;5;28;01mtry\u001b[39;00m:\n\u001b[0;32m   1565\u001b[0m     result \u001b[38;5;241m=\u001b[39m \u001b[38;5;28;01mNone\u001b[39;00m\n",
      "File \u001b[1;32mc:\\git\\MUIV\\concl\\.venv\\lib\\site-packages\\transformers\\models\\gpt2\\modeling_gpt2.py:575\u001b[0m, in \u001b[0;36mGPT2MLP.forward\u001b[1;34m(self, hidden_states)\u001b[0m\n\u001b[0;32m    573\u001b[0m \u001b[38;5;28;01mdef\u001b[39;00m \u001b[38;5;21mforward\u001b[39m(\u001b[38;5;28mself\u001b[39m, hidden_states: Optional[Tuple[torch\u001b[38;5;241m.\u001b[39mFloatTensor]]) \u001b[38;5;241m-\u001b[39m\u001b[38;5;241m>\u001b[39m torch\u001b[38;5;241m.\u001b[39mFloatTensor:\n\u001b[0;32m    574\u001b[0m     hidden_states \u001b[38;5;241m=\u001b[39m \u001b[38;5;28mself\u001b[39m\u001b[38;5;241m.\u001b[39mc_fc(hidden_states)\n\u001b[1;32m--> 575\u001b[0m     hidden_states \u001b[38;5;241m=\u001b[39m \u001b[38;5;28;43mself\u001b[39;49m\u001b[38;5;241;43m.\u001b[39;49m\u001b[43mact\u001b[49m\u001b[43m(\u001b[49m\u001b[43mhidden_states\u001b[49m\u001b[43m)\u001b[49m\n\u001b[0;32m    576\u001b[0m     hidden_states \u001b[38;5;241m=\u001b[39m \u001b[38;5;28mself\u001b[39m\u001b[38;5;241m.\u001b[39mc_proj(hidden_states)\n\u001b[0;32m    577\u001b[0m     hidden_states \u001b[38;5;241m=\u001b[39m \u001b[38;5;28mself\u001b[39m\u001b[38;5;241m.\u001b[39mdropout(hidden_states)\n",
      "File \u001b[1;32mc:\\git\\MUIV\\concl\\.venv\\lib\\site-packages\\torch\\nn\\modules\\module.py:1553\u001b[0m, in \u001b[0;36mModule._wrapped_call_impl\u001b[1;34m(self, *args, **kwargs)\u001b[0m\n\u001b[0;32m   1551\u001b[0m     \u001b[38;5;28;01mreturn\u001b[39;00m \u001b[38;5;28mself\u001b[39m\u001b[38;5;241m.\u001b[39m_compiled_call_impl(\u001b[38;5;241m*\u001b[39margs, \u001b[38;5;241m*\u001b[39m\u001b[38;5;241m*\u001b[39mkwargs)  \u001b[38;5;66;03m# type: ignore[misc]\u001b[39;00m\n\u001b[0;32m   1552\u001b[0m \u001b[38;5;28;01melse\u001b[39;00m:\n\u001b[1;32m-> 1553\u001b[0m     \u001b[38;5;28;01mreturn\u001b[39;00m \u001b[38;5;28mself\u001b[39m\u001b[38;5;241m.\u001b[39m_call_impl(\u001b[38;5;241m*\u001b[39margs, \u001b[38;5;241m*\u001b[39m\u001b[38;5;241m*\u001b[39mkwargs)\n",
      "File \u001b[1;32mc:\\git\\MUIV\\concl\\.venv\\lib\\site-packages\\torch\\nn\\modules\\module.py:1562\u001b[0m, in \u001b[0;36mModule._call_impl\u001b[1;34m(self, *args, **kwargs)\u001b[0m\n\u001b[0;32m   1557\u001b[0m \u001b[38;5;66;03m# If we don't have any hooks, we want to skip the rest of the logic in\u001b[39;00m\n\u001b[0;32m   1558\u001b[0m \u001b[38;5;66;03m# this function, and just call forward.\u001b[39;00m\n\u001b[0;32m   1559\u001b[0m \u001b[38;5;28;01mif\u001b[39;00m \u001b[38;5;129;01mnot\u001b[39;00m (\u001b[38;5;28mself\u001b[39m\u001b[38;5;241m.\u001b[39m_backward_hooks \u001b[38;5;129;01mor\u001b[39;00m \u001b[38;5;28mself\u001b[39m\u001b[38;5;241m.\u001b[39m_backward_pre_hooks \u001b[38;5;129;01mor\u001b[39;00m \u001b[38;5;28mself\u001b[39m\u001b[38;5;241m.\u001b[39m_forward_hooks \u001b[38;5;129;01mor\u001b[39;00m \u001b[38;5;28mself\u001b[39m\u001b[38;5;241m.\u001b[39m_forward_pre_hooks\n\u001b[0;32m   1560\u001b[0m         \u001b[38;5;129;01mor\u001b[39;00m _global_backward_pre_hooks \u001b[38;5;129;01mor\u001b[39;00m _global_backward_hooks\n\u001b[0;32m   1561\u001b[0m         \u001b[38;5;129;01mor\u001b[39;00m _global_forward_hooks \u001b[38;5;129;01mor\u001b[39;00m _global_forward_pre_hooks):\n\u001b[1;32m-> 1562\u001b[0m     \u001b[38;5;28;01mreturn\u001b[39;00m forward_call(\u001b[38;5;241m*\u001b[39margs, \u001b[38;5;241m*\u001b[39m\u001b[38;5;241m*\u001b[39mkwargs)\n\u001b[0;32m   1564\u001b[0m \u001b[38;5;28;01mtry\u001b[39;00m:\n\u001b[0;32m   1565\u001b[0m     result \u001b[38;5;241m=\u001b[39m \u001b[38;5;28;01mNone\u001b[39;00m\n",
      "File \u001b[1;32mc:\\git\\MUIV\\concl\\.venv\\lib\\site-packages\\transformers\\activations.py:56\u001b[0m, in \u001b[0;36mNewGELUActivation.forward\u001b[1;34m(self, input)\u001b[0m\n\u001b[0;32m     55\u001b[0m \u001b[38;5;28;01mdef\u001b[39;00m \u001b[38;5;21mforward\u001b[39m(\u001b[38;5;28mself\u001b[39m, \u001b[38;5;28minput\u001b[39m: Tensor) \u001b[38;5;241m-\u001b[39m\u001b[38;5;241m>\u001b[39m Tensor:\n\u001b[1;32m---> 56\u001b[0m     \u001b[38;5;28;01mreturn\u001b[39;00m \u001b[38;5;241;43m0.5\u001b[39;49m\u001b[43m \u001b[49m\u001b[38;5;241;43m*\u001b[39;49m\u001b[43m \u001b[49m\u001b[38;5;28;43minput\u001b[39;49m\u001b[43m \u001b[49m\u001b[38;5;241;43m*\u001b[39;49m\u001b[43m \u001b[49m\u001b[43m(\u001b[49m\u001b[38;5;241;43m1.0\u001b[39;49m\u001b[43m \u001b[49m\u001b[38;5;241;43m+\u001b[39;49m\u001b[43m \u001b[49m\u001b[43mtorch\u001b[49m\u001b[38;5;241;43m.\u001b[39;49m\u001b[43mtanh\u001b[49m\u001b[43m(\u001b[49m\u001b[43mmath\u001b[49m\u001b[38;5;241;43m.\u001b[39;49m\u001b[43msqrt\u001b[49m\u001b[43m(\u001b[49m\u001b[38;5;241;43m2.0\u001b[39;49m\u001b[43m \u001b[49m\u001b[38;5;241;43m/\u001b[39;49m\u001b[43m \u001b[49m\u001b[43mmath\u001b[49m\u001b[38;5;241;43m.\u001b[39;49m\u001b[43mpi\u001b[49m\u001b[43m)\u001b[49m\u001b[43m \u001b[49m\u001b[38;5;241;43m*\u001b[39;49m\u001b[43m \u001b[49m\u001b[43m(\u001b[49m\u001b[38;5;28;43minput\u001b[39;49m\u001b[43m \u001b[49m\u001b[38;5;241;43m+\u001b[39;49m\u001b[43m \u001b[49m\u001b[38;5;241;43m0.044715\u001b[39;49m\u001b[43m \u001b[49m\u001b[38;5;241;43m*\u001b[39;49m\u001b[43m \u001b[49m\u001b[43mtorch\u001b[49m\u001b[38;5;241;43m.\u001b[39;49m\u001b[43mpow\u001b[49m\u001b[43m(\u001b[49m\u001b[38;5;28;43minput\u001b[39;49m\u001b[43m,\u001b[49m\u001b[43m \u001b[49m\u001b[38;5;241;43m3.0\u001b[39;49m\u001b[43m)\u001b[49m\u001b[43m)\u001b[49m\u001b[43m)\u001b[49m\u001b[43m)\u001b[49m\n",
      "\u001b[1;31mKeyboardInterrupt\u001b[0m: "
     ]
    }
   ],
   "source": [
    "import torch.optim as optim\n",
    "from datasets import load_dataset\n",
    "from transformers import GPT2LMHeadModel, GPT2Tokenizer\n",
    "\n",
    "# Настройки устройства\n",
    "device = torch.device(\"cuda\" if torch.cuda.is_available() else \"cpu\")\n",
    "print(f\"Using device: {device}\")\n",
    "\n",
    "# Загрузка модели GPT-2 и токенизатора\n",
    "gpt2_model = GPT2LMHeadModel.from_pretrained(\"gpt2\").to(device)\n",
    "tokenizer = GPT2Tokenizer.from_pretrained(\"gpt2\")\n",
    "\n",
    "# Загрузка датасета и подготовка промежуточных данных\n",
    "dataset = load_dataset(\"wikitext\", \"wikitext-2-raw-v1\", split=\"train\")\n",
    "intermediate_dataset_path = \"intermediate_dataset.json\"\n",
    "\n",
    "# Генерация промежуточного датасета, если он еще не создан\n",
    "if not os.path.exists(intermediate_dataset_path):\n",
    "    generate_intermediate_dataset(dataset, tokenizer, gpt2_model, device=device, intermediate_dataset_path=intermediate_dataset_path)\n",
    "else:\n",
    "    # Загрузка промежуточного датасета\n",
    "    intermediate_data = load_intermediate_dataset(intermediate_dataset_path)\n",
    "\n",
    "# Инициализация модели сжатия контекста\n",
    "input_size = 768  # Размер входных данных модели GPT-2\n",
    "hidden_size = 256  # Скрытый размер для оптимизатора контекста\n",
    "context_optimizer = ContextOptimizer(input_size, hidden_size).to(device)\n",
    "\n",
    "# Загрузка сохраненной модели, если она существует\n",
    "load_model(context_optimizer, context_optimizer, \"context_optimizer.pth\")\n",
    "\n",
    "# Запуск обучения\n",
    "raw_loss_values, compressed_loss_values, fragment_loss_values = train_context_optimizer(context_optimizer, intermediate_data, tokenizer, gpt2_model, epochs=10, device=device)\n",
    "\n",
    "# Сохранение модели после обучения\n",
    "save_model(context_optimizer, context_optimizer, \"context_optimizer.pth\")"
   ]
  },
  {
   "cell_type": "markdown",
   "metadata": {},
   "source": [
    "## Предподготовка данных"
   ]
  },
  {
   "cell_type": "code",
   "execution_count": 71,
   "metadata": {},
   "outputs": [
    {
     "name": "stdout",
     "output_type": "stream",
     "text": [
      "Using device: cpu\n",
      "Начало подготовки данных...\n",
      "Оценка времени выполнения цикла: 435.63 секунд для 999 записей.\n",
      "Промежуточный датасет создан с 197 записями, включая значения потерь и предсказания.\n"
     ]
    }
   ],
   "source": [
    "import json\n",
    "import torch\n",
    "import time\n",
    "from transformers import GPT2Tokenizer, GPT2LMHeadModel\n",
    "from datasets import load_dataset\n",
    "import torch.nn as nn\n",
    "\n",
    "\n",
    "def generate_intermediate_dataset(dataset, tokenizer, gpt2_model, device=\"cpu\", intermediate_dataset_path=\"intermediate_dataset.json\"):\n",
    "    intermediate_data = []\n",
    "    criterion = nn.MSELoss()\n",
    "\n",
    "    # Подготавливаем данные\n",
    "    print(\"Начало подготовки данных...\")\n",
    "    prepared_data = prepare_data(dataset, max_length=500)\n",
    "\n",
    "    # Оценка времени выполнения цикла для первых пяти итераций\n",
    "    cycle_times = []\n",
    "    for i, (context, current_fragment, target) in enumerate(prepared_data[:5]):\n",
    "        if context is None or current_fragment is None:\n",
    "            continue\n",
    "\n",
    "        cycle_start_time = time.time()\n",
    "\n",
    "        # Подготовка целевого предсказания\n",
    "        target_input = tokenizer(target, return_tensors=\"pt\").to(device)\n",
    "        with torch.no_grad():\n",
    "            target_output = gpt2_model(**target_input, output_hidden_states=True)\n",
    "            target_embedding = target_output.hidden_states[-1].mean(dim=1)\n",
    "\n",
    "        # Предсказание по сырому контексту (предыстория + текущий фрагмент)\n",
    "        raw_inputs = tokenizer(context + \" \" + current_fragment, return_tensors=\"pt\").to(device)\n",
    "        with torch.no_grad():\n",
    "            raw_outputs = gpt2_model(**raw_inputs, output_hidden_states=True)\n",
    "            raw_combined_embedding = raw_outputs.hidden_states[-1].mean(dim=1)\n",
    "            raw_loss = criterion(raw_combined_embedding, target_embedding).item()\n",
    "            raw_prediction = tokenizer.decode(raw_outputs.logits.argmax(-1).squeeze().tolist())\n",
    "\n",
    "        # Предсказание только по текущему фрагменту\n",
    "        fragment_input = tokenizer(current_fragment, return_tensors=\"pt\").to(device)\n",
    "        with torch.no_grad():\n",
    "            fragment_output = gpt2_model(**fragment_input, output_hidden_states=True)\n",
    "            fragment_embedding = fragment_output.hidden_states[-1].mean(dim=1)\n",
    "            fragment_loss = criterion(fragment_embedding, target_embedding).item()\n",
    "            fragment_prediction = tokenizer.decode(fragment_output.logits.argmax(-1).squeeze().tolist())\n",
    "\n",
    "        cycle_end_time = time.time()\n",
    "        cycle_times.append(cycle_end_time - cycle_start_time)\n",
    "\n",
    "        # Фильтрация по критерию fragment_loss > raw_loss\n",
    "        if fragment_loss > raw_loss and fragment_loss < 1:\n",
    "            # Сохранение всех значений и предсказаний\n",
    "            intermediate_data.append(\n",
    "                {\n",
    "                    \"context\": context,\n",
    "                    \"current_fragment\": current_fragment,\n",
    "                    \"target\": tokenizer.decode(target_input[\"input_ids\"].squeeze().tolist()),\n",
    "                    \"raw_loss\": raw_loss,\n",
    "                    \"fragment_loss\": fragment_loss,\n",
    "                    \"raw_prediction\": raw_prediction,\n",
    "                    \"fragment_prediction\": fragment_prediction,\n",
    "                }\n",
    "            )\n",
    "\n",
    "    # Оценка общего времени выполнения цикла на основе первых пяти измерений\n",
    "    avg_cycle_time = sum(cycle_times) / len(cycle_times) if cycle_times else 0\n",
    "    estimated_total_time = avg_cycle_time * len(prepared_data)\n",
    "    print(f\"Оценка времени выполнения цикла: {estimated_total_time:.2f} секунд для {len(prepared_data)} записей.\")\n",
    "\n",
    "    # Продолжение обработки остальных данных после оценки времени\n",
    "    for i, (context, current_fragment, target) in enumerate(prepared_data[5:]):\n",
    "        if context is None or current_fragment is None:\n",
    "            continue\n",
    "\n",
    "        # Подготовка целевого предсказания\n",
    "        target_input = tokenizer(target, return_tensors=\"pt\").to(device)\n",
    "        with torch.no_grad():\n",
    "            target_output = gpt2_model(**target_input, output_hidden_states=True)\n",
    "            target_embedding = target_output.hidden_states[-1].mean(dim=1)\n",
    "\n",
    "        # Предсказание по сырому контексту (предыстория + текущий фрагмент)\n",
    "        raw_inputs = tokenizer(context + \" \" + current_fragment, return_tensors=\"pt\").to(device)\n",
    "        with torch.no_grad():\n",
    "            raw_outputs = gpt2_model(**raw_inputs, output_hidden_states=True)\n",
    "            raw_combined_embedding = raw_outputs.hidden_states[-1].mean(dim=1)\n",
    "            raw_loss = criterion(raw_combined_embedding, target_embedding).item()\n",
    "            raw_prediction = tokenizer.decode(raw_outputs.logits.argmax(-1).squeeze().tolist())\n",
    "\n",
    "        # Предсказание только по текущему фрагменту\n",
    "        fragment_input = tokenizer(current_fragment, return_tensors=\"pt\").to(device)\n",
    "        with torch.no_grad():\n",
    "            fragment_output = gpt2_model(**fragment_input, output_hidden_states=True)\n",
    "            fragment_embedding = fragment_output.hidden_states[-1].mean(dim=1)\n",
    "            fragment_loss = criterion(fragment_embedding, target_embedding).item()\n",
    "            fragment_prediction = tokenizer.decode(fragment_output.logits.argmax(-1).squeeze().tolist())\n",
    "\n",
    "        # Фильтрация по критерию fragment_loss > raw_loss and fragment_loss <= 1\n",
    "        if fragment_loss > raw_loss and fragment_loss < 1:\n",
    "            # Сохранение всех значений и предсказаний\n",
    "            intermediate_data.append(\n",
    "                {\n",
    "                    \"context\": context,\n",
    "                    \"current_fragment\": current_fragment,\n",
    "                    \"target\": tokenizer.decode(target_input[\"input_ids\"].squeeze().tolist()),\n",
    "                    \"raw_loss\": raw_loss,\n",
    "                    \"fragment_loss\": fragment_loss,\n",
    "                    \"raw_prediction\": raw_prediction,\n",
    "                    \"fragment_prediction\": fragment_prediction,\n",
    "                }\n",
    "            )\n",
    "\n",
    "    # Сохранение промежуточного датасета в JSON\n",
    "    with open(intermediate_dataset_path, \"w\") as f:\n",
    "        json.dump(intermediate_data, f, indent=4)\n",
    "\n",
    "    print(f\"Промежуточный датасет создан с {len(intermediate_data)} записями, включая значения потерь и предсказания.\")\n",
    "\n",
    "\n",
    "# Настройки\n",
    "device = torch.device(\"cuda\" if torch.cuda.is_available() else \"cpu\")\n",
    "print(f\"Using device: {device}\")\n",
    "\n",
    "# Загружаем датасет wikitext-2-raw-v1\n",
    "dataset = load_dataset(\"wikitext\", \"wikitext-2-raw-v1\", split=\"train\")\n",
    "\n",
    "# Инициализация токенизатора и модели GPT-2\n",
    "tokenizer = GPT2Tokenizer.from_pretrained(\"gpt2\")\n",
    "gpt2_model = GPT2LMHeadModel.from_pretrained(\"gpt2\").to(device)\n",
    "\n",
    "# Задаем путь для сохранения промежуточного датасета\n",
    "intermediate_dataset_path = \"intermediate_dataset.json\"\n",
    "\n",
    "# Генерация промежуточного датасета\n",
    "generate_intermediate_dataset(dataset, tokenizer, gpt2_model, device, intermediate_dataset_path)"
   ]
  },
  {
   "cell_type": "code",
   "execution_count": 64,
   "metadata": {},
   "outputs": [
    {
     "name": "stdout",
     "output_type": "stream",
     "text": [
      "Using device: cpu\n"
     ]
    },
    {
     "name": "stderr",
     "output_type": "stream",
     "text": [
      "c:\\git\\MUIV\\concl\\.venv\\lib\\site-packages\\transformers\\tokenization_utils_base.py:1601: FutureWarning: `clean_up_tokenization_spaces` was not set. It will be set to `True` by default. This behavior will be depracted in transformers v4.45, and will be then set to `False` by default. For more details check this issue: https://github.com/huggingface/transformers/issues/31884\n",
      "  warnings.warn(\n"
     ]
    },
    {
     "name": "stdout",
     "output_type": "stream",
     "text": [
      "Начало подготовки данных...\n",
      "Данные подгружены.\n",
      "Оценка времени подготовки данных: 276.26 секунд для 999 записей.\n",
      "Промежуточный датасет создан с 999 записями, включая значения потерь.\n"
     ]
    }
   ],
   "source": [
    "# Устарело\n",
    "import json\n",
    "import torch\n",
    "import time\n",
    "from transformers import GPT2Tokenizer, GPT2LMHeadModel\n",
    "from datasets import load_dataset\n",
    "import torch.nn as nn\n",
    "\n",
    "\n",
    "def generate_intermediate_dataset(dataset, tokenizer, gpt2_model, device=\"cpu\", intermediate_dataset_path=\"intermediate_dataset.json\"):\n",
    "    intermediate_data = []\n",
    "    criterion = nn.MSELoss()\n",
    "\n",
    "    # Подготовка данных\n",
    "    print(\"Начало подготовки данных...\")\n",
    "    start_time = time.time()\n",
    "    prepared_data = prepare_data(dataset, max_length=500)\n",
    "    print(\"Данные подгружены.\")\n",
    "    # Оценка времени подготовки данных\n",
    "    preparation_times = []\n",
    "    for i, (context, current_fragment, target) in enumerate(prepared_data[:5]):\n",
    "        if context is None or current_fragment is None:\n",
    "            continue\n",
    "        preparation_times.append(time.time() - start_time)\n",
    "        start_time = time.time()\n",
    "\n",
    "    avg_preparation_time = sum(preparation_times) / len(preparation_times)\n",
    "    estimated_total_time = avg_preparation_time * len(prepared_data)\n",
    "    print(f\"Оценка времени подготовки данных: {estimated_total_time:.2f} секунд для {len(prepared_data)} записей.\")\n",
    "\n",
    "    for i, (context, current_fragment, target) in enumerate(prepared_data):\n",
    "        if context is None or current_fragment is None:\n",
    "            continue\n",
    "\n",
    "        # Подготовка целевого предсказания\n",
    "        target_input = tokenizer(target, return_tensors=\"pt\").to(device)\n",
    "        with torch.no_grad():\n",
    "            target_output = gpt2_model(**target_input, output_hidden_states=True)\n",
    "            target_embedding = target_output.hidden_states[-1].mean(dim=1)\n",
    "\n",
    "        # Предсказание по сырому контексту (предыстория + текущий фрагмент)\n",
    "        raw_inputs = tokenizer(context + \" \" + current_fragment, return_tensors=\"pt\").to(device)\n",
    "        with torch.no_grad():\n",
    "            raw_outputs = gpt2_model(**raw_inputs, output_hidden_states=True)\n",
    "            raw_combined_embedding = raw_outputs.hidden_states[-1].mean(dim=1)\n",
    "            raw_loss = criterion(raw_combined_embedding, target_embedding).item()\n",
    "\n",
    "        # Предсказание только по текущему фрагменту\n",
    "        fragment_input = tokenizer(current_fragment, return_tensors=\"pt\").to(device)\n",
    "        with torch.no_grad():\n",
    "            fragment_output = gpt2_model(**fragment_input, output_hidden_states=True)\n",
    "            fragment_embedding = fragment_output.hidden_states[-1].mean(dim=1)\n",
    "            fragment_loss = criterion(fragment_embedding, target_embedding).item()\n",
    "\n",
    "        # Сохранение всех значений и предсказаний\n",
    "        intermediate_data.append(\n",
    "            {\n",
    "                \"context\": context,\n",
    "                \"current_fragment\": current_fragment,\n",
    "                \"target\": tokenizer.decode(target_input[\"input_ids\"].squeeze().tolist()),\n",
    "                \"raw_loss\": raw_loss,\n",
    "                \"fragment_loss\": fragment_loss,\n",
    "            }\n",
    "        )\n",
    "\n",
    "    # Сохранение промежуточного датасета в JSON\n",
    "    with open(intermediate_dataset_path, \"w\") as f:\n",
    "        json.dump(intermediate_data, f, indent=4)\n",
    "\n",
    "    print(f\"Промежуточный датасет создан с {len(intermediate_data)} записями, включая значения потерь.\")\n",
    "\n",
    "\n",
    "# Настройки\n",
    "device = torch.device(\"cuda\" if torch.cuda.is_available() else \"cpu\")\n",
    "print(f\"Using device: {device}\")\n",
    "\n",
    "# Загружаем датасет wikitext-2-raw-v1\n",
    "dataset = load_dataset(\"wikitext\", \"wikitext-2-raw-v1\", split=\"train\")\n",
    "\n",
    "# Инициализация токенизатора и модели GPT-2\n",
    "tokenizer = GPT2Tokenizer.from_pretrained(\"gpt2\")\n",
    "gpt2_model = GPT2LMHeadModel.from_pretrained(\"gpt2\").to(device)  # Используем 'cpu', можно заменить на 'cuda' при использовании GPU\n",
    "\n",
    "# Задаем путь для сохранения промежуточного датасета\n",
    "intermediate_dataset_path = \"intermediate_dataset.json\"\n",
    "\n",
    "# Генерация промежуточного датасета\n",
    "generate_intermediate_dataset(dataset, tokenizer, gpt2_model, device, intermediate_dataset_path)"
   ]
  }
 ],
 "metadata": {
  "kernelspec": {
   "display_name": ".venv",
   "language": "python",
   "name": "python3"
  },
  "language_info": {
   "codemirror_mode": {
    "name": "ipython",
    "version": 3
   },
   "file_extension": ".py",
   "mimetype": "text/x-python",
   "name": "python",
   "nbconvert_exporter": "python",
   "pygments_lexer": "ipython3",
   "version": "3.9.13"
  }
 },
 "nbformat": 4,
 "nbformat_minor": 2
}
