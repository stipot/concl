{
 "cells": [
  {
   "cell_type": "markdown",
   "metadata": {},
   "source": [
    "# Разработка метода обогащения векторного представления\n",
    "* Поиск по векторным представлениям: утверждение, утверждение + контекст, утверждение + сжатый контекст\n",
    "* Работа с зашумлением данных"
   ]
  },
  {
   "cell_type": "code",
   "execution_count": null,
   "metadata": {},
   "outputs": [],
   "source": []
  }
 ],
 "metadata": {
  "language_info": {
   "name": "python"
  }
 },
 "nbformat": 4,
 "nbformat_minor": 2
}
